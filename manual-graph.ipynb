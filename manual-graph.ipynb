{
 "cells": [
  {
   "cell_type": "code",
   "execution_count": 1,
   "metadata": {},
   "outputs": [],
   "source": [
    "# from neo4j import GraphDatabase\n",
    "\n",
    "# # URI examples: \"neo4j://localhost\", \"neo4j+s://xxx.databases.neo4j.io\"\n",
    "# URI = \"neo4j://localhost\"\n",
    "# AUTH = (\"<Username>\", \"<Password>\")\n",
    "\n",
    "# with GraphDatabase.driver(URI, auth=AUTH) as driver:\n",
    "#     driver.verify_connectivity()\n",
    "\n",
    "# #----\n",
    "\n",
    "# summary = driver.execute_query(\n",
    "#     \"CREATE (:Person {name: $name, age: $age})\",\n",
    "#     name=\"Alice\",\n",
    "#     age=42,\n",
    "#     database_=\"neo4j\",\n",
    "# ).summary\n",
    "# print(\"Created {nodes_created} nodes in {time} ms.\".format(\n",
    "#     nodes_created=summary.counters.nodes_created,\n",
    "#     time=summary.result_available_after\n",
    "# ))\n",
    "\n",
    "# #----\n",
    "\n",
    "# # Get the name of all 42 year-olds\n",
    "# records, summary, keys = driver.execute_query(\n",
    "#     \"MATCH (p:Person {age: $age}) RETURN p.name AS name\",\n",
    "#     age=42,\n",
    "#     database_=\"neo4j\",\n",
    "# )\n",
    "\n",
    "# # Loop through results and do something with them\n",
    "# for person in records:\n",
    "#     print(person)\n",
    "\n",
    "# # Summary information\n",
    "# print(\"The query `{query}` returned {records_count} records in {time} ms.\".format(\n",
    "#     query=summary.query, records_count=len(records),\n",
    "#     time=summary.result_available_after,\n",
    "# ))"
   ]
  },
  {
   "cell_type": "code",
   "execution_count": 7,
   "metadata": {},
   "outputs": [],
   "source": [
    "# Common data processing\n",
    "import textwrap\n",
    "\n",
    "# Langchain\n",
    "from langchain_community.graphs import Neo4jGraph\n",
    "from langchain_community.vectorstores import Neo4jVector\n",
    "from langchain.text_splitter import RecursiveCharacterTextSplitter\n",
    "from langchain.chains import RetrievalQAWithSourcesChain\n",
    "\n",
    "# Warning control\n",
    "import warnings\n",
    "warnings.filterwarnings(\"ignore\")"
   ]
  },
  {
   "cell_type": "code",
   "execution_count": 2,
   "metadata": {},
   "outputs": [],
   "source": [
    "# Connect to local Neo4J database\n",
    "\n",
    "NEO4J_URI = \"neo4j://localhost\"\n",
    "NEO4J_USERNAME = \"neo4j\"\n",
    "NEO4J_PASSWORD = \"admin123\"\n",
    "NEO4J_DATABASE = \"neo4j\"\n",
    "\n",
    "kg = Neo4jGraph(\n",
    "    url=NEO4J_URI, username=NEO4J_USERNAME, password=NEO4J_PASSWORD, database=NEO4J_DATABASE\n",
    ")"
   ]
  },
  {
   "cell_type": "code",
   "execution_count": 5,
   "metadata": {},
   "outputs": [
    {
     "name": "stderr",
     "output_type": "stream",
     "text": [
      "/var/folders/fx/cz_1x_6x0x99jmwy2v17jx540000gn/T/ipykernel_17065/3376357376.py:6: LangChainDeprecationWarning: Default values for HuggingFaceEmbeddings.model_name were deprecated in LangChain 0.2.16 and will be removed in 0.4.0. Explicitly pass a model_name to the HuggingFaceEmbeddings constructor instead.\n",
      "  text_splitter = SemanticChunker(HuggingFaceEmbeddings())\n",
      "/Users/murathansaygili/Desktop/knowledge-graph/venv_graph/lib/python3.11/site-packages/sentence_transformers/cross_encoder/CrossEncoder.py:13: TqdmWarning: IProgress not found. Please update jupyter and ipywidgets. See https://ipywidgets.readthedocs.io/en/stable/user_install.html\n",
      "  from tqdm.autonotebook import tqdm, trange\n"
     ]
    },
    {
     "name": "stdout",
     "output_type": "stream",
     "text": [
      "Number of pages in the PDF: 237\n"
     ]
    },
    {
     "data": {
      "text/plain": [
       "'An Overview Of İşbank Looking Into the Future How We Create Value Reliable Financial Actor Responsible Operations Good Corporate Citizen Financial Reports and Annexes\\nIntroduction\\nThe Bank of Türkiye and the Future\\nfor Exactly 100 Years!\\nCelebrating its century- While celebrating our 100th anniversary, we are reinforcing highlighting not just our\\naccomplishments but also our long-standing dedication to responsible banking that has\\nold corporate heritage by\\nshaped our identity. This report summarizes our efforts towards a sustainable future and is a\\nblending it with innovation testament to our commitment to environmental, social, and governance responsibilities.\\nand a vision of the future,\\nCelebrating its 100th anniversary in 2024 as one of our Republic\\'s longest-established\\nİşbank proudly presents institutions, İşbank is an institution synonymous with trust and reputation. Since its\\nfoundation, İşbank has been committed to supporting the country\\'s economy. As a\\nits 100th anniversary\\nRepublican institution, İşbank played an important transformative role in the national\\nIntegrated Annual Report. economy, throughout its history. The Bank seeks to be an innovative, reliable, and respected\\nfinancial organization in its second century, drawing strength from its past and seeing itself\\nas \"the bank of the future\".\\nThe 2023 Integrated Annual Report intends to inform its stakeholders how on the Bank\\'s\\npreparations for its second century, as well as its priorities and strategies for this period.\\nThe İşbank 2023 Integrated Annual Report details the Bank\\'s value creation for its stakeholders in four main sections.\\nHow Do We Create Value? Reliable Financial Actor\\nsection explains İşbank\\'s value creation process , section describes İşbank\\'s role as a financial organization\\nemphasizing the İşbank Banking model that prioritizes supporting an inclusive and vibrant economy. This section\\nsustainability. This section comprises the sustainability includes İşbank\\'s sustainable financial performance goals,\\npriorities revised in 2023 in accordance with the “double customer experience considered during product and\\nmateriality” approach and the Bank\\'s new strategic service presentation, inclusiveness, financial literacy, and\\ngoals, sustainability initiatives supported, stakeholder savings awareness efforts. İşbank\\'s business strategy\\ncommunication, and contribution to the United Nations involves establishing itself as a key actor in climate action.\\nSustainable Development Goals. The Bank has described its role in the transition economy\\nand its targets in this field under this heading, together with\\nthe digitization journey, which is critical to the Bank\\'s vision\\nof becoming the \"bank of the future\".\\nResponsible Operations Good Corporate Citizen\\nsection sets out İşbank\\'s projects and practices to section provides an overview of the Bank\\'s corporate\\nminimize the negative environmental impacts of its governance structure, ethical and principled banking\\noperations and promote its working standards throughout approach, effective risk management for short and long-\\nthe supply chain. The section also covers İşbank\\'s term risks and opportunities, management principles, and\\nemployer approach, workplace practices, and employee performance.\\npreparation for the future of business.\\n4 İşbank 2023 Integrated Annual Report İşbank 2023 Integrated Annual Report 5\\n'"
      ]
     },
     "execution_count": 5,
     "metadata": {},
     "output_type": "execute_result"
    }
   ],
   "source": [
    "from langchain_community.document_loaders import PDFPlumberLoader\n",
    "from langchain.embeddings import HuggingFaceEmbeddings\n",
    "from langchain_experimental.text_splitter import SemanticChunker\n",
    "loader = PDFPlumberLoader(\"ISBANK2023.pdf\")\n",
    "docs = loader.load()\n",
    "text_splitter = SemanticChunker(HuggingFaceEmbeddings())\n",
    "documents = text_splitter.split_documents(docs)\n",
    "# Check the number of pages\n",
    "print(\"Number of pages in the PDF:\",len(docs))\n",
    "\n",
    "# Load the random page content\n",
    "docs[2].page_content"
   ]
  },
  {
   "cell_type": "code",
   "execution_count": 3,
   "metadata": {},
   "outputs": [],
   "source": [
    "# Create a sample dataframe\n",
    "import pandas as pd\n",
    "\n",
    "# Data for the dataframe\n",
    "data = {\n",
    "    'Character': [\n",
    "        'Luke Skywalker', 'Darth Vader (Anakin)', 'Princess Leia Organa', 'Han Solo', 'Yoda',\n",
    "        'Obi-Wan Kenobi', 'Palpatine (Emperor)', 'Chewbacca', 'R2-D2', 'C-3PO',\n",
    "        'Boba Fett', 'Jabba the Hutt', 'Lando Calrissian', 'Padmé Amidala', 'Qui-Gon Jinn',\n",
    "        'Mace Windu', 'Ahsoka Tano', 'Kylo Ren (Ben Solo)', 'Rey Skywalker', 'Finn',\n",
    "        'Poe Dameron', 'Count Dooku', 'Darth Maul', 'Jango Fett', 'General Grievous',\n",
    "        'Rose Tico', 'Captain Phasma', 'BB-8', 'Admiral Ackbar', 'Wedge Antilles',\n",
    "        'Mon Mothma', 'Ezra Bridger', 'Sabine Wren', 'Kanan Jarrus', 'Grand Admiral Thrawn',\n",
    "        'Jyn Erso', 'Cassian Andor', 'Chirrut Îmwe', 'Saw Gerrera', 'Orson Krennic'\n",
    "    ],\n",
    "    'First Movie': [\n",
    "        'Star Wars: A New Hope', 'Star Wars: A New Hope', 'Star Wars: A New Hope', 'Star Wars: A New Hope',\n",
    "        'Star Wars: The Empire Strikes Back', 'Star Wars: A New Hope', 'Star Wars: The Empire Strikes Back', \n",
    "        'Star Wars: A New Hope', 'Star Wars: A New Hope', 'Star Wars: A New Hope',\n",
    "        'Star Wars: The Empire Strikes Back', 'Star Wars: Return of the Jedi', 'Star Wars: The Empire Strikes Back',\n",
    "        'Star Wars: The Phantom Menace', 'Star Wars: The Phantom Menace', 'Star Wars: The Phantom Menace',\n",
    "        'Star Wars: The Clone Wars', 'Star Wars: The Force Awakens', 'Star Wars: The Force Awakens', 'Star Wars: The Force Awakens','Star Wars: The Force Awakens',\n",
    "        'Star Wars: Attack of the Clones', 'Star Wars: The Phantom Menace', 'Star Wars: Attack of the Clones', \n",
    "        'Star Wars: Revenge of the Sith', 'Star Wars: The Last Jedi', 'Star Wars: The Force Awakens', \n",
    "        'Star Wars: The Force Awakens', 'Star Wars: Return of the Jedi', 'Star Wars: A New Hope', \n",
    "        'Star Wars: Return of the Jedi', 'Star Wars Rebels', 'Star Wars Rebels', 'Star Wars Rebels', \n",
    "        'Star Wars Rebels', 'Rogue One: A Star Wars Story', 'Rogue One: A Star Wars Story', 'Rogue One: A Star Wars Story',\n",
    "        'Star Wars: The Clone Wars', 'Rogue One: A Star Wars Story'\n",
    "    ],\n",
    "    'Year': [\n",
    "        1977, 1977, 1977, 1977, 1980, 1977, 1980, 1977, 1977, 1977, \n",
    "        1980, 1983, 1980, 1999, 1999, 1999, 2008, 2015, 2015, 2015,\n",
    "        2002, 1999, 2002, 2005, 2017, 2015, 2015, 1983, 1977, 1983, \n",
    "        2014, 2014, 2014, 2016, 2016, 2016, 2012, 2016, 2012, 2016\n",
    "    ],\n",
    "    'Background Summary': [\n",
    "        \"\"\"Luke Skywalker is one of the most iconic characters in cinematic history, originating from the classic “Star Wars” franchise. His journey from a farm boy on the remote desert planet of Tatooine to the galaxy’s greatest Jedi Knight is a tale of hope, perseverance, self-discovery, and the eternal struggle between good and evil. As the son of Anakin Skywalker (Darth Vader) and Padmé Amidala, Luke was born into a lineage that was pivotal to the fate of the galaxy. Hidden from his father after the fall of the Jedi Order and the rise of the Galactic Empire, Luke was raised by his Uncle Owen and Aunt Beru on Tatooine. Though initially unaware of his true heritage, Luke was always drawn to something greater than the life of a moisture farmer.\n",
    "Luke’s journey truly begins when he encounters the droids R2-D2 and C-3PO, who carry a message from Princess Leia Organa (his twin sister, though he does not know it yet). This message leads Luke to the reclusive Jedi Master Obi-Wan Kenobi, who reveals the basics of the Force to him and provides him with his father’s lightsaber. This meeting sets Luke on a path that will not only change his life but also alter the course of the galaxy. After his uncle and aunt are killed by Imperial stormtroopers, Luke has nothing left on Tatooine and decides to join Obi-Wan on a mission to help Princess Leia and the Rebel Alliance.\n",
    "\n",
    "Throughout the original trilogy, Luke undergoes significant growth, evolving from an eager but inexperienced young man to a wise and powerful Jedi Knight. His journey is heavily influenced by his mentors, Obi-Wan Kenobi and Yoda. In “Star Wars: A New Hope,” Luke joins forces with Princess Leia, Han Solo, and others to destroy the Empire’s massive superweapon, the Death Star. His piloting skills in the battle showcase his natural talent and connection to the Force. It is during this time that he begins to embrace the idea of becoming a Jedi, a path that will test him physically, mentally, and spiritually.\n",
    "\n",
    "In “The Empire Strikes Back,” Luke’s training under Yoda on Dagobah is one of the most iconic sequences in Star Wars. Here, Luke learns more about the Force, but he also confronts his own fears and doubts. The revelation that Darth Vader is his father is one of the most shocking moments in film history, and it profoundly impacts Luke. He grapples with the knowledge that the man responsible for so much pain and suffering in the galaxy is also the man who fathered him. This revelation makes Luke’s journey even more complicated, as he must decide whether to follow the path of the Jedi or risk falling to the dark side, as his father did.\n",
    "\n",
    "In “Return of the Jedi,” Luke emerges as a fully-fledged Jedi Knight. His mission to redeem his father and defeat the Emperor becomes the central focus of his story. Luke’s compassion and refusal to give up on Anakin Skywalker ultimately lead to the redemption of his father and the downfall of the Sith. By rejecting the Emperor’s temptation to turn to the dark side, Luke proves himself to be the embodiment of the Jedi ideals of hope, selflessness, and the belief in the goodness of others. His final confrontation with Darth Vader is not just a physical battle but a test of his character and faith in the light side of the Force.\n",
    "\n",
    "After the defeat of the Empire, Luke goes on to rebuild the Jedi Order, though this process is fraught with difficulties. His journey is expanded in the sequel trilogy, where we see an older, disillusioned Luke, who has gone into self-imposed exile after a disastrous attempt to train a new generation of Jedi. The rise of Kylo Ren (Ben Solo, Luke’s nephew) and the fall of his Jedi students deeply affects Luke, leading him to question the legacy of the Jedi and his role in the galaxy’s ongoing conflict. Despite his initial reluctance, Luke returns to the fight in “The Last Jedi” by projecting his Force presence to confront Kylo Ren and inspire the Resistance. His sacrifice allows the remnants of the Resistance to escape, and his legend grows even further, solidifying his place as one of the galaxy’s greatest heroes.\n",
    "\n",
    "Luke Skywalker’s legacy continues to influence the Star Wars universe. He is the quintessential hero, a symbol of hope and perseverance in the face of overwhelming odds. From his humble beginnings on Tatooine to his role as the redeemer of Anakin Skywalker and savior of the galaxy, Luke’s character arc is one of the most well-developed and beloved in all of science fiction and fantasy.\n",
    "\n",
    "This version of Luke Skywalker draws upon his appearances in the original trilogy (“A New Hope,” “The Empire Strikes Back,” and “Return of the Jedi”), as well as his expanded role in the sequel trilogy (“The Force Awakens,” “The Last Jedi,” and “The Rise of Skywalker”). His story is also explored in numerous novels, comic books, and animated series that flesh out his journey to restore the Jedi Order and maintain peace in the galaxy. Through these additional materials, fans get to see Luke in various stages of his life, from a young and idealistic Jedi-in-training to a wise but burdened mentor figure who ultimately finds redemption and peace in his final moments.\n",
    "\n",
    "Luke Skywalker’s significance to the Star Wars mythos cannot be overstated. He represents the core themes of the saga: the battle between light and dark, the importance of family and legacy, and the enduring belief that even the darkest individuals can find redemption. His story is one of hope, not just for the galaxy, but for all those who seek to overcome their inner demons and rise above adversity.\n",
    "\n",
    "This example provides a comprehensive character background with deep insights into Luke Skywalker’s journey and significance. Each character in your DataFrame will have a similarly detailed and expanded summary that goes beyond their initial description, pulling from movies, shows, and other Star Wars media.'\n",
    "\"\"\",\n",
    "        \"\"\"Anakin Skywalker, who later becomes Darth Vader, is one of the most complex and tragic characters in the Star Wars saga. Born as a slave on Tatooine, Anakin’s potential in the Force was recognized at a young age by Jedi Master Qui-Gon Jinn, who believed Anakin to be the Chosen One, prophesized to bring balance to the Force. Qui-Gon’s belief in Anakin was so strong that, even as he lay dying, he implored his apprentice, Obi-Wan Kenobi, to train the boy as a Jedi. This began Anakin’s journey from an innocent, yet extraordinarily talented boy, to the dark enforcer of the Galactic Empire, Darth Vader.\n",
    "\n",
    "Anakin’s early life was filled with hardship. Raised by his mother, Shmi Skywalker, in the harsh conditions of the desert planet, he yearned for freedom and adventure. His natural instincts and connection to the Force allowed him to become a skilled podracer, a rare feat for a human, and eventually, it was his talents that brought him into contact with Qui-Gon and Obi-Wan. However, Anakin’s fear of losing those he loved—stemming from his separation from his mother—was a driving force behind many of his decisions, which would eventually lead him to fall to the dark side.\n",
    "\n",
    "As a Jedi, Anakin was exceptionally powerful, but his impulsive nature, emotional instability, and desire for control made him a difficult student for the Jedi Council. Although he earned a place as Obi-Wan’s apprentice, Anakin frequently questioned the Jedi’s teachings, particularly their emphasis on emotional detachment. This became especially evident when he secretly married Padmé Amidala, the former Queen of Naboo, an action that was strictly forbidden by the Jedi Code.\n",
    "\n",
    "The most significant turning point in Anakin’s life came during the Clone Wars, a galactic conflict that spanned several years. During the war, Anakin earned a reputation as a fearless warrior and a brilliant strategist, leading countless missions for the Republic. However, his experiences in the war further fed his anger, impatience, and fear of loss. His worst fears were realized when he began having visions of Padmé dying in childbirth, similar to the dreams that foreshadowed his mother’s death. Desperate to prevent this, Anakin was seduced by Emperor Palpatine (then known as Chancellor Palpatine), who promised that the dark side of the Force could save Padmé’s life.\n",
    "\n",
    "Palpatine, who had been manipulating Anakin for years, finally convinced him to turn against the Jedi. In his new identity as Darth Vader, Anakin slaughtered many of the Jedi, including younglings, in the infamous Jedi Temple massacre. His ultimate betrayal was in his duel with Obi-Wan Kenobi on the volcanic planet of Mustafar. The battle left Anakin horrifically injured and burned, and he was left for dead by Obi-Wan. Rescued by Palpatine, Anakin was placed in the black, mechanical armor that would become synonymous with Darth Vader, a walking symbol of the Emperor’s iron grip on the galaxy.\n",
    "\n",
    "As Darth Vader, Anakin Skywalker became the Emperor’s right-hand enforcer, leading the Empire’s forces and hunting down the remaining Jedi. He was feared across the galaxy as the epitome of darkness, brutality, and power. The Emperor’s manipulation had turned Anakin into a tool of the dark side, and he lived in anguish, believing that his actions had caused Padmé’s death. This belief, along with his physical and emotional torment, made him one of the most feared figures in the galaxy. Yet, beneath the mask and armor, a small part of the compassionate and idealistic Anakin still remained, though buried deep within the monstrous visage of Darth Vader.\n",
    "\n",
    "Vader’s redemption came through his son, Luke Skywalker, whose existence he was unaware of for many years. When Luke confronted Vader, he saw the good that still lingered within his father. In their final confrontation aboard the second Death Star, Luke’s refusal to turn to the dark side, even under the Emperor’s manipulation, inspired Anakin to finally break free of Palpatine’s control. In one final act of redemption, Anakin killed the Emperor, sacrificing his life in the process. His final moments were spent reconciled with his son, knowing that Luke had saved him from the darkness.\n",
    "\n",
    "Anakin Skywalker’s story is a tale of immense tragedy and ultimate redemption. His fall to the dark side represents the dangers of unchecked emotions, fear, and the desire for control. Yet his eventual redemption through the love and persistence of his son serves as a powerful reminder of the enduring struggle between light and dark, and the possibility of salvation, even for those who seem beyond redemption.\n",
    "\n",
    "Darth Vader remains one of the most iconic villains in film history, and his transformation from Anakin Skywalker to the Dark Lord of the Sith is central to the Star Wars mythos. His character’s journey—from a young boy with dreams of becoming a Jedi, to a feared enforcer of the Empire, and finally, to a redeemed father—illustrates the complexity of human nature and the eternal conflict between good and evil. Through his story, Star Wars explores themes of power, corruption, and the redemptive power of love and hope.\"\"\",\n",
    "        \"\"\"\n",
    "Princess Leia Organa is one of the most iconic and influential characters in the Star Wars universe, symbolizing leadership, courage, and defiance in the face of tyranny. Born as Leia Amidala Skywalker, she is the twin sister of Luke Skywalker and the daughter of Anakin Skywalker (Darth Vader) and Padmé Amidala. To protect her from the Emperor and her father, she was adopted by Senator Bail Organa of Alderaan and raised as a member of the royal family. Growing up under the tutelage of her adoptive parents, Leia developed a strong sense of duty, justice, and compassion, eventually becoming a key figure in the Rebel Alliance and later the Resistance.\n",
    "\n",
    "Leia’s story begins in “Star Wars: A New Hope,” where she is introduced as a young leader of the Rebellion, tasked with delivering the plans to the Death Star to the Rebel forces. Despite being captured by Darth Vader and subjected to interrogation by the Empire, Leia remains resilient, refusing to give up the location of the Rebel base. Her fortitude is evident when she witnesses the destruction of her home planet, Alderaan, at the hands of the Death Star, yet still does not falter in her mission.\n",
    "\n",
    "Throughout the original trilogy, Leia’s role is multifaceted. She is not only a diplomatic leader and strategist for the Rebellion but also an active participant in missions, showcasing her bravery and combat skills. Her romance with Han Solo adds another dimension to her character, revealing her vulnerability and capacity for deep emotional connections. Despite her personal losses, including the revelation of her true parentage and the knowledge that Darth Vader is her father, Leia never wavers in her commitment to the cause of freedom.\n",
    "\n",
    "In “The Empire Strikes Back” and “Return of the Jedi,” Leia’s leadership becomes even more critical. She takes part in the mission to rescue Han Solo from Jabba the Hutt, disguised as the bounty hunter Boushh. Later, she plays a vital role in the final battle against the Empire on the forest moon of Endor. It is during this time that she learns from Luke that they are siblings and that Vader is their father. Despite the shocking revelation, Leia remains steadfast, focused on the mission at hand, though the knowledge undoubtedly affects her.\n",
    "\n",
    "Leia’s story continues in the sequel trilogy, where she transitions from a leader of the Rebel Alliance to the General of the Resistance. In “The Force Awakens,” it is revealed that her son, Ben Solo (Kylo Ren), has fallen to the dark side, leading to immense personal pain and tragedy for Leia. Despite this, she remains the backbone of the Resistance, guiding its members with wisdom and determination. Her relationship with Han Solo is strained by their shared grief over Ben’s fall, but their love and respect for one another endure.\n",
    "\n",
    "Leia’s ultimate legacy is one of perseverance, hope, and resilience. Even in the face of overwhelming odds, personal loss, and betrayal, she remains committed to the ideals of the Rebellion and the Resistance. Her role as both a warrior and a diplomat highlights her versatility and strength. Leia’s leadership is not just about military strategy but also about inspiring others to believe in a better future, even when that future seems uncertain.\n",
    "\n",
    "In “The Last Jedi” and “The Rise of Skywalker,” Leia’s influence extends beyond her direct actions. Though her health begins to fail, her presence as a guiding force remains strong. In her final moments, she reaches out to her son, Ben, through the Force, ultimately contributing to his redemption. Leia’s sacrifice symbolizes the enduring power of love and hope, themes that are central to the Star Wars saga.\n",
    "\n",
    "Princess Leia’s character is a beacon of strength, not just in the Star Wars universe but also in popular culture. She is a feminist icon, representing a strong, independent woman who can hold her own in both political and combat arenas. Her legacy as a leader, a mother, and a symbol of resistance against tyranny endures through the generations of fans who continue to be inspired by her courage and determination.\n",
    "\n",
    "Leia Organa’s story arc, from the early days of the Rebellion to her leadership in the Resistance, showcases her resilience and commitment to justice. She is a character who, despite immense personal and political challenges, never loses sight of her goals. Her ability to inspire those around her, her intelligence, and her deep compassion make her one of the most beloved characters in Star Wars. Leia’s journey reflects the broader themes of the Star Wars\n",
    "        \"\"\",\n",
    "        'Smuggler-turned-Rebel hero, pilot of the Millennium Falcon, and ally to Luke and Leia.',\n",
    "        'Ancient Jedi Master who trained countless Jedi, including Luke Skywalker.',\n",
    "        'Former Jedi Knight who trained Anakin and later guided Luke in the ways of the Force.',\n",
    "        'Sith Lord and Emperor of the Galactic Empire, master of Darth Vader.',\n",
    "        'Wookiee warrior and co-pilot of the Millennium Falcon, fiercely loyal to Han Solo.',\n",
    "        'Astromech droid who served Anakin and later Luke, played key roles in many battles.',\n",
    "        'Protocol droid fluent in many languages, companion to R2-D2, built by Anakin Skywalker.',\n",
    "        'Notorious bounty hunter, son/clone of Jango Fett, and nemesis to Han Solo.',\n",
    "        'Crime lord based on Tatooine, known for his dealings with bounty hunters and smugglers.',\n",
    "        'Gambler, smuggler, and old friend of Han Solo who became a key figure in the Rebellion.',\n",
    "        'Queen of Naboo and later Senator, mother to Luke and Leia, and wife of Anakin Skywalker.',\n",
    "        'Jedi Master who discovered Anakin Skywalker and believed in the prophecy of the Chosen One.',\n",
    "        'High-ranking Jedi Master on the Jedi Council, known for his skill with a lightsaber.',\n",
    "        'Anakin Skywalker\\'s Padawan, later a key figure in the Rebellion, and a skilled Jedi.',\n",
    "        'Son of Han and Leia, conflicted Force user who turned to the dark side, became a Sith.',\n",
    "        'Scavenger-turned-Jedi, granddaughter of Palpatine, who ultimately restores balance.',\n",
    "        'Former Stormtrooper who defected to the Resistance and fought alongside Rey and Poe.',\n",
    "        'Ace pilot of the Resistance, loyal to General Leia Organa, and a key leader in the fight.',\n",
    "        'Former Jedi who became a Sith Lord, leading the Separatist movement in the Clone Wars.',\n",
    "        'Sith apprentice to Darth Sidious, known for his double-bladed lightsaber and vengeance.',\n",
    "        'Bounty hunter and template for the clone army, father/clone of Boba Fett.',\n",
    "        'Cyborg commander of the Separatist droid army, feared for his lightsaber collection.',\n",
    "        'Mechanic in the Resistance, inspired by her sister\\'s sacrifice, and friend to Finn.',\n",
    "        'Ruthless commander of the First Order\\'s stormtroopers, known for her chrome armor.',\n",
    "        'Spherical droid belonging to Poe Dameron, key in the Resistance\\'s mission against the First Order.',\n",
    "        'Mon Calamari leader in the Rebel Alliance, known for his tactical expertise (\"It\\'s a trap!\").',\n",
    "        'Rebel Alliance pilot who fought in major battles including the Death Star and Endor.',\n",
    "        'Political leader of the Rebel Alliance, instrumental in forming the Rebellion against the Empire.',\n",
    "        'Orphan-turned-Jedi who fought against the Empire and helped found the Rebel Alliance.',\n",
    "        'Mandalorian warrior and artist, key member of the Ghost crew fighting the Empire.',\n",
    "        'Former Jedi Knight who survived Order 66, mentor to Ezra Bridger, and Rebel leader.',\n",
    "        'Brilliant Imperial strategist, known for his cunning and leadership in the Empire.',\n",
    "        'Rebel fighter who led the mission to steal the Death Star plans, sacrificing herself in the process.',\n",
    "        'Rebel spy and captain, key figure in the mission to acquire the Death Star plans.',\n",
    "        'Blind warrior-monk who believes in the Force, ally to Jyn Erso and Cassian Andor.',\n",
    "        'Rebel extremist who fought against both the Separatists and the Empire.',\n",
    "        'Director of the Death Star project for the Empire, rival to Tarkin and other Imperial officers.'\n",
    "    ],\n",
    "    'Source':[\"source\"]*40\n",
    "}\n",
    "\n",
    "# Create the dataframe\n",
    "df = pd.DataFrame(data)"
   ]
  },
  {
   "cell_type": "code",
   "execution_count": 8,
   "metadata": {},
   "outputs": [],
   "source": [
    "text_splitter = RecursiveCharacterTextSplitter(\n",
    "    chunk_size = 100,\n",
    "    chunk_overlap  = 10,\n",
    "    length_function = len,\n",
    "    is_separator_regex = False,\n",
    ")"
   ]
  },
  {
   "cell_type": "code",
   "execution_count": 37,
   "metadata": {},
   "outputs": [],
   "source": [
    "df_tmp = df.iloc[:1]"
   ]
  },
  {
   "cell_type": "code",
   "execution_count": 38,
   "metadata": {},
   "outputs": [],
   "source": [
    "def split_data_from_file(df):\n",
    "    chunks_with_metadata = [] # use this to accumlate chunk records\n",
    "\n",
    "    for i in range(df.shape[0]):\n",
    "        print(f'Processing {i}') \n",
    "        item_text = df[\"Background Summary\"].iloc[i] # grab the text of the item\n",
    "        item_text_chunks = text_splitter.split_text(item_text) # split the text into chunks\n",
    "        chunk_seq_id = 0\n",
    "        for chunk in item_text_chunks:\n",
    "            form_id = \"star-wars-characters\"\n",
    "            # finally, construct a record with metadata and the chunk text\n",
    "            chunks_with_metadata.append({\n",
    "                'text': chunk, \n",
    "                # metadata from looping...\n",
    "                'chunkSeqId': chunk_seq_id,\n",
    "                # constructed metadata...\n",
    "                'formId': f'{form_id}', # pulled from the filename\n",
    "                'chunkId': f'{form_id}-{i}-chunk{chunk_seq_id:04d}',\n",
    "                # metadata from file...\n",
    "                'character': df['Character'].iloc[i],\n",
    "                'movie': df['First Movie'].iloc[i],\n",
    "                'year': df['Year'].iloc[i],\n",
    "                'source': df['Source'].iloc[i],\n",
    "            })\n",
    "            chunk_seq_id += 1\n",
    "        print(f'\\tSplit into {chunk_seq_id} chunks')\n",
    "    return chunks_with_metadata"
   ]
  },
  {
   "cell_type": "code",
   "execution_count": 39,
   "metadata": {},
   "outputs": [
    {
     "name": "stdout",
     "output_type": "stream",
     "text": [
      "Processing 0\n",
      "\tSplit into 68 chunks\n"
     ]
    }
   ],
   "source": [
    "first_file_chunks = split_data_from_file(df_tmp)"
   ]
  },
  {
   "cell_type": "code",
   "execution_count": 40,
   "metadata": {},
   "outputs": [
    {
     "data": {
      "text/plain": [
       "68"
      ]
     },
     "execution_count": 40,
     "metadata": {},
     "output_type": "execute_result"
    }
   ],
   "source": [
    "len(first_file_chunks)"
   ]
  },
  {
   "cell_type": "code",
   "execution_count": 41,
   "metadata": {},
   "outputs": [
    {
     "data": {
      "text/plain": [
       "[{'text': 'Luke Skywalker is one of the most iconic characters in cinematic history, originating from the',\n",
       "  'chunkSeqId': 0,\n",
       "  'formId': 'star-wars-characters',\n",
       "  'chunkId': 'star-wars-characters-0-chunk0000',\n",
       "  'character': 'Luke Skywalker',\n",
       "  'movie': 'Star Wars: A New Hope',\n",
       "  'year': 1977,\n",
       "  'source': 'source'},\n",
       " {'text': 'from the classic “Star Wars” franchise. His journey from a farm boy on the remote desert planet of',\n",
       "  'chunkSeqId': 1,\n",
       "  'formId': 'star-wars-characters',\n",
       "  'chunkId': 'star-wars-characters-0-chunk0001',\n",
       "  'character': 'Luke Skywalker',\n",
       "  'movie': 'Star Wars: A New Hope',\n",
       "  'year': 1977,\n",
       "  'source': 'source'},\n",
       " {'text': 'planet of Tatooine to the galaxy’s greatest Jedi Knight is a tale of hope, perseverance,',\n",
       "  'chunkSeqId': 2,\n",
       "  'formId': 'star-wars-characters',\n",
       "  'chunkId': 'star-wars-characters-0-chunk0002',\n",
       "  'character': 'Luke Skywalker',\n",
       "  'movie': 'Star Wars: A New Hope',\n",
       "  'year': 1977,\n",
       "  'source': 'source'},\n",
       " {'text': 'self-discovery, and the eternal struggle between good and evil. As the son of Anakin Skywalker',\n",
       "  'chunkSeqId': 3,\n",
       "  'formId': 'star-wars-characters',\n",
       "  'chunkId': 'star-wars-characters-0-chunk0003',\n",
       "  'character': 'Luke Skywalker',\n",
       "  'movie': 'Star Wars: A New Hope',\n",
       "  'year': 1977,\n",
       "  'source': 'source'},\n",
       " {'text': 'Skywalker (Darth Vader) and Padmé Amidala, Luke was born into a lineage that was pivotal to the',\n",
       "  'chunkSeqId': 4,\n",
       "  'formId': 'star-wars-characters',\n",
       "  'chunkId': 'star-wars-characters-0-chunk0004',\n",
       "  'character': 'Luke Skywalker',\n",
       "  'movie': 'Star Wars: A New Hope',\n",
       "  'year': 1977,\n",
       "  'source': 'source'},\n",
       " {'text': 'to the fate of the galaxy. Hidden from his father after the fall of the Jedi Order and the rise of',\n",
       "  'chunkSeqId': 5,\n",
       "  'formId': 'star-wars-characters',\n",
       "  'chunkId': 'star-wars-characters-0-chunk0005',\n",
       "  'character': 'Luke Skywalker',\n",
       "  'movie': 'Star Wars: A New Hope',\n",
       "  'year': 1977,\n",
       "  'source': 'source'},\n",
       " {'text': 'rise of the Galactic Empire, Luke was raised by his Uncle Owen and Aunt Beru on Tatooine. Though',\n",
       "  'chunkSeqId': 6,\n",
       "  'formId': 'star-wars-characters',\n",
       "  'chunkId': 'star-wars-characters-0-chunk0006',\n",
       "  'character': 'Luke Skywalker',\n",
       "  'movie': 'Star Wars: A New Hope',\n",
       "  'year': 1977,\n",
       "  'source': 'source'},\n",
       " {'text': 'Though initially unaware of his true heritage, Luke was always drawn to something greater than the',\n",
       "  'chunkSeqId': 7,\n",
       "  'formId': 'star-wars-characters',\n",
       "  'chunkId': 'star-wars-characters-0-chunk0007',\n",
       "  'character': 'Luke Skywalker',\n",
       "  'movie': 'Star Wars: A New Hope',\n",
       "  'year': 1977,\n",
       "  'source': 'source'},\n",
       " {'text': 'than the life of a moisture farmer.',\n",
       "  'chunkSeqId': 8,\n",
       "  'formId': 'star-wars-characters',\n",
       "  'chunkId': 'star-wars-characters-0-chunk0008',\n",
       "  'character': 'Luke Skywalker',\n",
       "  'movie': 'Star Wars: A New Hope',\n",
       "  'year': 1977,\n",
       "  'source': 'source'},\n",
       " {'text': 'Luke’s journey truly begins when he encounters the droids R2-D2 and C-3PO, who carry a message from',\n",
       "  'chunkSeqId': 9,\n",
       "  'formId': 'star-wars-characters',\n",
       "  'chunkId': 'star-wars-characters-0-chunk0009',\n",
       "  'character': 'Luke Skywalker',\n",
       "  'movie': 'Star Wars: A New Hope',\n",
       "  'year': 1977,\n",
       "  'source': 'source'},\n",
       " {'text': 'from Princess Leia Organa (his twin sister, though he does not know it yet). This message leads',\n",
       "  'chunkSeqId': 10,\n",
       "  'formId': 'star-wars-characters',\n",
       "  'chunkId': 'star-wars-characters-0-chunk0010',\n",
       "  'character': 'Luke Skywalker',\n",
       "  'movie': 'Star Wars: A New Hope',\n",
       "  'year': 1977,\n",
       "  'source': 'source'},\n",
       " {'text': 'leads Luke to the reclusive Jedi Master Obi-Wan Kenobi, who reveals the basics of the Force to him',\n",
       "  'chunkSeqId': 11,\n",
       "  'formId': 'star-wars-characters',\n",
       "  'chunkId': 'star-wars-characters-0-chunk0011',\n",
       "  'character': 'Luke Skywalker',\n",
       "  'movie': 'Star Wars: A New Hope',\n",
       "  'year': 1977,\n",
       "  'source': 'source'},\n",
       " {'text': 'to him and provides him with his father’s lightsaber. This meeting sets Luke on a path that will',\n",
       "  'chunkSeqId': 12,\n",
       "  'formId': 'star-wars-characters',\n",
       "  'chunkId': 'star-wars-characters-0-chunk0012',\n",
       "  'character': 'Luke Skywalker',\n",
       "  'movie': 'Star Wars: A New Hope',\n",
       "  'year': 1977,\n",
       "  'source': 'source'},\n",
       " {'text': 'that will not only change his life but also alter the course of the galaxy. After his uncle and',\n",
       "  'chunkSeqId': 13,\n",
       "  'formId': 'star-wars-characters',\n",
       "  'chunkId': 'star-wars-characters-0-chunk0013',\n",
       "  'character': 'Luke Skywalker',\n",
       "  'movie': 'Star Wars: A New Hope',\n",
       "  'year': 1977,\n",
       "  'source': 'source'},\n",
       " {'text': 'uncle and aunt are killed by Imperial stormtroopers, Luke has nothing left on Tatooine and decides',\n",
       "  'chunkSeqId': 14,\n",
       "  'formId': 'star-wars-characters',\n",
       "  'chunkId': 'star-wars-characters-0-chunk0014',\n",
       "  'character': 'Luke Skywalker',\n",
       "  'movie': 'Star Wars: A New Hope',\n",
       "  'year': 1977,\n",
       "  'source': 'source'},\n",
       " {'text': 'decides to join Obi-Wan on a mission to help Princess Leia and the Rebel Alliance.',\n",
       "  'chunkSeqId': 15,\n",
       "  'formId': 'star-wars-characters',\n",
       "  'chunkId': 'star-wars-characters-0-chunk0015',\n",
       "  'character': 'Luke Skywalker',\n",
       "  'movie': 'Star Wars: A New Hope',\n",
       "  'year': 1977,\n",
       "  'source': 'source'},\n",
       " {'text': 'Throughout the original trilogy, Luke undergoes significant growth, evolving from an eager but',\n",
       "  'chunkSeqId': 16,\n",
       "  'formId': 'star-wars-characters',\n",
       "  'chunkId': 'star-wars-characters-0-chunk0016',\n",
       "  'character': 'Luke Skywalker',\n",
       "  'movie': 'Star Wars: A New Hope',\n",
       "  'year': 1977,\n",
       "  'source': 'source'},\n",
       " {'text': 'eager but inexperienced young man to a wise and powerful Jedi Knight. His journey is heavily',\n",
       "  'chunkSeqId': 17,\n",
       "  'formId': 'star-wars-characters',\n",
       "  'chunkId': 'star-wars-characters-0-chunk0017',\n",
       "  'character': 'Luke Skywalker',\n",
       "  'movie': 'Star Wars: A New Hope',\n",
       "  'year': 1977,\n",
       "  'source': 'source'},\n",
       " {'text': 'heavily influenced by his mentors, Obi-Wan Kenobi and Yoda. In “Star Wars: A New Hope,” Luke joins',\n",
       "  'chunkSeqId': 18,\n",
       "  'formId': 'star-wars-characters',\n",
       "  'chunkId': 'star-wars-characters-0-chunk0018',\n",
       "  'character': 'Luke Skywalker',\n",
       "  'movie': 'Star Wars: A New Hope',\n",
       "  'year': 1977,\n",
       "  'source': 'source'},\n",
       " {'text': 'joins forces with Princess Leia, Han Solo, and others to destroy the Empire’s massive superweapon,',\n",
       "  'chunkSeqId': 19,\n",
       "  'formId': 'star-wars-characters',\n",
       "  'chunkId': 'star-wars-characters-0-chunk0019',\n",
       "  'character': 'Luke Skywalker',\n",
       "  'movie': 'Star Wars: A New Hope',\n",
       "  'year': 1977,\n",
       "  'source': 'source'},\n",
       " {'text': 'the Death Star. His piloting skills in the battle showcase his natural talent and connection to the',\n",
       "  'chunkSeqId': 20,\n",
       "  'formId': 'star-wars-characters',\n",
       "  'chunkId': 'star-wars-characters-0-chunk0020',\n",
       "  'character': 'Luke Skywalker',\n",
       "  'movie': 'Star Wars: A New Hope',\n",
       "  'year': 1977,\n",
       "  'source': 'source'},\n",
       " {'text': 'to the Force. It is during this time that he begins to embrace the idea of becoming a Jedi, a path',\n",
       "  'chunkSeqId': 21,\n",
       "  'formId': 'star-wars-characters',\n",
       "  'chunkId': 'star-wars-characters-0-chunk0021',\n",
       "  'character': 'Luke Skywalker',\n",
       "  'movie': 'Star Wars: A New Hope',\n",
       "  'year': 1977,\n",
       "  'source': 'source'},\n",
       " {'text': 'a path that will test him physically, mentally, and spiritually.',\n",
       "  'chunkSeqId': 22,\n",
       "  'formId': 'star-wars-characters',\n",
       "  'chunkId': 'star-wars-characters-0-chunk0022',\n",
       "  'character': 'Luke Skywalker',\n",
       "  'movie': 'Star Wars: A New Hope',\n",
       "  'year': 1977,\n",
       "  'source': 'source'},\n",
       " {'text': 'In “The Empire Strikes Back,” Luke’s training under Yoda on Dagobah is one of the most iconic',\n",
       "  'chunkSeqId': 23,\n",
       "  'formId': 'star-wars-characters',\n",
       "  'chunkId': 'star-wars-characters-0-chunk0023',\n",
       "  'character': 'Luke Skywalker',\n",
       "  'movie': 'Star Wars: A New Hope',\n",
       "  'year': 1977,\n",
       "  'source': 'source'},\n",
       " {'text': 'iconic sequences in Star Wars. Here, Luke learns more about the Force, but he also confronts his',\n",
       "  'chunkSeqId': 24,\n",
       "  'formId': 'star-wars-characters',\n",
       "  'chunkId': 'star-wars-characters-0-chunk0024',\n",
       "  'character': 'Luke Skywalker',\n",
       "  'movie': 'Star Wars: A New Hope',\n",
       "  'year': 1977,\n",
       "  'source': 'source'},\n",
       " {'text': 'his own fears and doubts. The revelation that Darth Vader is his father is one of the most shocking',\n",
       "  'chunkSeqId': 25,\n",
       "  'formId': 'star-wars-characters',\n",
       "  'chunkId': 'star-wars-characters-0-chunk0025',\n",
       "  'character': 'Luke Skywalker',\n",
       "  'movie': 'Star Wars: A New Hope',\n",
       "  'year': 1977,\n",
       "  'source': 'source'},\n",
       " {'text': 'shocking moments in film history, and it profoundly impacts Luke. He grapples with the knowledge',\n",
       "  'chunkSeqId': 26,\n",
       "  'formId': 'star-wars-characters',\n",
       "  'chunkId': 'star-wars-characters-0-chunk0026',\n",
       "  'character': 'Luke Skywalker',\n",
       "  'movie': 'Star Wars: A New Hope',\n",
       "  'year': 1977,\n",
       "  'source': 'source'},\n",
       " {'text': 'knowledge that the man responsible for so much pain and suffering in the galaxy is also the man who',\n",
       "  'chunkSeqId': 27,\n",
       "  'formId': 'star-wars-characters',\n",
       "  'chunkId': 'star-wars-characters-0-chunk0027',\n",
       "  'character': 'Luke Skywalker',\n",
       "  'movie': 'Star Wars: A New Hope',\n",
       "  'year': 1977,\n",
       "  'source': 'source'},\n",
       " {'text': 'man who fathered him. This revelation makes Luke’s journey even more complicated, as he must decide',\n",
       "  'chunkSeqId': 28,\n",
       "  'formId': 'star-wars-characters',\n",
       "  'chunkId': 'star-wars-characters-0-chunk0028',\n",
       "  'character': 'Luke Skywalker',\n",
       "  'movie': 'Star Wars: A New Hope',\n",
       "  'year': 1977,\n",
       "  'source': 'source'},\n",
       " {'text': 'decide whether to follow the path of the Jedi or risk falling to the dark side, as his father did.',\n",
       "  'chunkSeqId': 29,\n",
       "  'formId': 'star-wars-characters',\n",
       "  'chunkId': 'star-wars-characters-0-chunk0029',\n",
       "  'character': 'Luke Skywalker',\n",
       "  'movie': 'Star Wars: A New Hope',\n",
       "  'year': 1977,\n",
       "  'source': 'source'},\n",
       " {'text': 'In “Return of the Jedi,” Luke emerges as a fully-fledged Jedi Knight. His mission to redeem his',\n",
       "  'chunkSeqId': 30,\n",
       "  'formId': 'star-wars-characters',\n",
       "  'chunkId': 'star-wars-characters-0-chunk0030',\n",
       "  'character': 'Luke Skywalker',\n",
       "  'movie': 'Star Wars: A New Hope',\n",
       "  'year': 1977,\n",
       "  'source': 'source'},\n",
       " {'text': 'his father and defeat the Emperor becomes the central focus of his story. Luke’s compassion and',\n",
       "  'chunkSeqId': 31,\n",
       "  'formId': 'star-wars-characters',\n",
       "  'chunkId': 'star-wars-characters-0-chunk0031',\n",
       "  'character': 'Luke Skywalker',\n",
       "  'movie': 'Star Wars: A New Hope',\n",
       "  'year': 1977,\n",
       "  'source': 'source'},\n",
       " {'text': 'and refusal to give up on Anakin Skywalker ultimately lead to the redemption of his father and the',\n",
       "  'chunkSeqId': 32,\n",
       "  'formId': 'star-wars-characters',\n",
       "  'chunkId': 'star-wars-characters-0-chunk0032',\n",
       "  'character': 'Luke Skywalker',\n",
       "  'movie': 'Star Wars: A New Hope',\n",
       "  'year': 1977,\n",
       "  'source': 'source'},\n",
       " {'text': 'and the downfall of the Sith. By rejecting the Emperor’s temptation to turn to the dark side, Luke',\n",
       "  'chunkSeqId': 33,\n",
       "  'formId': 'star-wars-characters',\n",
       "  'chunkId': 'star-wars-characters-0-chunk0033',\n",
       "  'character': 'Luke Skywalker',\n",
       "  'movie': 'Star Wars: A New Hope',\n",
       "  'year': 1977,\n",
       "  'source': 'source'},\n",
       " {'text': 'Luke proves himself to be the embodiment of the Jedi ideals of hope, selflessness, and the belief',\n",
       "  'chunkSeqId': 34,\n",
       "  'formId': 'star-wars-characters',\n",
       "  'chunkId': 'star-wars-characters-0-chunk0034',\n",
       "  'character': 'Luke Skywalker',\n",
       "  'movie': 'Star Wars: A New Hope',\n",
       "  'year': 1977,\n",
       "  'source': 'source'},\n",
       " {'text': 'belief in the goodness of others. His final confrontation with Darth Vader is not just a physical',\n",
       "  'chunkSeqId': 35,\n",
       "  'formId': 'star-wars-characters',\n",
       "  'chunkId': 'star-wars-characters-0-chunk0035',\n",
       "  'character': 'Luke Skywalker',\n",
       "  'movie': 'Star Wars: A New Hope',\n",
       "  'year': 1977,\n",
       "  'source': 'source'},\n",
       " {'text': 'physical battle but a test of his character and faith in the light side of the Force.',\n",
       "  'chunkSeqId': 36,\n",
       "  'formId': 'star-wars-characters',\n",
       "  'chunkId': 'star-wars-characters-0-chunk0036',\n",
       "  'character': 'Luke Skywalker',\n",
       "  'movie': 'Star Wars: A New Hope',\n",
       "  'year': 1977,\n",
       "  'source': 'source'},\n",
       " {'text': 'After the defeat of the Empire, Luke goes on to rebuild the Jedi Order, though this process is',\n",
       "  'chunkSeqId': 37,\n",
       "  'formId': 'star-wars-characters',\n",
       "  'chunkId': 'star-wars-characters-0-chunk0037',\n",
       "  'character': 'Luke Skywalker',\n",
       "  'movie': 'Star Wars: A New Hope',\n",
       "  'year': 1977,\n",
       "  'source': 'source'},\n",
       " {'text': 'is fraught with difficulties. His journey is expanded in the sequel trilogy, where we see an older,',\n",
       "  'chunkSeqId': 38,\n",
       "  'formId': 'star-wars-characters',\n",
       "  'chunkId': 'star-wars-characters-0-chunk0038',\n",
       "  'character': 'Luke Skywalker',\n",
       "  'movie': 'Star Wars: A New Hope',\n",
       "  'year': 1977,\n",
       "  'source': 'source'},\n",
       " {'text': 'an older, disillusioned Luke, who has gone into self-imposed exile after a disastrous attempt to',\n",
       "  'chunkSeqId': 39,\n",
       "  'formId': 'star-wars-characters',\n",
       "  'chunkId': 'star-wars-characters-0-chunk0039',\n",
       "  'character': 'Luke Skywalker',\n",
       "  'movie': 'Star Wars: A New Hope',\n",
       "  'year': 1977,\n",
       "  'source': 'source'},\n",
       " {'text': 'to train a new generation of Jedi. The rise of Kylo Ren (Ben Solo, Luke’s nephew) and the fall of',\n",
       "  'chunkSeqId': 40,\n",
       "  'formId': 'star-wars-characters',\n",
       "  'chunkId': 'star-wars-characters-0-chunk0040',\n",
       "  'character': 'Luke Skywalker',\n",
       "  'movie': 'Star Wars: A New Hope',\n",
       "  'year': 1977,\n",
       "  'source': 'source'},\n",
       " {'text': 'fall of his Jedi students deeply affects Luke, leading him to question the legacy of the Jedi and',\n",
       "  'chunkSeqId': 41,\n",
       "  'formId': 'star-wars-characters',\n",
       "  'chunkId': 'star-wars-characters-0-chunk0041',\n",
       "  'character': 'Luke Skywalker',\n",
       "  'movie': 'Star Wars: A New Hope',\n",
       "  'year': 1977,\n",
       "  'source': 'source'},\n",
       " {'text': 'Jedi and his role in the galaxy’s ongoing conflict. Despite his initial reluctance, Luke returns to',\n",
       "  'chunkSeqId': 42,\n",
       "  'formId': 'star-wars-characters',\n",
       "  'chunkId': 'star-wars-characters-0-chunk0042',\n",
       "  'character': 'Luke Skywalker',\n",
       "  'movie': 'Star Wars: A New Hope',\n",
       "  'year': 1977,\n",
       "  'source': 'source'},\n",
       " {'text': 'to the fight in “The Last Jedi” by projecting his Force presence to confront Kylo Ren and inspire',\n",
       "  'chunkSeqId': 43,\n",
       "  'formId': 'star-wars-characters',\n",
       "  'chunkId': 'star-wars-characters-0-chunk0043',\n",
       "  'character': 'Luke Skywalker',\n",
       "  'movie': 'Star Wars: A New Hope',\n",
       "  'year': 1977,\n",
       "  'source': 'source'},\n",
       " {'text': 'inspire the Resistance. His sacrifice allows the remnants of the Resistance to escape, and his',\n",
       "  'chunkSeqId': 44,\n",
       "  'formId': 'star-wars-characters',\n",
       "  'chunkId': 'star-wars-characters-0-chunk0044',\n",
       "  'character': 'Luke Skywalker',\n",
       "  'movie': 'Star Wars: A New Hope',\n",
       "  'year': 1977,\n",
       "  'source': 'source'},\n",
       " {'text': 'and his legend grows even further, solidifying his place as one of the galaxy’s greatest heroes.',\n",
       "  'chunkSeqId': 45,\n",
       "  'formId': 'star-wars-characters',\n",
       "  'chunkId': 'star-wars-characters-0-chunk0045',\n",
       "  'character': 'Luke Skywalker',\n",
       "  'movie': 'Star Wars: A New Hope',\n",
       "  'year': 1977,\n",
       "  'source': 'source'},\n",
       " {'text': 'Luke Skywalker’s legacy continues to influence the Star Wars universe. He is the quintessential',\n",
       "  'chunkSeqId': 46,\n",
       "  'formId': 'star-wars-characters',\n",
       "  'chunkId': 'star-wars-characters-0-chunk0046',\n",
       "  'character': 'Luke Skywalker',\n",
       "  'movie': 'Star Wars: A New Hope',\n",
       "  'year': 1977,\n",
       "  'source': 'source'},\n",
       " {'text': 'hero, a symbol of hope and perseverance in the face of overwhelming odds. From his humble',\n",
       "  'chunkSeqId': 47,\n",
       "  'formId': 'star-wars-characters',\n",
       "  'chunkId': 'star-wars-characters-0-chunk0047',\n",
       "  'character': 'Luke Skywalker',\n",
       "  'movie': 'Star Wars: A New Hope',\n",
       "  'year': 1977,\n",
       "  'source': 'source'},\n",
       " {'text': 'humble beginnings on Tatooine to his role as the redeemer of Anakin Skywalker and savior of the',\n",
       "  'chunkSeqId': 48,\n",
       "  'formId': 'star-wars-characters',\n",
       "  'chunkId': 'star-wars-characters-0-chunk0048',\n",
       "  'character': 'Luke Skywalker',\n",
       "  'movie': 'Star Wars: A New Hope',\n",
       "  'year': 1977,\n",
       "  'source': 'source'},\n",
       " {'text': 'of the galaxy, Luke’s character arc is one of the most well-developed and beloved in all of science',\n",
       "  'chunkSeqId': 49,\n",
       "  'formId': 'star-wars-characters',\n",
       "  'chunkId': 'star-wars-characters-0-chunk0049',\n",
       "  'character': 'Luke Skywalker',\n",
       "  'movie': 'Star Wars: A New Hope',\n",
       "  'year': 1977,\n",
       "  'source': 'source'},\n",
       " {'text': 'science fiction and fantasy.',\n",
       "  'chunkSeqId': 50,\n",
       "  'formId': 'star-wars-characters',\n",
       "  'chunkId': 'star-wars-characters-0-chunk0050',\n",
       "  'character': 'Luke Skywalker',\n",
       "  'movie': 'Star Wars: A New Hope',\n",
       "  'year': 1977,\n",
       "  'source': 'source'},\n",
       " {'text': 'This version of Luke Skywalker draws upon his appearances in the original trilogy (“A New Hope,”',\n",
       "  'chunkSeqId': 51,\n",
       "  'formId': 'star-wars-characters',\n",
       "  'chunkId': 'star-wars-characters-0-chunk0051',\n",
       "  'character': 'Luke Skywalker',\n",
       "  'movie': 'Star Wars: A New Hope',\n",
       "  'year': 1977,\n",
       "  'source': 'source'},\n",
       " {'text': 'Hope,” “The Empire Strikes Back,” and “Return of the Jedi”), as well as his expanded role in the',\n",
       "  'chunkSeqId': 52,\n",
       "  'formId': 'star-wars-characters',\n",
       "  'chunkId': 'star-wars-characters-0-chunk0052',\n",
       "  'character': 'Luke Skywalker',\n",
       "  'movie': 'Star Wars: A New Hope',\n",
       "  'year': 1977,\n",
       "  'source': 'source'},\n",
       " {'text': 'in the sequel trilogy (“The Force Awakens,” “The Last Jedi,” and “The Rise of Skywalker”). His',\n",
       "  'chunkSeqId': 53,\n",
       "  'formId': 'star-wars-characters',\n",
       "  'chunkId': 'star-wars-characters-0-chunk0053',\n",
       "  'character': 'Luke Skywalker',\n",
       "  'movie': 'Star Wars: A New Hope',\n",
       "  'year': 1977,\n",
       "  'source': 'source'},\n",
       " {'text': 'His story is also explored in numerous novels, comic books, and animated series that flesh out his',\n",
       "  'chunkSeqId': 54,\n",
       "  'formId': 'star-wars-characters',\n",
       "  'chunkId': 'star-wars-characters-0-chunk0054',\n",
       "  'character': 'Luke Skywalker',\n",
       "  'movie': 'Star Wars: A New Hope',\n",
       "  'year': 1977,\n",
       "  'source': 'source'},\n",
       " {'text': 'out his journey to restore the Jedi Order and maintain peace in the galaxy. Through these',\n",
       "  'chunkSeqId': 55,\n",
       "  'formId': 'star-wars-characters',\n",
       "  'chunkId': 'star-wars-characters-0-chunk0055',\n",
       "  'character': 'Luke Skywalker',\n",
       "  'movie': 'Star Wars: A New Hope',\n",
       "  'year': 1977,\n",
       "  'source': 'source'},\n",
       " {'text': 'these additional materials, fans get to see Luke in various stages of his life, from a young and',\n",
       "  'chunkSeqId': 56,\n",
       "  'formId': 'star-wars-characters',\n",
       "  'chunkId': 'star-wars-characters-0-chunk0056',\n",
       "  'character': 'Luke Skywalker',\n",
       "  'movie': 'Star Wars: A New Hope',\n",
       "  'year': 1977,\n",
       "  'source': 'source'},\n",
       " {'text': 'young and idealistic Jedi-in-training to a wise but burdened mentor figure who ultimately finds',\n",
       "  'chunkSeqId': 57,\n",
       "  'formId': 'star-wars-characters',\n",
       "  'chunkId': 'star-wars-characters-0-chunk0057',\n",
       "  'character': 'Luke Skywalker',\n",
       "  'movie': 'Star Wars: A New Hope',\n",
       "  'year': 1977,\n",
       "  'source': 'source'},\n",
       " {'text': 'finds redemption and peace in his final moments.',\n",
       "  'chunkSeqId': 58,\n",
       "  'formId': 'star-wars-characters',\n",
       "  'chunkId': 'star-wars-characters-0-chunk0058',\n",
       "  'character': 'Luke Skywalker',\n",
       "  'movie': 'Star Wars: A New Hope',\n",
       "  'year': 1977,\n",
       "  'source': 'source'},\n",
       " {'text': 'Luke Skywalker’s significance to the Star Wars mythos cannot be overstated. He represents the core',\n",
       "  'chunkSeqId': 59,\n",
       "  'formId': 'star-wars-characters',\n",
       "  'chunkId': 'star-wars-characters-0-chunk0059',\n",
       "  'character': 'Luke Skywalker',\n",
       "  'movie': 'Star Wars: A New Hope',\n",
       "  'year': 1977,\n",
       "  'source': 'source'},\n",
       " {'text': 'the core themes of the saga: the battle between light and dark, the importance of family and',\n",
       "  'chunkSeqId': 60,\n",
       "  'formId': 'star-wars-characters',\n",
       "  'chunkId': 'star-wars-characters-0-chunk0060',\n",
       "  'character': 'Luke Skywalker',\n",
       "  'movie': 'Star Wars: A New Hope',\n",
       "  'year': 1977,\n",
       "  'source': 'source'},\n",
       " {'text': 'and legacy, and the enduring belief that even the darkest individuals can find redemption. His',\n",
       "  'chunkSeqId': 61,\n",
       "  'formId': 'star-wars-characters',\n",
       "  'chunkId': 'star-wars-characters-0-chunk0061',\n",
       "  'character': 'Luke Skywalker',\n",
       "  'movie': 'Star Wars: A New Hope',\n",
       "  'year': 1977,\n",
       "  'source': 'source'},\n",
       " {'text': 'His story is one of hope, not just for the galaxy, but for all those who seek to overcome their',\n",
       "  'chunkSeqId': 62,\n",
       "  'formId': 'star-wars-characters',\n",
       "  'chunkId': 'star-wars-characters-0-chunk0062',\n",
       "  'character': 'Luke Skywalker',\n",
       "  'movie': 'Star Wars: A New Hope',\n",
       "  'year': 1977,\n",
       "  'source': 'source'},\n",
       " {'text': 'their inner demons and rise above adversity.',\n",
       "  'chunkSeqId': 63,\n",
       "  'formId': 'star-wars-characters',\n",
       "  'chunkId': 'star-wars-characters-0-chunk0063',\n",
       "  'character': 'Luke Skywalker',\n",
       "  'movie': 'Star Wars: A New Hope',\n",
       "  'year': 1977,\n",
       "  'source': 'source'},\n",
       " {'text': 'This example provides a comprehensive character background with deep insights into Luke Skywalker’s',\n",
       "  'chunkSeqId': 64,\n",
       "  'formId': 'star-wars-characters',\n",
       "  'chunkId': 'star-wars-characters-0-chunk0064',\n",
       "  'character': 'Luke Skywalker',\n",
       "  'movie': 'Star Wars: A New Hope',\n",
       "  'year': 1977,\n",
       "  'source': 'source'},\n",
       " {'text': 'journey and significance. Each character in your DataFrame will have a similarly detailed and',\n",
       "  'chunkSeqId': 65,\n",
       "  'formId': 'star-wars-characters',\n",
       "  'chunkId': 'star-wars-characters-0-chunk0065',\n",
       "  'character': 'Luke Skywalker',\n",
       "  'movie': 'Star Wars: A New Hope',\n",
       "  'year': 1977,\n",
       "  'source': 'source'},\n",
       " {'text': 'and expanded summary that goes beyond their initial description, pulling from movies, shows, and',\n",
       "  'chunkSeqId': 66,\n",
       "  'formId': 'star-wars-characters',\n",
       "  'chunkId': 'star-wars-characters-0-chunk0066',\n",
       "  'character': 'Luke Skywalker',\n",
       "  'movie': 'Star Wars: A New Hope',\n",
       "  'year': 1977,\n",
       "  'source': 'source'},\n",
       " {'text': \"and other Star Wars media.'\",\n",
       "  'chunkSeqId': 67,\n",
       "  'formId': 'star-wars-characters',\n",
       "  'chunkId': 'star-wars-characters-0-chunk0067',\n",
       "  'character': 'Luke Skywalker',\n",
       "  'movie': 'Star Wars: A New Hope',\n",
       "  'year': 1977,\n",
       "  'source': 'source'}]"
      ]
     },
     "execution_count": 41,
     "metadata": {},
     "output_type": "execute_result"
    }
   ],
   "source": [
    "first_file_chunks"
   ]
  },
  {
   "cell_type": "code",
   "execution_count": 42,
   "metadata": {},
   "outputs": [
    {
     "data": {
      "text/plain": [
       "[]"
      ]
     },
     "execution_count": 42,
     "metadata": {},
     "output_type": "execute_result"
    }
   ],
   "source": [
    "cypher = \"\"\"\n",
    "MATCH (n)\n",
    "DETACH DELETE n\n",
    "\"\"\"\n",
    "kg.query(cypher)"
   ]
  },
  {
   "cell_type": "code",
   "execution_count": 43,
   "metadata": {},
   "outputs": [],
   "source": [
    "merge_chunk_node_query = \"\"\"\n",
    "MERGE(mergedChunk:Chunk {chunkId: $chunkParam.chunkId})\n",
    "    ON CREATE SET \n",
    "        mergedChunk.character = $chunkParam.character,\n",
    "        mergedChunk.movie = $chunkParam.movie, \n",
    "        mergedChunk.year = $chunkParam.year,\n",
    "        mergedChunk.chunkSeqId = $chunkParam.chunkSeqId, \n",
    "        mergedChunk.text = $chunkParam.text,\n",
    "        mergedChunk.source = $chunkParam.source,\n",
    "        mergedChunk.formId = $chunkParam.formId\n",
    "RETURN mergedChunk\n",
    "\"\"\""
   ]
  },
  {
   "cell_type": "code",
   "execution_count": 44,
   "metadata": {},
   "outputs": [
    {
     "data": {
      "text/plain": [
       "[{'mergedChunk': {'formId': 'star-wars-characters',\n",
       "   'character': 'Luke Skywalker',\n",
       "   'movie': 'Star Wars: A New Hope',\n",
       "   'year': 1977,\n",
       "   'text': 'Luke Skywalker is one of the most iconic characters in cinematic history, originating from the',\n",
       "   'source': 'source',\n",
       "   'chunkId': 'star-wars-characters-0-chunk0000',\n",
       "   'chunkSeqId': 0}}]"
      ]
     },
     "execution_count": 44,
     "metadata": {},
     "output_type": "execute_result"
    }
   ],
   "source": [
    "kg.query(merge_chunk_node_query, \n",
    "         params={'chunkParam':first_file_chunks[0]})"
   ]
  },
  {
   "cell_type": "code",
   "execution_count": 45,
   "metadata": {},
   "outputs": [
    {
     "data": {
      "text/plain": [
       "[]"
      ]
     },
     "execution_count": 45,
     "metadata": {},
     "output_type": "execute_result"
    }
   ],
   "source": [
    "kg.query(\"\"\"\n",
    "CREATE CONSTRAINT unique_chunk IF NOT EXISTS \n",
    "    FOR (c:Chunk) REQUIRE c.chunkId IS UNIQUE\n",
    "\"\"\")\n"
   ]
  },
  {
   "cell_type": "code",
   "execution_count": 46,
   "metadata": {},
   "outputs": [
    {
     "name": "stdout",
     "output_type": "stream",
     "text": [
      "Creating `:Chunk` node for chunk ID star-wars-characters-0-chunk0000\n",
      "Creating `:Chunk` node for chunk ID star-wars-characters-0-chunk0001\n",
      "Creating `:Chunk` node for chunk ID star-wars-characters-0-chunk0002\n",
      "Creating `:Chunk` node for chunk ID star-wars-characters-0-chunk0003\n",
      "Creating `:Chunk` node for chunk ID star-wars-characters-0-chunk0004\n",
      "Creating `:Chunk` node for chunk ID star-wars-characters-0-chunk0005\n",
      "Creating `:Chunk` node for chunk ID star-wars-characters-0-chunk0006\n",
      "Creating `:Chunk` node for chunk ID star-wars-characters-0-chunk0007\n",
      "Creating `:Chunk` node for chunk ID star-wars-characters-0-chunk0008\n",
      "Creating `:Chunk` node for chunk ID star-wars-characters-0-chunk0009\n",
      "Creating `:Chunk` node for chunk ID star-wars-characters-0-chunk0010\n",
      "Creating `:Chunk` node for chunk ID star-wars-characters-0-chunk0011\n",
      "Creating `:Chunk` node for chunk ID star-wars-characters-0-chunk0012\n",
      "Creating `:Chunk` node for chunk ID star-wars-characters-0-chunk0013\n",
      "Creating `:Chunk` node for chunk ID star-wars-characters-0-chunk0014\n",
      "Creating `:Chunk` node for chunk ID star-wars-characters-0-chunk0015\n",
      "Creating `:Chunk` node for chunk ID star-wars-characters-0-chunk0016\n",
      "Creating `:Chunk` node for chunk ID star-wars-characters-0-chunk0017\n",
      "Creating `:Chunk` node for chunk ID star-wars-characters-0-chunk0018\n",
      "Creating `:Chunk` node for chunk ID star-wars-characters-0-chunk0019\n",
      "Creating `:Chunk` node for chunk ID star-wars-characters-0-chunk0020\n",
      "Creating `:Chunk` node for chunk ID star-wars-characters-0-chunk0021\n",
      "Creating `:Chunk` node for chunk ID star-wars-characters-0-chunk0022\n",
      "Creating `:Chunk` node for chunk ID star-wars-characters-0-chunk0023\n",
      "Creating `:Chunk` node for chunk ID star-wars-characters-0-chunk0024\n",
      "Creating `:Chunk` node for chunk ID star-wars-characters-0-chunk0025\n",
      "Creating `:Chunk` node for chunk ID star-wars-characters-0-chunk0026\n",
      "Creating `:Chunk` node for chunk ID star-wars-characters-0-chunk0027\n",
      "Creating `:Chunk` node for chunk ID star-wars-characters-0-chunk0028\n",
      "Creating `:Chunk` node for chunk ID star-wars-characters-0-chunk0029\n",
      "Creating `:Chunk` node for chunk ID star-wars-characters-0-chunk0030\n",
      "Creating `:Chunk` node for chunk ID star-wars-characters-0-chunk0031\n",
      "Creating `:Chunk` node for chunk ID star-wars-characters-0-chunk0032\n",
      "Creating `:Chunk` node for chunk ID star-wars-characters-0-chunk0033\n",
      "Creating `:Chunk` node for chunk ID star-wars-characters-0-chunk0034\n",
      "Creating `:Chunk` node for chunk ID star-wars-characters-0-chunk0035\n",
      "Creating `:Chunk` node for chunk ID star-wars-characters-0-chunk0036\n",
      "Creating `:Chunk` node for chunk ID star-wars-characters-0-chunk0037\n",
      "Creating `:Chunk` node for chunk ID star-wars-characters-0-chunk0038\n",
      "Creating `:Chunk` node for chunk ID star-wars-characters-0-chunk0039\n",
      "Creating `:Chunk` node for chunk ID star-wars-characters-0-chunk0040\n",
      "Creating `:Chunk` node for chunk ID star-wars-characters-0-chunk0041\n",
      "Creating `:Chunk` node for chunk ID star-wars-characters-0-chunk0042\n",
      "Creating `:Chunk` node for chunk ID star-wars-characters-0-chunk0043\n",
      "Creating `:Chunk` node for chunk ID star-wars-characters-0-chunk0044\n",
      "Creating `:Chunk` node for chunk ID star-wars-characters-0-chunk0045\n",
      "Creating `:Chunk` node for chunk ID star-wars-characters-0-chunk0046\n",
      "Creating `:Chunk` node for chunk ID star-wars-characters-0-chunk0047\n",
      "Creating `:Chunk` node for chunk ID star-wars-characters-0-chunk0048\n",
      "Creating `:Chunk` node for chunk ID star-wars-characters-0-chunk0049\n",
      "Creating `:Chunk` node for chunk ID star-wars-characters-0-chunk0050\n",
      "Creating `:Chunk` node for chunk ID star-wars-characters-0-chunk0051\n",
      "Creating `:Chunk` node for chunk ID star-wars-characters-0-chunk0052\n",
      "Creating `:Chunk` node for chunk ID star-wars-characters-0-chunk0053\n",
      "Creating `:Chunk` node for chunk ID star-wars-characters-0-chunk0054\n",
      "Creating `:Chunk` node for chunk ID star-wars-characters-0-chunk0055\n",
      "Creating `:Chunk` node for chunk ID star-wars-characters-0-chunk0056\n",
      "Creating `:Chunk` node for chunk ID star-wars-characters-0-chunk0057\n",
      "Creating `:Chunk` node for chunk ID star-wars-characters-0-chunk0058\n",
      "Creating `:Chunk` node for chunk ID star-wars-characters-0-chunk0059\n",
      "Creating `:Chunk` node for chunk ID star-wars-characters-0-chunk0060\n",
      "Creating `:Chunk` node for chunk ID star-wars-characters-0-chunk0061\n",
      "Creating `:Chunk` node for chunk ID star-wars-characters-0-chunk0062\n",
      "Creating `:Chunk` node for chunk ID star-wars-characters-0-chunk0063\n",
      "Creating `:Chunk` node for chunk ID star-wars-characters-0-chunk0064\n",
      "Creating `:Chunk` node for chunk ID star-wars-characters-0-chunk0065\n",
      "Creating `:Chunk` node for chunk ID star-wars-characters-0-chunk0066\n",
      "Creating `:Chunk` node for chunk ID star-wars-characters-0-chunk0067\n",
      "Created 68 nodes\n"
     ]
    }
   ],
   "source": [
    "node_count = 0\n",
    "for chunk in first_file_chunks:\n",
    "    print(f\"Creating `:Chunk` node for chunk ID {chunk['chunkId']}\")\n",
    "    kg.query(merge_chunk_node_query, \n",
    "            params={\n",
    "                'chunkParam': chunk\n",
    "            })\n",
    "    node_count += 1\n",
    "print(f\"Created {node_count} nodes\")"
   ]
  },
  {
   "cell_type": "code",
   "execution_count": 47,
   "metadata": {},
   "outputs": [
    {
     "data": {
      "text/plain": [
       "[{'nodeCount': 68}]"
      ]
     },
     "execution_count": 47,
     "metadata": {},
     "output_type": "execute_result"
    }
   ],
   "source": [
    "kg.query(\"\"\"\n",
    "         MATCH (n)\n",
    "         RETURN count(n) as nodeCount\n",
    "         \"\"\")"
   ]
  },
  {
   "cell_type": "code",
   "execution_count": 48,
   "metadata": {},
   "outputs": [],
   "source": [
    "import ollama"
   ]
  },
  {
   "cell_type": "code",
   "execution_count": 49,
   "metadata": {},
   "outputs": [],
   "source": [
    "# kg.query(\"\"\"DROP INDEX form_10k_chunks\"\"\")"
   ]
  },
  {
   "cell_type": "code",
   "execution_count": 50,
   "metadata": {},
   "outputs": [
    {
     "data": {
      "text/plain": [
       "[]"
      ]
     },
     "execution_count": 50,
     "metadata": {},
     "output_type": "execute_result"
    }
   ],
   "source": [
    "kg.query(\"\"\"\n",
    "         CREATE VECTOR INDEX `form_10k_chunks` IF NOT EXISTS\n",
    "          FOR (c:Chunk) ON (c.textEmbedding) \n",
    "          OPTIONS { indexConfig: {\n",
    "            `vector.dimensions`: 768,\n",
    "            `vector.similarity_function`: 'cosine'    \n",
    "         }}\n",
    "\"\"\")"
   ]
  },
  {
   "cell_type": "code",
   "execution_count": 51,
   "metadata": {},
   "outputs": [
    {
     "data": {
      "text/plain": [
       "[]"
      ]
     },
     "execution_count": 51,
     "metadata": {},
     "output_type": "execute_result"
    }
   ],
   "source": [
    "def get_ollama_embedding(text):\n",
    "    return ollama.embeddings(model='nomic-embed-text', prompt=text)[\"embedding\"]\n",
    "\n",
    "kg.query(\"\"\"\n",
    "    MATCH (chunk:Chunk) WHERE chunk.textEmbedding IS NULL\n",
    "    WITH chunk\n",
    "    CALL db.create.setNodeVectorProperty(chunk, \"textEmbedding\", $vector)\n",
    "    \"\"\", \n",
    "    params={\"vector\": get_ollama_embedding(chunk['text'])}\n",
    ")"
   ]
  },
  {
   "cell_type": "code",
   "execution_count": 52,
   "metadata": {},
   "outputs": [
    {
     "name": "stdout",
     "output_type": "stream",
     "text": [
      "Node properties are the following:\n",
      "Chunk {character: STRING, text: STRING, source: STRING, textEmbedding: LIST, chunkId: STRING, movie: STRING, chunkSeqId: INTEGER, formId: STRING, year: INTEGER}\n",
      "Relationship properties are the following:\n",
      "\n",
      "The relationships are the following:\n",
      "\n"
     ]
    }
   ],
   "source": [
    "kg.refresh_schema()\n",
    "print(kg.schema)"
   ]
  },
  {
   "cell_type": "code",
   "execution_count": 53,
   "metadata": {},
   "outputs": [],
   "source": [
    "def neo4j_vector_search(question):\n",
    "    \"\"\"Search for similar nodes using the Neo4j vector index.\"\"\"\n",
    "    question_embedding = get_ollama_embedding(question)\n",
    "    \n",
    "    vector_search_query = \"\"\"\n",
    "      CALL db.index.vector.queryNodes($index_name, $top_k, $question_embedding) yield node, score\n",
    "      RETURN score, node.text AS text\n",
    "    \"\"\"\n",
    "    \n",
    "    similar = kg.query(vector_search_query, \n",
    "                       params={\n",
    "                        'question_embedding': question_embedding,\n",
    "                        'index_name': 'form_10k_chunks', \n",
    "                        'top_k': 10})\n",
    "    \n",
    "    return similar"
   ]
  },
  {
   "cell_type": "code",
   "execution_count": 54,
   "metadata": {},
   "outputs": [],
   "source": [
    "search_results = neo4j_vector_search(\n",
    "    'In a single sentence, who is Luke Skywalker.'\n",
    ")"
   ]
  },
  {
   "cell_type": "code",
   "execution_count": 55,
   "metadata": {},
   "outputs": [
    {
     "data": {
      "text/plain": [
       "[{'score': 0.7663984298706055,\n",
       "  'text': 'from the classic “Star Wars” franchise. His journey from a farm boy on the remote desert planet of'},\n",
       " {'score': 0.7663984298706055,\n",
       "  'text': 'planet of Tatooine to the galaxy’s greatest Jedi Knight is a tale of hope, perseverance,'},\n",
       " {'score': 0.7663984298706055,\n",
       "  'text': 'self-discovery, and the eternal struggle between good and evil. As the son of Anakin Skywalker'},\n",
       " {'score': 0.7663984298706055,\n",
       "  'text': 'Skywalker (Darth Vader) and Padmé Amidala, Luke was born into a lineage that was pivotal to the'},\n",
       " {'score': 0.7663984298706055,\n",
       "  'text': 'to the fate of the galaxy. Hidden from his father after the fall of the Jedi Order and the rise of'},\n",
       " {'score': 0.7663984298706055,\n",
       "  'text': 'rise of the Galactic Empire, Luke was raised by his Uncle Owen and Aunt Beru on Tatooine. Though'},\n",
       " {'score': 0.7663984298706055,\n",
       "  'text': 'Though initially unaware of his true heritage, Luke was always drawn to something greater than the'},\n",
       " {'score': 0.7663984298706055, 'text': 'than the life of a moisture farmer.'},\n",
       " {'score': 0.7663984298706055,\n",
       "  'text': 'Luke’s journey truly begins when he encounters the droids R2-D2 and C-3PO, who carry a message from'},\n",
       " {'score': 0.7663984298706055,\n",
       "  'text': 'Luke Skywalker is one of the most iconic characters in cinematic history, originating from the'}]"
      ]
     },
     "execution_count": 55,
     "metadata": {},
     "output_type": "execute_result"
    }
   ],
   "source": [
    "search_results"
   ]
  },
  {
   "cell_type": "code",
   "execution_count": 56,
   "metadata": {},
   "outputs": [],
   "source": [
    "class OllamaEmbeddings:\n",
    "    \"\"\"Custom embeddings class for generating embeddings using the local Ollama model.\"\"\"\n",
    "    \n",
    "    def __init__(self, model_name='nomic-embed-text'):\n",
    "        self.model_name = model_name\n",
    "\n",
    "    def embed_query(self, text):\n",
    "        \"\"\"Generate embeddings for a single text input using Ollama.\"\"\"\n",
    "        result = ollama.embeddings(model=self.model_name, prompt=text)\n",
    "        \n",
    "        if isinstance(result, dict) and 'embedding' in result:\n",
    "            embedding = result['embedding']\n",
    "            if isinstance(embedding, list) and all(isinstance(x, (float, int)) for x in embedding):\n",
    "                return embedding\n",
    "            else:\n",
    "                raise ValueError(\"Ollama embedding is not a valid numerical array.\")\n",
    "        else:\n",
    "            raise ValueError(\"Failed to retrieve embedding from Ollama.\")\n",
    "\n",
    "    def embed_documents(self, texts):\n",
    "        \"\"\"Generate embeddings for a list of documents.\"\"\"\n",
    "        return [self.embed(text) for text in texts]"
   ]
  },
  {
   "cell_type": "code",
   "execution_count": 57,
   "metadata": {},
   "outputs": [],
   "source": [
    "# Global constants\n",
    "VECTOR_INDEX_NAME = 'form_10k_chunks'\n",
    "VECTOR_NODE_LABEL = 'Chunk'\n",
    "VECTOR_SOURCE_PROPERTY = 'text'\n",
    "VECTOR_EMBEDDING_PROPERTY = 'textEmbedding'"
   ]
  },
  {
   "cell_type": "code",
   "execution_count": 58,
   "metadata": {},
   "outputs": [
    {
     "name": "stderr",
     "output_type": "stream",
     "text": [
      "Received notification from DBMS server: {severity: WARNING} {code: Neo.ClientNotification.Statement.FeatureDeprecationWarning} {category: DEPRECATION} {title: This feature is deprecated and will be removed in future versions.} {description: The query used a deprecated procedure. ('db.create.setVectorProperty' has been replaced by 'db.create.setNodeVectorProperty')} {position: line: 1, column: 67, offset: 66} for query: \"UNWIND $data AS row MATCH (n:`Chunk`) WHERE elementId(n) = row.id CALL db.create.setVectorProperty(n, 'textEmbedding', row.embedding) YIELD node RETURN count(*)\"\n"
     ]
    }
   ],
   "source": [
    "ollama_embeddings = OllamaEmbeddings(model_name='nomic-embed-text')\n",
    "\n",
    "neo4j_vector_store = Neo4jVector.from_existing_graph(\n",
    "    embedding=ollama_embeddings,\n",
    "    url=NEO4J_URI,\n",
    "    username=NEO4J_USERNAME,\n",
    "    password=NEO4J_PASSWORD,\n",
    "    index_name=VECTOR_INDEX_NAME,\n",
    "    node_label=VECTOR_NODE_LABEL,\n",
    "    text_node_properties=[VECTOR_SOURCE_PROPERTY],\n",
    "    embedding_node_property=VECTOR_EMBEDDING_PROPERTY,\n",
    ")"
   ]
  },
  {
   "cell_type": "code",
   "execution_count": 59,
   "metadata": {},
   "outputs": [],
   "source": [
    "retriever = neo4j_vector_store.as_retriever()"
   ]
  },
  {
   "cell_type": "code",
   "execution_count": 60,
   "metadata": {},
   "outputs": [],
   "source": [
    "from langchain.llms.base import LLM\n",
    "from typing import List\n",
    "\n",
    "class OllamaLLM(LLM):\n",
    "    \"\"\"Custom LLM class to interface with the local Ollama model.\"\"\"\n",
    "\n",
    "    model_name: str = \"llama3.2:3b\"\n",
    "\n",
    "    def _call(self, prompt: str, stop: List[str] = None) -> str:\n",
    "        \"\"\"Generate a response from the Ollama model.\"\"\"\n",
    "        result = ollama.chat(model=self.model_name, messages=[{'role': 'user', 'content': prompt}], stream=False)\n",
    "        \n",
    "        if isinstance(result, dict) and 'message' in result and 'content' in result['message']:\n",
    "            return result['message']['content']\n",
    "        else:\n",
    "            raise ValueError(f\"Failed to retrieve response from Ollama. Result: {result}\")\n",
    "\n",
    "    @property\n",
    "    def _identifying_params(self) -> dict:\n",
    "        \"\"\"Return the identifying parameters of the model.\"\"\"\n",
    "        return {\"model_name\": self.model_name}\n",
    "    \n",
    "    @property\n",
    "    def _llm_type(self) -> str:\n",
    "        \"\"\"Return the type of the LLM as required by the LangChain framework.\"\"\"\n",
    "        return \"ollama\""
   ]
  },
  {
   "cell_type": "code",
   "execution_count": 61,
   "metadata": {},
   "outputs": [],
   "source": [
    "ollama_llm = OllamaLLM(model_name='llama3.2')\n",
    "\n",
    "chain = RetrievalQAWithSourcesChain.from_chain_type(\n",
    "    llm=ollama_llm,\n",
    "    chain_type=\"stuff\", \n",
    "    retriever=retriever\n",
    ")\n",
    "\n",
    "def prettychain(question: str) -> str:\n",
    "    \"\"\"Pretty print the chain's response to a question\"\"\"\n",
    "    response = chain({\"question\": question}, return_only_outputs=True)\n",
    "    \n",
    "    print(textwrap.fill(response['answer'], 60))\n",
    "    \n",
    "    # # Optionally, you can also print the sources if needed\n",
    "    # if 'sources' in response:\n",
    "    #     print(\"\\nSources:\")\n",
    "    #     for source in response['sources']:\n",
    "    #         print(source)"
   ]
  },
  {
   "cell_type": "code",
   "execution_count": 62,
   "metadata": {},
   "outputs": [
    {
     "name": "stdout",
     "output_type": "stream",
     "text": [
      "I don't know who Luke Skywalker is.\n"
     ]
    }
   ],
   "source": [
    "prettychain(\"In a single sentence, who is Luke Skywalker.\")"
   ]
  },
  {
   "cell_type": "markdown",
   "metadata": {},
   "source": [
    "# Create the movie node"
   ]
  },
  {
   "cell_type": "code",
   "execution_count": 203,
   "metadata": {},
   "outputs": [
    {
     "data": {
      "text/plain": [
       "[{'movieInfo': {'source': 'source',\n",
       "   'formId': 'star-wars-characters',\n",
       "   'movie': 'Star Wars: A New Hope',\n",
       "   'year': 1977}}]"
      ]
     },
     "execution_count": 203,
     "metadata": {},
     "output_type": "execute_result"
    }
   ],
   "source": [
    "cypher = \"\"\"\n",
    "  MATCH (anyChunk:Chunk)\n",
    "  WITH anyChunk LIMIT 1\n",
    "  RETURN anyChunk {.movie, .year, .formId, .source} as movieInfo\n",
    "\"\"\"\n",
    "movie_info_list = kg.query(cypher)\n",
    "\n",
    "movie_info_list\n"
   ]
  },
  {
   "cell_type": "code",
   "execution_count": 204,
   "metadata": {},
   "outputs": [],
   "source": [
    "movie_info = movie_info_list[0][\"movieInfo\"]"
   ]
  },
  {
   "cell_type": "code",
   "execution_count": 205,
   "metadata": {},
   "outputs": [
    {
     "data": {
      "text/plain": [
       "{'source': 'source',\n",
       " 'formId': 'star-wars-characters',\n",
       " 'movie': 'Star Wars: A New Hope',\n",
       " 'year': 1977}"
      ]
     },
     "execution_count": 205,
     "metadata": {},
     "output_type": "execute_result"
    }
   ],
   "source": [
    "movie_info"
   ]
  },
  {
   "cell_type": "code",
   "execution_count": 206,
   "metadata": {},
   "outputs": [
    {
     "data": {
      "text/plain": [
       "[]"
      ]
     },
     "execution_count": 206,
     "metadata": {},
     "output_type": "execute_result"
    }
   ],
   "source": [
    "cypher = \"\"\"\n",
    "    MERGE (f:Form {formId: $movieInfoParam.formId })\n",
    "      ON CREATE \n",
    "        SET f.names = $movieInfoParam.movie\n",
    "        SET f.source = $movieInfoParam.year\n",
    "        SET f.movie = $movieInfoParam.movie\n",
    "        SET f.year = $movieInfoParam.year\n",
    "\n",
    "\"\"\"\n",
    "\n",
    "kg.query(cypher, params={'movieInfoParam': movie_info})"
   ]
  },
  {
   "cell_type": "markdown",
   "metadata": {},
   "source": [
    "### Create a linked list of Chunk nodes for each section\n",
    "- Start by identifying chunks from the same section"
   ]
  },
  {
   "cell_type": "code",
   "execution_count": 207,
   "metadata": {},
   "outputs": [
    {
     "data": {
      "text/plain": [
       "[{'chunkInfo': {'formId': 'star-wars-characters',\n",
       "   'chunkId': 'star-wars-characters-0-chunk0000',\n",
       "   'chunkSeqId': 0}},\n",
       " {'chunkInfo': {'formId': 'star-wars-characters',\n",
       "   'chunkId': 'star-wars-characters-0-chunk0001',\n",
       "   'chunkSeqId': 1}},\n",
       " {'chunkInfo': {'formId': 'star-wars-characters',\n",
       "   'chunkId': 'star-wars-characters-0-chunk0002',\n",
       "   'chunkSeqId': 2}},\n",
       " {'chunkInfo': {'formId': 'star-wars-characters',\n",
       "   'chunkId': 'star-wars-characters-0-chunk0003',\n",
       "   'chunkSeqId': 3}},\n",
       " {'chunkInfo': {'formId': 'star-wars-characters',\n",
       "   'chunkId': 'star-wars-characters-0-chunk0004',\n",
       "   'chunkSeqId': 4}},\n",
       " {'chunkInfo': {'formId': 'star-wars-characters',\n",
       "   'chunkId': 'star-wars-characters-0-chunk0005',\n",
       "   'chunkSeqId': 5}},\n",
       " {'chunkInfo': {'formId': 'star-wars-characters',\n",
       "   'chunkId': 'star-wars-characters-0-chunk0006',\n",
       "   'chunkSeqId': 6}},\n",
       " {'chunkInfo': {'formId': 'star-wars-characters',\n",
       "   'chunkId': 'star-wars-characters-0-chunk0007',\n",
       "   'chunkSeqId': 7}},\n",
       " {'chunkInfo': {'formId': 'star-wars-characters',\n",
       "   'chunkId': 'star-wars-characters-0-chunk0008',\n",
       "   'chunkSeqId': 8}},\n",
       " {'chunkInfo': {'formId': 'star-wars-characters',\n",
       "   'chunkId': 'star-wars-characters-0-chunk0009',\n",
       "   'chunkSeqId': 9}}]"
      ]
     },
     "execution_count": 207,
     "metadata": {},
     "output_type": "execute_result"
    }
   ],
   "source": [
    "cypher = \"\"\"\n",
    "  MATCH (from_same_form:Chunk)\n",
    "    WHERE from_same_form.formId = $formIdParam\n",
    "  RETURN from_same_form {.formId, .chunkId, .chunkSeqId} as chunkInfo\n",
    "    LIMIT 10\n",
    "\"\"\"\n",
    "\n",
    "kg.query(cypher, params={'formIdParam': movie_info['formId']})"
   ]
  },
  {
   "cell_type": "code",
   "execution_count": 208,
   "metadata": {},
   "outputs": [
    {
     "data": {
      "text/plain": [
       "[{'chunkInfo': {'formId': 'star-wars-characters',\n",
       "   'chunkId': 'star-wars-characters-0-chunk0000',\n",
       "   'chunkSeqId': 0}},\n",
       " {'chunkInfo': {'formId': 'star-wars-characters',\n",
       "   'chunkId': 'star-wars-characters-0-chunk0001',\n",
       "   'chunkSeqId': 1}},\n",
       " {'chunkInfo': {'formId': 'star-wars-characters',\n",
       "   'chunkId': 'star-wars-characters-0-chunk0002',\n",
       "   'chunkSeqId': 2}},\n",
       " {'chunkInfo': {'formId': 'star-wars-characters',\n",
       "   'chunkId': 'star-wars-characters-0-chunk0003',\n",
       "   'chunkSeqId': 3}},\n",
       " {'chunkInfo': {'formId': 'star-wars-characters',\n",
       "   'chunkId': 'star-wars-characters-0-chunk0004',\n",
       "   'chunkSeqId': 4}},\n",
       " {'chunkInfo': {'formId': 'star-wars-characters',\n",
       "   'chunkId': 'star-wars-characters-0-chunk0005',\n",
       "   'chunkSeqId': 5}},\n",
       " {'chunkInfo': {'formId': 'star-wars-characters',\n",
       "   'chunkId': 'star-wars-characters-0-chunk0006',\n",
       "   'chunkSeqId': 6}},\n",
       " {'chunkInfo': {'formId': 'star-wars-characters',\n",
       "   'chunkId': 'star-wars-characters-0-chunk0007',\n",
       "   'chunkSeqId': 7}},\n",
       " {'chunkInfo': {'formId': 'star-wars-characters',\n",
       "   'chunkId': 'star-wars-characters-0-chunk0008',\n",
       "   'chunkSeqId': 8}},\n",
       " {'chunkInfo': {'formId': 'star-wars-characters',\n",
       "   'chunkId': 'star-wars-characters-0-chunk0009',\n",
       "   'chunkSeqId': 9}}]"
      ]
     },
     "execution_count": 208,
     "metadata": {},
     "output_type": "execute_result"
    }
   ],
   "source": [
    "cypher = \"\"\"\n",
    "  MATCH (from_same_form:Chunk)\n",
    "    WHERE from_same_form.formId = $formIdParam\n",
    "  RETURN from_same_form {.formId, .chunkId, .chunkSeqId} as chunkInfo \n",
    "    ORDER BY from_same_form.chunkSeqId ASC\n",
    "    LIMIT 10\n",
    "\"\"\"\n",
    "\n",
    "kg.query(cypher, params={'formIdParam': movie_info['formId']})"
   ]
  },
  {
   "cell_type": "code",
   "execution_count": 209,
   "metadata": {},
   "outputs": [
    {
     "data": {
      "text/plain": [
       "[{'collect(from_same_section)': [{'formId': 'star-wars-characters',\n",
       "    'chunkId': 'star-wars-characters-0-chunk0000',\n",
       "    'chunkSeqId': 0},\n",
       "   {'formId': 'star-wars-characters',\n",
       "    'chunkId': 'star-wars-characters-0-chunk0001',\n",
       "    'chunkSeqId': 1},\n",
       "   {'formId': 'star-wars-characters',\n",
       "    'chunkId': 'star-wars-characters-0-chunk0002',\n",
       "    'chunkSeqId': 2},\n",
       "   {'formId': 'star-wars-characters',\n",
       "    'chunkId': 'star-wars-characters-0-chunk0003',\n",
       "    'chunkSeqId': 3},\n",
       "   {'formId': 'star-wars-characters',\n",
       "    'chunkId': 'star-wars-characters-0-chunk0004',\n",
       "    'chunkSeqId': 4},\n",
       "   {'formId': 'star-wars-characters',\n",
       "    'chunkId': 'star-wars-characters-0-chunk0005',\n",
       "    'chunkSeqId': 5},\n",
       "   {'formId': 'star-wars-characters',\n",
       "    'chunkId': 'star-wars-characters-0-chunk0006',\n",
       "    'chunkSeqId': 6},\n",
       "   {'formId': 'star-wars-characters',\n",
       "    'chunkId': 'star-wars-characters-0-chunk0007',\n",
       "    'chunkSeqId': 7},\n",
       "   {'formId': 'star-wars-characters',\n",
       "    'chunkId': 'star-wars-characters-0-chunk0008',\n",
       "    'chunkSeqId': 8},\n",
       "   {'formId': 'star-wars-characters',\n",
       "    'chunkId': 'star-wars-characters-0-chunk0009',\n",
       "    'chunkSeqId': 9}]}]"
      ]
     },
     "execution_count": 209,
     "metadata": {},
     "output_type": "execute_result"
    }
   ],
   "source": [
    "cypher = \"\"\"\n",
    "  MATCH (from_same_section:Chunk)\n",
    "  WHERE from_same_section.formId = $formIdParam\n",
    "  WITH from_same_section {.formId, .chunkId, .chunkSeqId} \n",
    "    ORDER BY from_same_section.chunkSeqId ASC\n",
    "    LIMIT 10\n",
    "  RETURN collect(from_same_section) // NEW!!!\n",
    "\"\"\"\n",
    "\n",
    "kg.query(cypher, params={'formIdParam': movie_info['formId']})\n"
   ]
  },
  {
   "cell_type": "markdown",
   "metadata": {},
   "source": [
    "### Add a NEXT relationship between subsequent chunks\n",
    "- Use the `apoc.nodes.link` function from Neo4j to link ordered list of `Chunk` nodes with a `NEXT` relationship\n",
    "- Do this for just the \"Item 1\" section to start"
   ]
  },
  {
   "cell_type": "code",
   "execution_count": 210,
   "metadata": {},
   "outputs": [
    {
     "data": {
      "text/plain": [
       "[{'size(section_chunk_list)': 38}]"
      ]
     },
     "execution_count": 210,
     "metadata": {},
     "output_type": "execute_result"
    }
   ],
   "source": [
    "cypher = \"\"\"\n",
    "  MATCH (from_same_section:Chunk)\n",
    "  WHERE from_same_section.formId = $formIdParam\n",
    "  WITH from_same_section\n",
    "    ORDER BY from_same_section.chunkSeqId ASC\n",
    "  WITH collect(from_same_section) as section_chunk_list\n",
    "    CALL apoc.nodes.link(\n",
    "        section_chunk_list, \n",
    "        \"NEXT\", \n",
    "        {avoidDuplicates: true}\n",
    "    )  // NEW!!!\n",
    "  RETURN size(section_chunk_list)\n",
    "\"\"\"\n",
    "\n",
    "kg.query(cypher, params={'formIdParam': movie_info['formId']})\n"
   ]
  },
  {
   "cell_type": "code",
   "execution_count": 211,
   "metadata": {},
   "outputs": [
    {
     "name": "stdout",
     "output_type": "stream",
     "text": [
      "Node properties are the following:\n",
      "Chunk {character: STRING, text: STRING, source: STRING, textEmbedding: LIST, chunkId: STRING, movie: STRING, chunkSeqId: INTEGER, formId: STRING, year: INTEGER},Form {names: STRING, formId: STRING, source: INTEGER, movie: STRING, year: INTEGER}\n",
      "Relationship properties are the following:\n",
      "\n",
      "The relationships are the following:\n",
      "(:Chunk)-[:NEXT]->(:Chunk)\n"
     ]
    }
   ],
   "source": [
    "kg.refresh_schema()\n",
    "print(kg.schema)"
   ]
  },
  {
   "cell_type": "code",
   "execution_count": 212,
   "metadata": {},
   "outputs": [
    {
     "data": {
      "text/plain": [
       "[{'count(newRelationship)': 38}]"
      ]
     },
     "execution_count": 212,
     "metadata": {},
     "output_type": "execute_result"
    }
   ],
   "source": [
    "cypher = \"\"\"\n",
    "  MATCH (c:Chunk), (f:Form)\n",
    "    WHERE c.formId = f.formId\n",
    "  MERGE (c)-[newRelationship:PART_OF]->(f)\n",
    "  RETURN count(newRelationship)\n",
    "\"\"\"\n",
    "\n",
    "kg.query(cypher)"
   ]
  },
  {
   "cell_type": "code",
   "execution_count": null,
   "metadata": {},
   "outputs": [],
   "source": []
  }
 ],
 "metadata": {
  "kernelspec": {
   "display_name": "venv_graph",
   "language": "python",
   "name": "python3"
  },
  "language_info": {
   "codemirror_mode": {
    "name": "ipython",
    "version": 3
   },
   "file_extension": ".py",
   "mimetype": "text/x-python",
   "name": "python",
   "nbconvert_exporter": "python",
   "pygments_lexer": "ipython3",
   "version": "3.11.9"
  }
 },
 "nbformat": 4,
 "nbformat_minor": 2
}
