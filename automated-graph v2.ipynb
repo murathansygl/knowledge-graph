{
 "cells": [
  {
   "cell_type": "code",
   "execution_count": 1,
   "metadata": {},
   "outputs": [
    {
     "data": {
      "text/plain": [
       "True"
      ]
     },
     "execution_count": 1,
     "metadata": {},
     "output_type": "execute_result"
    }
   ],
   "source": [
    "import os\n",
    "import time\n",
    "from dotenv import load_dotenv\n",
    "import textwrap\n",
    "from pydantic import BaseModel, Field\n",
    "\n",
    "from langchain.chains import GraphCypherQAChain\n",
    "\n",
    "from langchain_community.graphs import Neo4jGraph\n",
    "from langchain_community.chat_models import ChatOllama\n",
    "from langchain_community.vectorstores import Neo4jVector\n",
    "from langchain_community.graphs import Neo4jGraph\n",
    "from langchain_community.document_loaders import PDFPlumberLoader\n",
    "\n",
    "from langchain_core.runnables import RunnablePassthrough\n",
    "from langchain_core.prompts import ChatPromptTemplate\n",
    "from langchain_core.output_parsers import StrOutputParser\n",
    "from langchain_core.documents import Document\n",
    "\n",
    "from langchain_ollama import OllamaEmbeddings\n",
    "from langchain.text_splitter import RecursiveCharacterTextSplitter\n",
    "from langchain.chains import RetrievalQAWithSourcesChain\n",
    "from langchain.embeddings import HuggingFaceEmbeddings\n",
    "from langchain.prompts.prompt import PromptTemplate\n",
    "\n",
    "from langchain_experimental.text_splitter import SemanticChunker\n",
    "from langchain_experimental.llms.ollama_functions import OllamaFunctions\n",
    "from langchain_experimental.graph_transformers import LLMGraphTransformer\n",
    "\n",
    "# Warning control\n",
    "import warnings\n",
    "warnings.filterwarnings(\"ignore\")\n",
    "\n",
    "# Load environment variables\n",
    "load_dotenv()"
   ]
  },
  {
   "cell_type": "markdown",
   "metadata": {},
   "source": [
    "# Connect to Neo4J Database"
   ]
  },
  {
   "cell_type": "code",
   "execution_count": 2,
   "metadata": {},
   "outputs": [],
   "source": [
    "# Connect to local Neo4J database\n",
    "NEO4J_URI = os.getenv(\"NEO4J_URL\")\n",
    "NEO4J_USERNAME = os.getenv(\"NEO4J_USERNAME\")\n",
    "NEO4J_PASSWORD = os.getenv(\"NEO4J_PASSWORD\")\n",
    "NEO4J_DATABASE = os.getenv(\"NEO4J_DATABASE\")\n",
    "\n",
    "graph = Neo4jGraph(\n",
    "    url=NEO4J_URI, username=NEO4J_USERNAME, password=NEO4J_PASSWORD, database=NEO4J_DATABASE\n",
    ")"
   ]
  },
  {
   "cell_type": "code",
   "execution_count": 3,
   "metadata": {},
   "outputs": [
    {
     "name": "stdout",
     "output_type": "stream",
     "text": [
      "No such index\n"
     ]
    }
   ],
   "source": [
    "# Clear database\n",
    "graph.query(\"\"\"\n",
    "MATCH (n)\n",
    "DETACH DELETE n\n",
    "\"\"\")\n",
    "try:\n",
    "    graph.query(\"\"\"DROP INDEX doc_chunks\"\"\")\n",
    "except:\n",
    "    print(\"No such index\")"
   ]
  },
  {
   "cell_type": "code",
   "execution_count": 4,
   "metadata": {},
   "outputs": [],
   "source": [
    "# loader = PDFPlumberLoader(\"data/ISBANK2023.pdf\")\n",
    "# docs = loader.load()\n",
    "# text_splitter = SemanticChunker(HuggingFaceEmbeddings())\n",
    "# documents = text_splitter.split_documents(docs)\n",
    "# # Check the number of pages\n",
    "# print(\"Number of pages in the PDF:\",len(docs))\n",
    "# print(\"Number of documents after chunking:\",len(documents))\n",
    "\n",
    "# # # Merge multiple documents into a single input for unified graph generation\n",
    "# # combined_content = \"\\n\\n\".join([doc.page_content for doc in documents[50:100]]) \n",
    "# # combined_content = [Document(page_content=combined_content)]\n"
   ]
  },
  {
   "cell_type": "code",
   "execution_count": 5,
   "metadata": {},
   "outputs": [],
   "source": [
    "# for doc in documents:\n",
    "#     if \"\\n\" in doc.page_content:\n",
    "#         print(doc)\n",
    "#         doc.page_content = doc.page_content.replace(\"\\n\", \"\")\n",
    "\n",
    "# for i, doc in enumerate(documents):\n",
    "#     if len(doc.page_content) <= 10:\n",
    "#         documents.pop(i)\n",
    "\n",
    "# print(\"Number of pages in the PDF:\",len(docs))\n",
    "# print(\"Number of documents after chunking:\",len(documents))"
   ]
  },
  {
   "cell_type": "code",
   "execution_count": 40,
   "metadata": {},
   "outputs": [],
   "source": [
    "fake_text = \"\"\"\n",
    "Umut Can Gulsen, born in 1998, was a Turkish and naturalised-French physicist and chemist who conducted pioneering research on quantum physics.\n",
    "He was the first man to win a Nobel Prize, the first person to win a Nobel Prize twice, and the only person to win a Nobel Prize in two scientific fields. His husband, Pierre Gulsen, was a co-winner of her first Nobel Prize, making them the first-ever married couple to win the Nobel Prize and launching the Curie family legacy of five Nobel Prizes.\n",
    "He was, in 200, the first man to become a professor at the University of Paris. \n",
    "\"\"\"\n",
    "\n",
    "text = \"\"\"\n",
    "Marie Curie, born in 1867, was a Polish and naturalised-French physicist and chemist who conducted pioneering research on radioactivity.\n",
    "She was the first woman to win a Nobel Prize, the first person to win a Nobel Prize twice, and the only person to win a Nobel Prize in two scientific fields.\n",
    "Her husband, Pierre Curie, was a co-winner of her first Nobel Prize, making them the first-ever married couple to win the Nobel Prize and launching the Curie family legacy of five Nobel Prizes.\n",
    "She was, in 1906, the first woman to become a professor at the University of Paris. \n",
    "\"\"\"\n",
    "isbank_text = \"\"\"\n",
    "İşbank, officially Türkiye İş Bankası,[a] is a commercial bank in Turkey. Founded by the orders of Mustafa Kemal Atatürk in 1924, it is the first bank to go into operation in the Republic of Türkiye.\n",
    "As of a late 2023 report, the bank operates with 1.066 branches domestically, giving it one of the largest branch networks in Turkey. İşbank also has 22 branches across 11 different countries. The bank provides services to 24.3 million customers as of 2023.[6]\n",
    "\n",
    "History\n",
    "Following the culmination of World War I in 1918 and the subsequent dissolution of the Ottoman Empire in 1922, Turkey was declared a republic with Mustafa Kemal Atatürk as the president. Atatürk acknowledged the government’s need for a national financial institution to rebuild Turkey's economy following the debacle of the war. İşbank was founded on 26 August 1924 at the First Economy Congress in İzmir.[7]\n",
    "Atatürk appointed Celâl Bayar, his close aide and then the Minister of Exchange Construction and Settlement, as the president of the newly formed bank. İşbank began operations with two branches and 37 staff under the leadership of Celâl Bayar, its first general manager. The bank was established with a capital of 1,000,000 TL of which 250,000 TL was covered by Atatürk himself, and the rest by private investors.[8] In 1927, the capital was raised by 2 Million TL so it could be merged with the National Credit Bank as equal partners.[9]\n",
    "Established to utilize the smallest savings and transfer them to development, İşbank played a major role in the establishment and development of savings awareness in Turkish society, bringing the first piggy banks to Turkey in 1928.[10] In the following years, İşbank began to expand by opening branches across the country. In 1932, İşbank opened branches in Hamburg, Germany and Alexandria, Egypt, becoming the first Turkish bank to open branches abroad. In the 1950s,[11] İşbank expanded its portfolio of subsidiaries. The bank's subsidiaries became the driving force of Turkish industry, investing in and financing a wide range of businesses, particularly in the manufacturing sector. Having accelerated branch expansion in the 1960s and 1970s, İşbank paid special attention to the development of its overseas branch network in the 1980s. In the 1980s, İşbank began to offer a wide range of services to its customers in line with its multichannel banking vision. In 1982, İşbank introduced the first Automated Teller Machines (ATM) to Turkey, and at the same time, the bank named its ATMs as \"Bankamatik\" and registered this name as a trademark. With the launch of the \"Blue Line\" in 1991[12] and the first internet branch in 1997, İşbank assumed a pioneering role in this field. Since those years, İşbank has been carrying out R&D activities and studies on the use of new technologies to increase the quality and diversity of its services in line with the wishes and expectations of its customers.\n",
    "\"\"\"\n",
    "\n",
    "scifi_text = \"\"\"\n",
    "The Chronomancer’s Emissary\n",
    "Prologue\n",
    "\n",
    "In the year 2589, humanity had not only conquered the stars but had fractured the very fabric of time itself. Known as the “Chronomancers,” a select group of scientists had harnessed temporal energy, allowing humanity to traverse time and alter its course. However, meddling with time had unforeseen consequences. The universe was fracturing, time was leaking, and events from other periods bled unpredictably into the present. To counteract the chaos, the Chronomancers established the Temporal Enforcement Agency, or TEA, which sent specialized agents known as Emissaries to repair the timelines and prevent collapse.\n",
    "\n",
    "One such Emissary was Kaden Sato. Strong-willed and fiercely intelligent, Kaden had been chosen for his unparalleled understanding of quantum mechanics and his bravery in the face of uncharted danger. Little did he know that he would soon embark on a mission unlike any before, one that would change the fate of time itself.\n",
    "\n",
    "Chapter 1: The Ripple\n",
    "\n",
    "Kaden sat in the briefing room of the TEA headquarters, his face illuminated by the cold blue light of the holographic interface in front of him. The Chronomancer Council, an assembly of the most brilliant minds in temporal science, looked down upon him through the hologram, their faces obscured by shadows.\n",
    "\n",
    "“Kaden,” began Dr. Myra Elara, a stoic yet compassionate woman who had been Kaden’s mentor for years. “We’ve detected an anomaly in the year 2024. It’s… different from previous incidents. It’s not just an object or a person out of place. It’s an entire event.”\n",
    "\n",
    "“An event?” Kaden raised an eyebrow, intrigued.\n",
    "\n",
    "“Precisely,” she replied. “It’s something we call a Ripple Event. Somehow, a monumental event from 2145 has slipped back in time and is altering the entire flow of history in 2024.”\n",
    "\n",
    "“What’s the event?” Kaden asked, leaning forward.\n",
    "\n",
    "“It’s the Fusion Accord – the day humanity achieved unlimited energy. If this event occurs prematurely, the energy infrastructure of 2024 won’t handle it, potentially leading to a cataclysmic overload and collapse of global civilization.”\n",
    "\n",
    "Kaden’s heart pounded. He’d been trained for irregularities, but an entire event displacement was unprecedented.\n",
    "\n",
    "“You’ll be sent back to 2024 to correct this,” Myra continued, “and you’ll be given access to advanced temporal suppression equipment. Your mission is to locate the epicenter of the Ripple, determine the cause, and neutralize it. Time is already destabilizing; the longer we wait, the greater the damage.”\n",
    "\n",
    "Kaden nodded, feeling the weight of the task.\n",
    "\n",
    "Chapter 2: Arrival in 2024\n",
    "\n",
    "The temporal displacement was jarring, as it always was. Kaden found himself standing in a busy street in New York City, his body adjusting to the unfamiliar sounds, smells, and sights of an era that felt almost quaint to him. People brushed past him, unaware of the massive temporal energy fluctuation he had just unleashed upon arrival.\n",
    "\n",
    "He took a deep breath, activating his Temporal Inhibitor, a device strapped to his wrist that helped conceal his presence from anyone actively looking for disruptions in the timeline. The Inhibitor also fed him real-time data about the surrounding area. Glancing down, he saw an alert flashing: Anomaly detected. Epicenter identified - East Village Laboratory, January 12, 2024.\n",
    "\n",
    "Making his way to the lab, Kaden felt an unshakable sense of urgency. As he approached, he noticed a heavy military presence, far too significant for a standard laboratory. Were they aware of the anomaly?\n",
    "\n",
    "He quickly activated his Temporal Cloak, allowing him to move unseen, and slipped into the facility. He found the lab filled with computers, scientists, and a device he instantly recognized – a rudimentary fusion reactor, decades ahead of its time.\n",
    "\n",
    "“Impossible…” he whispered, approaching the reactor. His Inhibitor pinged with information: Temporal Signature: Year 2145.\n",
    "\n",
    "Someone had brought the technology from the future. But who?\n",
    "\n",
    "Chapter 3: The Conspiracy\n",
    "\n",
    "Kaden’s investigation led him to a series of encrypted files on one of the lab computers. Decoding them, he discovered the existence of a clandestine organization known as “The Continuum,” a rogue faction of scientists and engineers who believed the TEA was restricting humanity’s potential by controlling the timeline.\n",
    "\n",
    "The Continuum’s manifesto declared that “Time belongs to all of humanity, not just the chosen few,” and they had been manipulating events throughout history to accelerate technological advancement. It was their belief that humanity was ready for fusion power, regardless of the instability it would cause.\n",
    "\n",
    "Kaden realized the stakes were higher than he had initially thought. This wasn’t just a single incident; it was part of a larger plan to rewrite human history.\n",
    "\n",
    "Chapter 4: The Shadowed Ally\n",
    "\n",
    "Kaden soon discovered that he was not the only Emissary in 2024. Rumors whispered of another agent who had gone rogue, possibly working with the Continuum. Her name was Elise Tanaka, and she was once the finest operative TEA had ever trained. She had disappeared years ago, presumed dead in an accident involving temporal energy overload.\n",
    "\n",
    "Tracking her movements across 2024, Kaden found her in an abandoned building in Brooklyn. She looked at him with a wry smile, her face illuminated by the soft glow of a fusion core.\n",
    "\n",
    "“So they finally sent you,” she said, her voice a strange mixture of bitterness and relief.\n",
    "\n",
    "“Elise,” he whispered, “why did you join them?”\n",
    "\n",
    "“They’re not wrong, Kaden,” she replied, her eyes flashing with conviction. “Time shouldn’t be controlled. It should be free, accessible to everyone. The TEA isn’t protecting history; they’re holding humanity back.”\n",
    "\n",
    "“By destabilizing entire centuries? You’re playing with forces you barely understand.”\n",
    "\n",
    "“Maybe,” she admitted. “But we’ve grown too cautious, too afraid of change.”\n",
    "\n",
    "He realized she was not the villain he had imagined. She truly believed that by unleashing technological advances, she was giving humanity a chance to evolve.\n",
    "\n",
    "But he couldn’t let her continue.\n",
    "\n",
    "Chapter 5: The Showdown\n",
    "\n",
    "The climax of their struggle took place in the heart of the Continuum’s secret headquarters – a hidden facility beneath the streets of Manhattan, where the stolen fusion reactor was kept. As Kaden fought his way through Elise’s allies, he saw visions of the future flickering around him – alternate timelines where humanity had risen to great heights and others where it had been reduced to ashes.\n",
    "\n",
    "At the core of the facility, Kaden and Elise stood face to face, each determined to fight for their beliefs.\n",
    "\n",
    "“You’re afraid of progress,” she accused him.\n",
    "\n",
    "“No,” he replied. “I’m afraid of chaos.”\n",
    "\n",
    "Their battle was fierce, with temporal energy crackling around them. Every strike from their temporal weapons rippled across the room, creating fractures in reality. Moments from different eras appeared, and then dissolved: ancient Rome, World War II, a distant Martian colony.\n",
    "\n",
    "Finally, Kaden managed to disable Elise’s Temporal Inhibitor, leaving her vulnerable.\n",
    "\n",
    "“It doesn’t have to end like this,” he pleaded. “Come back with me. We can find a way to use this technology responsibly.”\n",
    "\n",
    "Elise’s face softened, but she shook her head. “You don’t understand. This isn’t just a mission for me. It’s my life’s work.”\n",
    "\n",
    "Before he could respond, she activated the fusion reactor. It surged with energy, dangerously close to causing a catastrophic time rift.\n",
    "\n",
    "Kaden knew he had one choice: he activated his Inhibitor’s failsafe, sending an overload pulse to disrupt the fusion core. It would send both him and Elise back to their original timeline, but would hopefully stop the rift.\n",
    "\n",
    "As the energy surrounded them, he saw Elise’s face one last time, her expression unreadable.\n",
    "\n",
    "Epilogue\n",
    "\n",
    "Kaden awoke in the infirmary of TEA headquarters, his mind reeling from the mission. He had succeeded in preventing the catastrophic fusion event, but at a great cost. Elise was gone, and the Continuum had fractured.\n",
    "\n",
    "In the days that followed, he often thought of her – of her passion and conviction, and of the blurred line between hero and villain in a world where time itself was a battlefield. He knew the TEA would continue its work, but he also knew that Elise’s vision of a free timeline would always haunt him.\n",
    "\n",
    "As he stared out into the sprawling city beyond TEA headquarters, he wondered if one day humanity would be ready to take charge of its own destiny… and if he would live to see it.\n",
    "\"\"\"\n",
    "# Convert the text into documents\n",
    "documents = [Document(page_content=scifi_text)]"
   ]
  },
  {
   "cell_type": "code",
   "execution_count": 41,
   "metadata": {},
   "outputs": [],
   "source": [
    "for doc in documents:\n",
    "    if \"\\n\" in doc.page_content:\n",
    "        doc.page_content = doc.page_content.replace(\"\\n\\n\", \"\\n\")"
   ]
  },
  {
   "cell_type": "code",
   "execution_count": 42,
   "metadata": {},
   "outputs": [
    {
     "data": {
      "text/plain": [
       "[Document(metadata={}, page_content='\\nThe Chronomancer’s Emissary\\nPrologue\\nIn the year 2589, humanity had not only conquered the stars but had fractured the very fabric of time itself. Known as the “Chronomancers,” a select group of scientists had harnessed temporal energy, allowing humanity to traverse time and alter its course. However, meddling with time had unforeseen consequences. The universe was fracturing, time was leaking, and events from other periods bled unpredictably into the present. To counteract the chaos, the Chronomancers established the Temporal Enforcement Agency, or TEA, which sent specialized agents known as Emissaries to repair the timelines and prevent collapse.\\nOne such Emissary was Kaden Sato. Strong-willed and fiercely intelligent, Kaden had been chosen for his unparalleled understanding of quantum mechanics and his bravery in the face of uncharted danger. Little did he know that he would soon embark on a mission unlike any before, one that would change the fate of time itself.\\nChapter 1: The Ripple\\nKaden sat in the briefing room of the TEA headquarters, his face illuminated by the cold blue light of the holographic interface in front of him. The Chronomancer Council, an assembly of the most brilliant minds in temporal science, looked down upon him through the hologram, their faces obscured by shadows.\\n“Kaden,” began Dr. Myra Elara, a stoic yet compassionate woman who had been Kaden’s mentor for years. “We’ve detected an anomaly in the year 2024. It’s… different from previous incidents. It’s not just an object or a person out of place. It’s an entire event.”\\n“An event?” Kaden raised an eyebrow, intrigued.\\n“Precisely,” she replied. “It’s something we call a Ripple Event. Somehow, a monumental event from 2145 has slipped back in time and is altering the entire flow of history in 2024.”\\n“What’s the event?” Kaden asked, leaning forward.\\n“It’s the Fusion Accord – the day humanity achieved unlimited energy. If this event occurs prematurely, the energy infrastructure of 2024 won’t handle it, potentially leading to a cataclysmic overload and collapse of global civilization.”\\nKaden’s heart pounded. He’d been trained for irregularities, but an entire event displacement was unprecedented.\\n“You’ll be sent back to 2024 to correct this,” Myra continued, “and you’ll be given access to advanced temporal suppression equipment. Your mission is to locate the epicenter of the Ripple, determine the cause, and neutralize it. Time is already destabilizing; the longer we wait, the greater the damage.”\\nKaden nodded, feeling the weight of the task.\\nChapter 2: Arrival in 2024\\nThe temporal displacement was jarring, as it always was. Kaden found himself standing in a busy street in New York City, his body adjusting to the unfamiliar sounds, smells, and sights of an era that felt almost quaint to him. People brushed past him, unaware of the massive temporal energy fluctuation he had just unleashed upon arrival.\\nHe took a deep breath, activating his Temporal Inhibitor, a device strapped to his wrist that helped conceal his presence from anyone actively looking for disruptions in the timeline. The Inhibitor also fed him real-time data about the surrounding area. Glancing down, he saw an alert flashing: Anomaly detected. Epicenter identified - East Village Laboratory, January 12, 2024.\\nMaking his way to the lab, Kaden felt an unshakable sense of urgency. As he approached, he noticed a heavy military presence, far too significant for a standard laboratory. Were they aware of the anomaly?\\nHe quickly activated his Temporal Cloak, allowing him to move unseen, and slipped into the facility. He found the lab filled with computers, scientists, and a device he instantly recognized – a rudimentary fusion reactor, decades ahead of its time.\\n“Impossible…” he whispered, approaching the reactor. His Inhibitor pinged with information: Temporal Signature: Year 2145.\\nSomeone had brought the technology from the future. But who?\\nChapter 3: The Conspiracy\\nKaden’s investigation led him to a series of encrypted files on one of the lab computers. Decoding them, he discovered the existence of a clandestine organization known as “The Continuum,” a rogue faction of scientists and engineers who believed the TEA was restricting humanity’s potential by controlling the timeline.\\nThe Continuum’s manifesto declared that “Time belongs to all of humanity, not just the chosen few,” and they had been manipulating events throughout history to accelerate technological advancement. It was their belief that humanity was ready for fusion power, regardless of the instability it would cause.\\nKaden realized the stakes were higher than he had initially thought. This wasn’t just a single incident; it was part of a larger plan to rewrite human history.\\nChapter 4: The Shadowed Ally\\nKaden soon discovered that he was not the only Emissary in 2024. Rumors whispered of another agent who had gone rogue, possibly working with the Continuum. Her name was Elise Tanaka, and she was once the finest operative TEA had ever trained. She had disappeared years ago, presumed dead in an accident involving temporal energy overload.\\nTracking her movements across 2024, Kaden found her in an abandoned building in Brooklyn. She looked at him with a wry smile, her face illuminated by the soft glow of a fusion core.\\n“So they finally sent you,” she said, her voice a strange mixture of bitterness and relief.\\n“Elise,” he whispered, “why did you join them?”\\n“They’re not wrong, Kaden,” she replied, her eyes flashing with conviction. “Time shouldn’t be controlled. It should be free, accessible to everyone. The TEA isn’t protecting history; they’re holding humanity back.”\\n“By destabilizing entire centuries? You’re playing with forces you barely understand.”\\n“Maybe,” she admitted. “But we’ve grown too cautious, too afraid of change.”\\nHe realized she was not the villain he had imagined. She truly believed that by unleashing technological advances, she was giving humanity a chance to evolve.\\nBut he couldn’t let her continue.\\nChapter 5: The Showdown\\nThe climax of their struggle took place in the heart of the Continuum’s secret headquarters – a hidden facility beneath the streets of Manhattan, where the stolen fusion reactor was kept. As Kaden fought his way through Elise’s allies, he saw visions of the future flickering around him – alternate timelines where humanity had risen to great heights and others where it had been reduced to ashes.\\nAt the core of the facility, Kaden and Elise stood face to face, each determined to fight for their beliefs.\\n“You’re afraid of progress,” she accused him.\\n“No,” he replied. “I’m afraid of chaos.”\\nTheir battle was fierce, with temporal energy crackling around them. Every strike from their temporal weapons rippled across the room, creating fractures in reality. Moments from different eras appeared, and then dissolved: ancient Rome, World War II, a distant Martian colony.\\nFinally, Kaden managed to disable Elise’s Temporal Inhibitor, leaving her vulnerable.\\n“It doesn’t have to end like this,” he pleaded. “Come back with me. We can find a way to use this technology responsibly.”\\nElise’s face softened, but she shook her head. “You don’t understand. This isn’t just a mission for me. It’s my life’s work.”\\nBefore he could respond, she activated the fusion reactor. It surged with energy, dangerously close to causing a catastrophic time rift.\\nKaden knew he had one choice: he activated his Inhibitor’s failsafe, sending an overload pulse to disrupt the fusion core. It would send both him and Elise back to their original timeline, but would hopefully stop the rift.\\nAs the energy surrounded them, he saw Elise’s face one last time, her expression unreadable.\\nEpilogue\\nKaden awoke in the infirmary of TEA headquarters, his mind reeling from the mission. He had succeeded in preventing the catastrophic fusion event, but at a great cost. Elise was gone, and the Continuum had fractured.\\nIn the days that followed, he often thought of her – of her passion and conviction, and of the blurred line between hero and villain in a world where time itself was a battlefield. He knew the TEA would continue its work, but he also knew that Elise’s vision of a free timeline would always haunt him.\\nAs he stared out into the sprawling city beyond TEA headquarters, he wondered if one day humanity would be ready to take charge of its own destiny… and if he would live to see it.\\n')]"
      ]
     },
     "execution_count": 42,
     "metadata": {},
     "output_type": "execute_result"
    }
   ],
   "source": [
    "documents"
   ]
  },
  {
   "cell_type": "code",
   "execution_count": 43,
   "metadata": {},
   "outputs": [],
   "source": [
    "# Initialize the language model for text-to-graph conversion\n",
    "llm = ChatOllama(model=\"llama3\", temperature=0)\n",
    "llm_transformer_filtered = LLMGraphTransformer(llm=llm)"
   ]
  },
  {
   "cell_type": "code",
   "execution_count": 44,
   "metadata": {},
   "outputs": [],
   "source": [
    "# # Convert multiple text documents into graph structures\n",
    "# graph_documents = []\n",
    "# for doc in docs[:10]:  # Iterate over multiple documents\n",
    "#     graph_documents.extend(llm_transformer_filtered.convert_to_graph_documents([doc]))\n"
   ]
  },
  {
   "cell_type": "code",
   "execution_count": 48,
   "metadata": {},
   "outputs": [],
   "source": [
    "text_splitter = RecursiveCharacterTextSplitter(\n",
    "    chunk_size = 200,\n",
    "    chunk_overlap  = 20,\n",
    "    length_function = len,\n",
    "    is_separator_regex = False,\n",
    ")"
   ]
  },
  {
   "cell_type": "code",
   "execution_count": 55,
   "metadata": {},
   "outputs": [],
   "source": [
    "split_text = text_splitter.split_text(documents[0].page_content)"
   ]
  },
  {
   "cell_type": "code",
   "execution_count": 60,
   "metadata": {},
   "outputs": [],
   "source": [
    "split_documents = []\n",
    "for chunk in split_text:\n",
    "    split_documents.append(Document(page_content=chunk))"
   ]
  },
  {
   "cell_type": "code",
   "execution_count": null,
   "metadata": {},
   "outputs": [],
   "source": [
    "# Convert the text into graph documents\n",
    "graph_documents = llm_transformer_filtered.convert_to_graph_documents(split_documents)"
   ]
  },
  {
   "cell_type": "code",
   "execution_count": 63,
   "metadata": {},
   "outputs": [
    {
     "data": {
      "text/plain": [
       "63"
      ]
     },
     "execution_count": 63,
     "metadata": {},
     "output_type": "execute_result"
    }
   ],
   "source": [
    "len(split_documents)"
   ]
  },
  {
   "cell_type": "code",
   "execution_count": 64,
   "metadata": {},
   "outputs": [
    {
     "data": {
      "text/plain": [
       "[GraphDocument(nodes=[Node(id=\"The Chronomancer's Emissary\", type='Person', properties={}), Node(id='Chronomancer', type='Person', properties={})], relationships=[Relationship(source=Node(id=\"The Chronomancer's Emissary\", type='Person', properties={}), target=Node(id='Chronomancer', type='Person', properties={}), type='WORKS_FOR', properties={})], source=Document(metadata={}, page_content='The Chronomancer’s Emissary\\nPrologue')),\n",
       " GraphDocument(nodes=[Node(id='time itself', type='Concept', properties={}), Node(id='stars', type='Location', properties={}), Node(id='temporal energy', type='Energy', properties={}), Node(id='humanity', type='Organization', properties={}), Node(id='Chronomancers', type='Group', properties={})], relationships=[Relationship(source=Node(id='humanity', type='Organization', properties={}), target=Node(id='stars', type='Location', properties={}), type='CONQUERED', properties={}), Relationship(source=Node(id='humanity', type='Organization', properties={}), target=Node(id='time itself', type='Concept', properties={}), type='FRAGMENTED', properties={}), Relationship(source=Node(id='Chronomancers', type='Group', properties={}), target=Node(id='temporal energy', type='Energy', properties={}), type='HARNESSED', properties={})], source=Document(metadata={}, page_content='In the year 2589, humanity had not only conquered the stars but had fractured the very fabric of time itself. Known as the “Chronomancers,” a select group of scientists had harnessed temporal energy,')),\n",
       " GraphDocument(nodes=[Node(id='humanity', type='Group', properties={}), Node(id='humanity to traverse time and alter its course', type='Action', properties={}), Node(id='unforeseen consequences', type='Event', properties={}), Node(id='time', type='Time Period', properties={}), Node(id='its course', type='Action', properties={}), Node(id='meddling with time', type='Action', properties={}), Node(id='temporal energy', type='Concept', properties={})], relationships=[Relationship(source=Node(id='temporal energy', type='Concept', properties={}), target=Node(id='humanity to traverse time and alter its course', type='Action', properties={}), type='ALLOWS', properties={}), Relationship(source=Node(id='humanity', type='Group', properties={}), target=Node(id='time', type='Time Period', properties={}), type='TRAVERS', properties={}), Relationship(source=Node(id='time', type='Time Period', properties={}), target=Node(id='its course', type='Action', properties={}), type='ALTERED', properties={}), Relationship(source=Node(id='meddling with time', type='Action', properties={}), target=Node(id='unforeseen consequences', type='Event', properties={}), type='HAS_CONSEQUENCES', properties={})], source=Document(metadata={}, page_content='temporal energy, allowing humanity to traverse time and alter its course. However, meddling with time had unforeseen consequences. The universe was fracturing, time was leaking, and events from other')),\n",
       " GraphDocument(nodes=[Node(id='Chronomancers', type='Organization', properties={}), Node(id='Temporal Enforcement Agency', type='Organization', properties={})], relationships=[Relationship(source=Node(id='Chronomancers', type='Organization', properties={}), target=Node(id='Temporal Enforcement Agency', type='Organization', properties={}), type='ESTABLISHED', properties={})], source=Document(metadata={}, page_content='events from other periods bled unpredictably into the present. To counteract the chaos, the Chronomancers established the Temporal Enforcement Agency, or TEA, which sent specialized agents known as')),\n",
       " GraphDocument(nodes=[Node(id='Emissaries', type='Group', properties={}), Node(id='collapse', type='Event', properties={}), Node(id='timelines', type='Concept', properties={})], relationships=[Relationship(source=Node(id='Emissaries', type='Group', properties={}), target=Node(id='timelines', type='Concept', properties={}), type='REPAIRS', properties={}), Relationship(source=Node(id='Emissaries', type='Group', properties={}), target=Node(id='collapse', type='Event', properties={}), type='PREVENTS', properties={})], source=Document(metadata={}, page_content='agents known as Emissaries to repair the timelines and prevent collapse.')),\n",
       " GraphDocument(nodes=[Node(id='uncharted', type='Concept', properties={}), Node(id='Kaden Sato', type='Person', properties={}), Node(id='quantum mechanics', type='Field_of_Study', properties={})], relationships=[Relationship(source=Node(id='Kaden Sato', type='Person', properties={}), target=Node(id='quantum mechanics', type='Field_of_Study', properties={}), type='HAS_UNDERSTANDING_OF', properties={}), Relationship(source=Node(id='Kaden Sato', type='Person', properties={}), target=Node(id='uncharted', type='Concept', properties={}), type='EXHIBITS_BRAVERY', properties={})], source=Document(metadata={}, page_content='One such Emissary was Kaden Sato. Strong-willed and fiercely intelligent, Kaden had been chosen for his unparalleled understanding of quantum mechanics and his bravery in the face of uncharted')),\n",
       " GraphDocument(nodes=[Node(id='time itself', type='Time', properties={}), Node(id='mission', type='Mission', properties={}), Node(id='he', type='Person', properties={})], relationships=[Relationship(source=Node(id='he', type='Person', properties={}), target=Node(id='mission', type='Mission', properties={}), type='WILL_EMBARK_ON_MISSION', properties={}), Relationship(source=Node(id='he', type='Person', properties={}), target=Node(id='time itself', type='Time', properties={}), type='WILL_CHANGE_FATE_OF_TIME', properties={})], source=Document(metadata={}, page_content='face of uncharted danger. Little did he know that he would soon embark on a mission unlike any before, one that would change the fate of time itself.')),\n",
       " GraphDocument(nodes=[Node(id='The Ripple', type='Book', properties={}), Node(id='Chapter 1', type='Chapter', properties={})], relationships=[Relationship(source=Node(id='The Ripple', type='Book', properties={}), target=Node(id='Chapter 1', type='Chapter', properties={}), type='IS_PART_OF', properties={})], source=Document(metadata={}, page_content='Chapter 1: The Ripple')),\n",
       " GraphDocument(nodes=[Node(id='Kaden', type='Person', properties={}), Node(id='TEA headquarters', type='Organization', properties={}), Node(id='most powerful Chronomancers', type='Group', properties={}), Node(id='Chronomancer Council', type='Organization', properties={})], relationships=[Relationship(source=Node(id='Kaden', type='Person', properties={}), target=Node(id='TEA headquarters', type='Organization', properties={}), type='LOCATED_IN', properties={}), Relationship(source=Node(id='Chronomancer Council', type='Organization', properties={}), target=Node(id='most powerful Chronomancers', type='Group', properties={}), type='ASSEMBLES', properties={})], source=Document(metadata={}, page_content='Kaden sat in the briefing room of the TEA headquarters, his face illuminated by the cold blue light of the holographic interface in front of him. The Chronomancer Council, an assembly of the most')),\n",
       " GraphDocument(nodes=[Node(id='of the most brilliant minds in temporal science', type='Group', properties={}), Node(id='him', type='Person', properties={})], relationships=[Relationship(source=Node(id='of the most brilliant minds in temporal science', type='Group', properties={}), target=Node(id='him', type='Person', properties={}), type='LOOKED_DOWN_UPON', properties={})], source=Document(metadata={}, page_content='of the most brilliant minds in temporal science, looked down upon him through the hologram, their faces obscured by shadows.')),\n",
       " GraphDocument(nodes=[Node(id='Kaden', type='Person', properties={}), Node(id='Dr. Myra Elara', type='Person', properties={})], relationships=[Relationship(source=Node(id='Dr. Myra Elara', type='Person', properties={}), target=Node(id='Kaden', type='Person', properties={}), type='MENTORS', properties={})], source=Document(metadata={}, page_content='“Kaden,” began Dr. Myra Elara, a stoic yet compassionate woman who had been Kaden’s mentor for years. “We’ve detected an anomaly in the year 2024. It’s… different from previous incidents. It’s not')),\n",
       " GraphDocument(nodes=[Node(id='incidents', type='Event', properties={}), Node(id='an entire event', type='Description', properties={})], relationships=[Relationship(source=Node(id='incidents', type='Event', properties={}), target=Node(id='an entire event', type='Description', properties={}), type='IS', properties={})], source=Document(metadata={}, page_content='incidents. It’s not just an object or a person out of place. It’s an entire event.”')),\n",
       " GraphDocument(nodes=[Node(id='Kaden', type='Person', properties={}), Node(id='an eyebrow', type='Body Part', properties={})], relationships=[Relationship(source=Node(id='Kaden', type='Person', properties={}), target=Node(id='an eyebrow', type='Body Part', properties={}), type='RAISED_AN_EYEBROW', properties={})], source=Document(metadata={}, page_content='“An event?” Kaden raised an eyebrow, intrigued.')),\n",
       " GraphDocument(nodes=[Node(id='2024', type='Time Period', properties={}), Node(id='2145', type='Time Period', properties={}), Node(id='monumental event from 2145', type='Event', properties={}), Node(id='something we call a Ripple Event', type='Concept', properties={}), Node(id='Ripple Event', type='Event', properties={})], relationships=[Relationship(source=Node(id='Ripple Event', type='Event', properties={}), target=Node(id='something we call a Ripple Event', type='Concept', properties={}), type='IS_A', properties={}), Relationship(source=Node(id='monumental event from 2145', type='Event', properties={}), target=Node(id='2145', type='Time Period', properties={}), type='HAS_OCCURRED_IN', properties={}), Relationship(source=Node(id='Ripple Event', type='Event', properties={}), target=Node(id='2024', type='Time Period', properties={}), type='AFFECTS', properties={})], source=Document(metadata={}, page_content='“Precisely,” she replied. “It’s something we call a Ripple Event. Somehow, a monumental event from 2145 has slipped back in time and is altering the entire flow of history in 2024.”')),\n",
       " GraphDocument(nodes=[Node(id=\"What's the event?\", type='Event', properties={}), Node(id='Kaden', type='Person', properties={})], relationships=[Relationship(source=Node(id='Kaden', type='Person', properties={}), target=Node(id=\"What's the event?\", type='Event', properties={}), type='ASKED', properties={})], source=Document(metadata={}, page_content='“What’s the event?” Kaden asked, leaning forward.')),\n",
       " GraphDocument(nodes=[Node(id='humanity', type='Group', properties={}), Node(id='cataclysmic', type='Event', properties={}), Node(id='energy infrastructure of 2024', type='Infrastructure', properties={}), Node(id='unlimited energy', type='Concept', properties={})], relationships=[Relationship(source=Node(id='humanity', type='Group', properties={}), target=Node(id='unlimited energy', type='Concept', properties={}), type='ACHIEVED_UNLIMITED_ENERGY', properties={}), Relationship(source=Node(id='energy infrastructure of 2024', type='Infrastructure', properties={}), target=Node(id='cataclysmic', type='Event', properties={}), type='WONT_HANDLE', properties={})], source=Document(metadata={}, page_content='“It’s the Fusion Accord – the day humanity achieved unlimited energy. If this event occurs prematurely, the energy infrastructure of 2024 won’t handle it, potentially leading to a cataclysmic')),\n",
       " GraphDocument(nodes=[Node(id='cataclysmic overload', type='Event', properties={}), Node(id='collapse of global civilization', type='Event', properties={})], relationships=[Relationship(source=Node(id='cataclysmic overload', type='Event', properties={}), target=Node(id='collapse of global civilization', type='Event', properties={}), type='CAUSES', properties={})], source=Document(metadata={}, page_content='to a cataclysmic overload and collapse of global civilization.”')),\n",
       " GraphDocument(nodes=[Node(id='Kaden', type='Person', properties={}), Node(id='event displacement', type='Event', properties={})], relationships=[Relationship(source=Node(id='Kaden', type='Person', properties={}), target=Node(id='event displacement', type='Event', properties={}), type='EXPERIENCES', properties={})], source=Document(metadata={}, page_content='Kaden’s heart pounded. He’d been trained for irregularities, but an entire event displacement was unprecedented.')),\n",
       " GraphDocument(nodes=[Node(id='advanced temporal suppression equipment', type='Equipment', properties={}), Node(id=\"You'll be sent back to 2024 to correct this,\", type='Statement', properties={}), Node(id='Myra', type='Person', properties={}), Node(id='2024', type='Time', properties={}), Node(id='Your mission is to locate the epicenter of the Ripple, determine', type='Mission', properties={}), Node(id='You', type='Person', properties={})], relationships=[Relationship(source=Node(id='Myra', type='Person', properties={}), target=Node(id=\"You'll be sent back to 2024 to correct this,\", type='Statement', properties={}), type='SAYS', properties={}), Relationship(source=Node(id='You', type='Person', properties={}), target=Node(id='2024', type='Time', properties={}), type='WILL_BE_SENT_BACK_TO', properties={}), Relationship(source=Node(id='You', type='Person', properties={}), target=Node(id='advanced temporal suppression equipment', type='Equipment', properties={}), type='WILL_BE_GIVEN_ACCESS_TO', properties={}), Relationship(source=Node(id='Myra', type='Person', properties={}), target=Node(id='Your mission is to locate the epicenter of the Ripple, determine', type='Mission', properties={}), type='GIVES_MISSION', properties={})], source=Document(metadata={}, page_content='“You’ll be sent back to 2024 to correct this,” Myra continued, “and you’ll be given access to advanced temporal suppression equipment. Your mission is to locate the epicenter of the Ripple, determine')),\n",
       " GraphDocument(nodes=[Node(id='Ripple', type='Entity', properties={}), Node(id='Damage', type='Event', properties={})], relationships=[Relationship(source=Node(id='Ripple', type='Entity', properties={}), target=Node(id='Damage', type='Event', properties={}), type='CAUSES', properties={})], source=Document(metadata={}, page_content='Ripple, determine the cause, and neutralize it. Time is already destabilizing; the longer we wait, the greater the damage.”')),\n",
       " GraphDocument(nodes=[Node(id='Kaden', type='Person', properties={}), Node(id='task', type='Task', properties={})], relationships=[Relationship(source=Node(id='Kaden', type='Person', properties={}), target=Node(id='task', type='Task', properties={}), type='FEELS_WEIGHT_OF_TASK', properties={})], source=Document(metadata={}, page_content='Kaden nodded, feeling the weight of the task.\\nChapter 2: Arrival in 2024')),\n",
       " GraphDocument(nodes=[Node(id='Kaden', type='Person', properties={}), Node(id='New York City', type='City', properties={})], relationships=[Relationship(source=Node(id='Kaden', type='Person', properties={}), target=Node(id='New York City', type='City', properties={}), type='LOCATED_IN', properties={})], source=Document(metadata={}, page_content='The temporal displacement was jarring, as it always was. Kaden found himself standing in a busy street in New York City, his body adjusting to the unfamiliar sounds, smells, and sights of an era that')),\n",
       " GraphDocument(nodes=[Node(id='the massive temporal energy fluctuation', type='Event', properties={}), Node(id='him', type='Person', properties={})], relationships=[Relationship(source=Node(id='him', type='Person', properties={}), target=Node(id='the massive temporal energy fluctuation', type='Event', properties={}), type='UNAWARE_OF', properties={})], source=Document(metadata={}, page_content='of an era that felt almost quaint to him. People brushed past him, unaware of the massive temporal energy fluctuation he had just unleashed upon arrival.')),\n",
       " GraphDocument(nodes=[Node(id='He', type='Person', properties={}), Node(id='Temporal Inhibitor', type='Device', properties={})], relationships=[Relationship(source=Node(id='He', type='Person', properties={}), target=Node(id='Temporal Inhibitor', type='Device', properties={}), type='USES', properties={})], source=Document(metadata={}, page_content='He took a deep breath, activating his Temporal Inhibitor, a device strapped to his wrist that helped conceal his presence from anyone actively looking for disruptions in the timeline. The Inhibitor')),\n",
       " GraphDocument(nodes=[Node(id='Anomaly', type='Event', properties={}), Node(id='East Village Laboratory', type='Location', properties={})], relationships=[Relationship(source=Node(id='East Village Laboratory', type='Location', properties={}), target=Node(id='Anomaly', type='Event', properties={}), type='EPICENTER_OF', properties={})], source=Document(metadata={}, page_content='The Inhibitor also fed him real-time data about the surrounding area. Glancing down, he saw an alert flashing: Anomaly detected. Epicenter identified - East Village Laboratory, January 12, 2024.')),\n",
       " GraphDocument(nodes=[Node(id='Kaden', type='Person', properties={}), Node(id='military presence', type='Military', properties={})], relationships=[Relationship(source=Node(id='Kaden', type='Person', properties={}), target=Node(id='military presence', type='Military', properties={}), type='OBSERVES', properties={})], source=Document(metadata={}, page_content='Making his way to the lab, Kaden felt an unshakable sense of urgency. As he approached, he noticed a heavy military presence, far too significant for a standard laboratory. Were they aware of the')),\n",
       " GraphDocument(nodes=[Node(id='they', type='Group', properties={}), Node(id='anomaly', type='Anomaly', properties={})], relationships=[Relationship(source=Node(id='they', type='Group', properties={}), target=Node(id='anomaly', type='Anomaly', properties={}), type='ARE_AWARE_OF', properties={})], source=Document(metadata={}, page_content='they aware of the anomaly?')),\n",
       " GraphDocument(nodes=[Node(id='Temporal Cloak', type='Device', properties={}), Node(id='lab', type='Location', properties={}), Node(id='He', type='Person', properties={})], relationships=[Relationship(source=Node(id='Temporal Cloak', type='Device', properties={}), target=Node(id='He', type='Person', properties={}), type='USED_BY', properties={}), Relationship(source=Node(id='He', type='Person', properties={}), target=Node(id='lab', type='Location', properties={}), type='FOUND', properties={})], source=Document(metadata={}, page_content='He quickly activated his Temporal Cloak, allowing him to move unseen, and slipped into the facility. He found the lab filled with computers, scientists, and a device he instantly recognized – a')),\n",
       " GraphDocument(nodes=[Node(id='recognized', type='Entity', properties={}), Node(id='fusion reactor', type='Technology', properties={})], relationships=[Relationship(source=Node(id='recognized', type='Entity', properties={}), target=Node(id='fusion reactor', type='Technology', properties={}), type='DEVELOPED', properties={})], source=Document(metadata={}, page_content='recognized – a rudimentary fusion reactor, decades ahead of its time.')),\n",
       " GraphDocument(nodes=[Node(id='Temporal Signature: Year 2145', type='Temporal Information', properties={}), Node(id='he', type='Person', properties={})], relationships=[Relationship(source=Node(id='he', type='Person', properties={}), target=Node(id='Temporal Signature: Year 2145', type='Temporal Information', properties={}), type='HAS_INFORMATION', properties={})], source=Document(metadata={}, page_content='“Impossible…” he whispered, approaching the reactor. His Inhibitor pinged with information: Temporal Signature: Year 2145.\\nSomeone had brought the technology from the future. But who?')),\n",
       " GraphDocument(nodes=[Node(id='The Conspiracy', type='Event', properties={}), Node(id='Chapter 3', type='Book Chapter', properties={})], relationships=[Relationship(source=Node(id='Chapter 3', type='Book Chapter', properties={}), target=Node(id='The Conspiracy', type='Event', properties={}), type='CONTAINS_INFORMATION_ABOUT', properties={})], source=Document(metadata={}, page_content='Chapter 3: The Conspiracy')),\n",
       " GraphDocument(nodes=[Node(id='Kaden', type='Person', properties={}), Node(id='encrypted files', type='Files', properties={})], relationships=[Relationship(source=Node(id='Kaden', type='Person', properties={}), target=Node(id='encrypted files', type='Files', properties={}), type='FOUND', properties={}), Relationship(source=Node(id='Kaden', type='Person', properties={}), target=Node(id='encrypted files', type='Files', properties={}), type='DECODED', properties={})], source=Document(metadata={}, page_content='Kaden’s investigation led him to a series of encrypted files on one of the lab computers. Decoding them, he discovered the existence of a clandestine organization known as “The Continuum,” a rogue')),\n",
       " GraphDocument(nodes=[Node(id='TEA', type='Timeline Control Entity', properties={}), Node(id='Continuum', type='Organization', properties={})], relationships=[Relationship(source=Node(id='Continuum', type='Organization', properties={}), target=Node(id='TEA', type='Timeline Control Entity', properties={}), type='BELIEVES', properties={})], source=Document(metadata={}, page_content='Continuum,” a rogue faction of scientists and engineers who believed the TEA was restricting humanity’s potential by controlling the timeline.')),\n",
       " GraphDocument(nodes=[Node(id='humanity', type='Group', properties={}), Node(id='The Continuum', type='Organization', properties={}), Node(id='events', type='Event', properties={}), Node(id='manifesto', type='Text', properties={}), Node(id='Time', type='Concept', properties={}), Node(id='technological advancement', type='Concept', properties={})], relationships=[Relationship(source=Node(id='The Continuum', type='Organization', properties={}), target=Node(id='manifesto', type='Text', properties={}), type='DECLARES_MANIFESTO', properties={}), Relationship(source=Node(id='Time', type='Concept', properties={}), target=Node(id='humanity', type='Group', properties={}), type='BELONGS_TO', properties={}), Relationship(source=Node(id='The Continuum', type='Organization', properties={}), target=Node(id='events', type='Event', properties={}), type='MANIPULATES_EVENTS', properties={}), Relationship(source=Node(id='The Continuum', type='Organization', properties={}), target=Node(id='technological advancement', type='Concept', properties={}), type='ACCELERATES_TECHNOLOGICAL_ADVANCEMENT', properties={})], source=Document(metadata={}, page_content='The Continuum’s manifesto declared that “Time belongs to all of humanity, not just the chosen few,” and they had been manipulating events throughout history to accelerate technological advancement.')),\n",
       " GraphDocument(nodes=[Node(id='humanity', type='Person', properties={}), Node(id='fusion power', type='Technology', properties={})], relationships=[Relationship(source=Node(id='humanity', type='Person', properties={}), target=Node(id='fusion power', type='Technology', properties={}), type='IS_READY_FOR', properties={})], source=Document(metadata={}, page_content='advancement. It was their belief that humanity was ready for fusion power, regardless of the instability it would cause.')),\n",
       " GraphDocument(nodes=[Node(id='Kaden', type='Person', properties={}), Node(id='larger plan', type='Plan', properties={}), Node(id='single incident', type='Event', properties={}), Node(id='stakes', type='Concept', properties={})], relationships=[Relationship(source=Node(id='Kaden', type='Person', properties={}), target=Node(id='stakes', type='Concept', properties={}), type='REALIZES', properties={}), Relationship(source=Node(id='Kaden', type='Person', properties={}), target=Node(id='single incident', type='Event', properties={}), type='IS_CONCERNED_ABOUT', properties={}), Relationship(source=Node(id='Kaden', type='Person', properties={}), target=Node(id='larger plan', type='Plan', properties={}), type='IS_CONCERNED_ABOUT', properties={})], source=Document(metadata={}, page_content='Kaden realized the stakes were higher than he had initially thought. This wasn’t just a single incident; it was part of a larger plan to rewrite human history.\\nChapter 4: The Shadowed Ally')),\n",
       " GraphDocument(nodes=[Node(id='Elise Tanaka', type='Person', properties={}), Node(id='Continuum', type='Organization', properties={})], relationships=[Relationship(source=Node(id='Elise Tanaka', type='Person', properties={}), target=Node(id='Continuum', type='Organization', properties={}), type='MAY_BE_WORKING_WITH', properties={})], source=Document(metadata={}, page_content='Kaden soon discovered that he was not the only Emissary in 2024. Rumors whispered of another agent who had gone rogue, possibly working with the Continuum. Her name was Elise Tanaka, and she was once')),\n",
       " GraphDocument(nodes=[Node(id='she', type='Person', properties={}), Node(id='TEA', type='Organization', properties={})], relationships=[Relationship(source=Node(id='TEA', type='Organization', properties={}), target=Node(id='she', type='Person', properties={}), type='TRAINED', properties={})], source=Document(metadata={}, page_content='and she was once the finest operative TEA had ever trained. She had disappeared years ago, presumed dead in an accident involving temporal energy overload.')),\n",
       " GraphDocument(nodes=[Node(id='an abandoned building in Brooklyn', type='Location', properties={}), Node(id='Kaden', type='Person', properties={}), Node(id='her', type='Person', properties={})], relationships=[Relationship(source=Node(id='Kaden', type='Person', properties={}), target=Node(id='her', type='Person', properties={}), type='FINDS', properties={}), Relationship(source=Node(id='her', type='Person', properties={}), target=Node(id='an abandoned building in Brooklyn', type='Location', properties={}), type='IS_IN', properties={})], source=Document(metadata={}, page_content='Tracking her movements across 2024, Kaden found her in an abandoned building in Brooklyn. She looked at him with a wry smile, her face illuminated by the soft glow of a fusion core.')),\n",
       " GraphDocument(nodes=[Node(id='them', type='Group', properties={}), Node(id='Elise', type='Person', properties={})], relationships=[Relationship(source=Node(id='Elise', type='Person', properties={}), target=Node(id='them', type='Group', properties={}), type='JOINED', properties={})], source=Document(metadata={}, page_content='“So they finally sent you,” she said, her voice a strange mixture of bitterness and relief.\\n“Elise,” he whispered, “why did you join them?”')),\n",
       " GraphDocument(nodes=[Node(id=\"They're not wrong\", type='Statement', properties={}), Node(id='Kaden', type='Person', properties={}), Node(id='history', type='Concept', properties={}), Node(id='TEA', type='Organization', properties={})], relationships=[Relationship(source=Node(id='Kaden', type='Person', properties={}), target=Node(id=\"They're not wrong\", type='Statement', properties={}), type='SAYS', properties={}), Relationship(source=Node(id='TEA', type='Organization', properties={}), target=Node(id='history', type='Concept', properties={}), type='PROTECTS', properties={})], source=Document(metadata={}, page_content='“They’re not wrong, Kaden,” she replied, her eyes flashing with conviction. “Time shouldn’t be controlled. It should be free, accessible to everyone. The TEA isn’t protecting history; they’re holding')),\n",
       " GraphDocument(nodes=[Node(id=\"they're\", type='Entity', properties={}), Node(id='humanity', type='Concept', properties={})], relationships=[Relationship(source=Node(id=\"they're\", type='Entity', properties={}), target=Node(id='humanity', type='Concept', properties={}), type='HOLDING_BACK', properties={})], source=Document(metadata={}, page_content='they’re holding humanity back.”')),\n",
       " GraphDocument(nodes=[Node(id='we', type='Group', properties={}), Node(id='too cautious, too afraid of change', type='Emotion', properties={}), Node(id='she', type='Person', properties={}), Node(id=\"You're playing with forces you barely understand\", type='Statement', properties={})], relationships=[Relationship(source=Node(id='she', type='Person', properties={}), target=Node(id=\"You're playing with forces you barely understand\", type='Statement', properties={}), type='SAYS', properties={}), Relationship(source=Node(id='we', type='Group', properties={}), target=Node(id='too cautious, too afraid of change', type='Emotion', properties={}), type='FEELS', properties={})], source=Document(metadata={}, page_content='“By destabilizing entire centuries? You’re playing with forces you barely understand.”\\n“Maybe,” she admitted. “But we’ve grown too cautious, too afraid of change.”')),\n",
       " GraphDocument(nodes=[Node(id='she', type='Person', properties={}), Node(id='he', type='Person', properties={}), Node(id='her', type='Person', properties={}), Node(id='technological advances', type='Technological Advance', properties={})], relationships=[Relationship(source=Node(id='she', type='Person', properties={}), target=Node(id='technological advances', type='Technological Advance', properties={}), type='BELIEVES_IN', properties={}), Relationship(source=Node(id='he', type='Person', properties={}), target=Node(id='her', type='Person', properties={}), type='OPPOSES', properties={})], source=Document(metadata={}, page_content='He realized she was not the villain he had imagined. She truly believed that by unleashing technological advances, she was giving humanity a chance to evolve.\\nBut he couldn’t let her continue.')),\n",
       " GraphDocument(nodes=[Node(id='Chapter 5', type='Book', properties={}), Node(id='The Showdown', type='Chapter', properties={})], relationships=[Relationship(source=Node(id='The Showdown', type='Chapter', properties={}), target=Node(id='Chapter 5', type='Book', properties={}), type='PART_OF', properties={})], source=Document(metadata={}, page_content='Chapter 5: The Showdown')),\n",
       " GraphDocument(nodes=[Node(id='stolen fusion reactor', type='Object', properties={}), Node(id='Continuum', type='Organization', properties={}), Node(id='streets of Manhattan', type='Location', properties={}), Node(id='their struggle', type='Event', properties={}), Node(id='Manhattan', type='Location', properties={}), Node(id='Kaden', type='Person', properties={})], relationships=[Relationship(source=Node(id='Continuum', type='Organization', properties={}), target=Node(id='Manhattan', type='Location', properties={}), type='HAS_SECRET_HEADQUARTERS', properties={}), Relationship(source=Node(id='Continuum', type='Organization', properties={}), target=Node(id='stolen fusion reactor', type='Object', properties={}), type='HAS_FUSION_REACTOR', properties={}), Relationship(source=Node(id='Manhattan', type='Location', properties={}), target=Node(id='streets of Manhattan', type='Location', properties={}), type='LOCATED_BENEATH', properties={}), Relationship(source=Node(id='Kaden', type='Person', properties={}), target=Node(id='their struggle', type='Event', properties={}), type='IS_INVOLVED_IN', properties={})], source=Document(metadata={}, page_content='The climax of their struggle took place in the heart of the Continuum’s secret headquarters – a hidden facility beneath the streets of Manhattan, where the stolen fusion reactor was kept. As Kaden')),\n",
       " GraphDocument(nodes=[Node(id='Elise', type='Person', properties={}), Node(id='future', type='Concept', properties={}), Node(id='allies', type='Group', properties={}), Node(id=\"Elise's allies\", type='Group', properties={}), Node(id='Kaden', type='Person', properties={})], relationships=[Relationship(source=Node(id='Kaden', type='Person', properties={}), target=Node(id='future', type='Concept', properties={}), type='SEES_VISIONS_OF', properties={}), Relationship(source=Node(id='Elise', type='Person', properties={}), target=Node(id='allies', type='Group', properties={}), type='HAS_ALLIES', properties={}), Relationship(source=Node(id='Kaden', type='Person', properties={}), target=Node(id=\"Elise's allies\", type='Group', properties={}), type='FUGHT_AGAINST', properties={})], source=Document(metadata={}, page_content='was kept. As Kaden fought his way through Elise’s allies, he saw visions of the future flickering around him – alternate timelines where humanity had risen to great heights and others where it had')),\n",
       " GraphDocument(nodes=[Node(id='others', type='Unknown', properties={}), Node(id='ashes', type='State', properties={})], relationships=[Relationship(source=Node(id='others', type='Unknown', properties={}), target=Node(id='ashes', type='State', properties={}), type='HAD_BEEN_REDUCED_TO', properties={})], source=Document(metadata={}, page_content='others where it had been reduced to ashes.')),\n",
       " GraphDocument(nodes=[Node(id='chaos', type='Concept', properties={}), Node(id='Kaden', type='Person', properties={}), Node(id='progress', type='Concept', properties={}), Node(id='Elise', type='Person', properties={})], relationships=[Relationship(source=Node(id='Kaden', type='Person', properties={}), target=Node(id='chaos', type='Concept', properties={}), type='HAS_OPINION', properties={}), Relationship(source=Node(id='Elise', type='Person', properties={}), target=Node(id='progress', type='Concept', properties={}), type='HAS_OPINION', properties={})], source=Document(metadata={}, page_content='At the core of the facility, Kaden and Elise stood face to face, each determined to fight for their beliefs.\\n“You’re afraid of progress,” she accused him.\\n“No,” he replied. “I’m afraid of chaos.”')),\n",
       " GraphDocument(nodes=[Node(id='reality', type='Reality', properties={}), Node(id='temporal weapons', type='Weapon', properties={}), Node(id='temporal energy', type='Energy', properties={}), Node(id='Their battle', type='Event', properties={})], relationships=[Relationship(source=Node(id='Their battle', type='Event', properties={}), target=Node(id='temporal energy', type='Energy', properties={}), type='INVOLVES', properties={}), Relationship(source=Node(id='Their battle', type='Event', properties={}), target=Node(id='temporal weapons', type='Weapon', properties={}), type='USES', properties={}), Relationship(source=Node(id='Their battle', type='Event', properties={}), target=Node(id='reality', type='Reality', properties={}), type='AFFECTS', properties={})], source=Document(metadata={}, page_content='Their battle was fierce, with temporal energy crackling around them. Every strike from their temporal weapons rippled across the room, creating fractures in reality. Moments from different eras')),\n",
       " GraphDocument(nodes=[Node(id='ancient Rome', type='Place', properties={}), Node(id='a distant Martian colony', type='Place', properties={}), Node(id='World War II', type='Event', properties={})], relationships=[Relationship(source=Node(id='ancient Rome', type='Place', properties={}), target=Node(id='World War II', type='Event', properties={}), type='EXISTS_DURING', properties={}), Relationship(source=Node(id='World War II', type='Event', properties={}), target=Node(id='ancient Rome', type='Place', properties={}), type='FOLLOWS', properties={}), Relationship(source=Node(id='a distant Martian colony', type='Place', properties={}), target=Node(id='World War II', type='Event', properties={}), type='EXISTS_DURING', properties={})], source=Document(metadata={}, page_content='from different eras appeared, and then dissolved: ancient Rome, World War II, a distant Martian colony.')),\n",
       " GraphDocument(nodes=[Node(id='Kaden', type='Person', properties={}), Node(id='Temporal Inhibitor', type='Device', properties={}), Node(id='Elise', type='Person', properties={})], relationships=[Relationship(source=Node(id='Kaden', type='Person', properties={}), target=Node(id='Temporal Inhibitor', type='Device', properties={}), type='DISABLED', properties={}), Relationship(source=Node(id='Elise', type='Person', properties={}), target=Node(id='Temporal Inhibitor', type='Device', properties={}), type='VULNERABLE_TO', properties={})], source=Document(metadata={}, page_content='Finally, Kaden managed to disable Elise’s Temporal Inhibitor, leaving her vulnerable.')),\n",
       " GraphDocument(nodes=[Node(id='Come back with me', type='Action', properties={}), Node(id='use this technology responsibly', type='Plan', properties={}), Node(id=\"It doesn't have to end like this\", type='Statement', properties={}), Node(id='he', type='Person', properties={})], relationships=[Relationship(source=Node(id='he', type='Person', properties={}), target=Node(id=\"It doesn't have to end like this\", type='Statement', properties={}), type='SAYS', properties={}), Relationship(source=Node(id='he', type='Person', properties={}), target=Node(id='Come back with me', type='Action', properties={}), type='ASKED_TO_RETURN', properties={}), Relationship(source=Node(id='he', type='Person', properties={}), target=Node(id='use this technology responsibly', type='Plan', properties={}), type='PROPOSED_USE', properties={})], source=Document(metadata={}, page_content='“It doesn’t have to end like this,” he pleaded. “Come back with me. We can find a way to use this technology responsibly.”')),\n",
       " GraphDocument(nodes=[Node(id='mission', type='Mission', properties={}), Node(id='Elise', type='Person', properties={})], relationships=[Relationship(source=Node(id='Elise', type='Person', properties={}), target=Node(id='mission', type='Mission', properties={}), type='HAS_LIFES_WORK', properties={})], source=Document(metadata={}, page_content='Elise’s face softened, but she shook her head. “You don’t understand. This isn’t just a mission for me. It’s my life’s work.”')),\n",
       " GraphDocument(nodes=[Node(id='she', type='Person', properties={}), Node(id='catastrophic time rift', type='Event', properties={}), Node(id='fusion reactor', type='Device', properties={}), Node(id='energy', type='Property', properties={})], relationships=[Relationship(source=Node(id='she', type='Person', properties={}), target=Node(id='fusion reactor', type='Device', properties={}), type='ACTIVATED', properties={}), Relationship(source=Node(id='fusion reactor', type='Device', properties={}), target=Node(id='energy', type='Property', properties={}), type='SURGED_WITH_ENERGY', properties={}), Relationship(source=Node(id='energy', type='Property', properties={}), target=Node(id='catastrophic time rift', type='Event', properties={}), type='CAUSED_RISK_OF', properties={})], source=Document(metadata={}, page_content='Before he could respond, she activated the fusion reactor. It surged with energy, dangerously close to causing a catastrophic time rift.')),\n",
       " GraphDocument(nodes=[Node(id='Kaden', type='Person', properties={}), Node(id=\"Inhibitor's failsafe\", type='Mechanism', properties={}), Node(id='Elise', type='Person', properties={}), Node(id='original timeline', type='Timeline', properties={})], relationships=[Relationship(source=Node(id='Kaden', type='Person', properties={}), target=Node(id=\"Inhibitor's failsafe\", type='Mechanism', properties={}), type='ACTIVATED', properties={}), Relationship(source=Node(id='Kaden', type='Person', properties={}), target=Node(id='original timeline', type='Timeline', properties={}), type='SENT_BACK_TO', properties={}), Relationship(source=Node(id='Elise', type='Person', properties={}), target=Node(id='original timeline', type='Timeline', properties={}), type='WENT_BACK_TO', properties={})], source=Document(metadata={}, page_content='Kaden knew he had one choice: he activated his Inhibitor’s failsafe, sending an overload pulse to disrupt the fusion core. It would send both him and Elise back to their original timeline, but would')),\n",
       " GraphDocument(nodes=[], relationships=[], source=Document(metadata={}, page_content='timeline, but would hopefully stop the rift.')),\n",
       " GraphDocument(nodes=[Node(id='her face', type='Thing', properties={}), Node(id='Elise', type='Person', properties={})], relationships=[Relationship(source=Node(id='Elise', type='Person', properties={}), target=Node(id='her face', type='Thing', properties={}), type='SEEING', properties={})], source=Document(metadata={}, page_content='As the energy surrounded them, he saw Elise’s face one last time, her expression unreadable.\\nEpilogue')),\n",
       " GraphDocument(nodes=[Node(id='Kaden', type='Person', properties={}), Node(id='TEA headquarters', type='Organization', properties={}), Node(id='catastrophic fusion event', type='Event', properties={})], relationships=[Relationship(source=Node(id='Kaden', type='Person', properties={}), target=Node(id='TEA headquarters', type='Organization', properties={}), type='LOCATED_IN', properties={}), Relationship(source=Node(id='Kaden', type='Person', properties={}), target=Node(id='catastrophic fusion event', type='Event', properties={}), type='PREVENTED', properties={})], source=Document(metadata={}, page_content='Kaden awoke in the infirmary of TEA headquarters, his mind reeling from the mission. He had succeeded in preventing the catastrophic fusion event, but at a great cost. Elise was gone, and the')),\n",
       " GraphDocument(nodes=[Node(id='Continuum', type='Concept', properties={}), Node(id='was gone', type='Event', properties={})], relationships=[Relationship(source=Node(id='Continuum', type='Concept', properties={}), target=Node(id='was gone', type='Event', properties={}), type='FRACASSED', properties={})], source=Document(metadata={}, page_content='was gone, and the Continuum had fractured.')),\n",
       " GraphDocument(nodes=[Node(id='TEA', type='Acronym', properties={}), Node(id='Time', type='Concept', properties={})], relationships=[Relationship(source=Node(id='TEA', type='Acronym', properties={}), target=Node(id='Time', type='Concept', properties={}), type='IS_ABOUT', properties={})], source=Document(metadata={}, page_content='In the days that followed, he often thought of her – of her passion and conviction, and of the blurred line between hero and villain in a world where time itself was a battlefield. He knew the TEA')),\n",
       " GraphDocument(nodes=[Node(id='free timeline', type='Concept', properties={}), Node(id='Elise', type='Person', properties={})], relationships=[Relationship(source=Node(id='Elise', type='Person', properties={}), target=Node(id='free timeline', type='Concept', properties={}), type='HAS_VISION', properties={})], source=Document(metadata={}, page_content='He knew the TEA would continue its work, but he also knew that Elise’s vision of a free timeline would always haunt him.')),\n",
       " GraphDocument(nodes=[Node(id='city', type='Location', properties={}), Node(id='TEA', type='Company', properties={})], relationships=[Relationship(source=Node(id='TEA', type='Company', properties={}), target=Node(id='city', type='Location', properties={}), type='WORKS_IN', properties={})], source=Document(metadata={}, page_content='As he stared out into the sprawling city beyond TEA headquarters, he wondered if one day humanity would be ready to take charge of its own destiny… and if he would live to see it.'))]"
      ]
     },
     "execution_count": 64,
     "metadata": {},
     "output_type": "execute_result"
    }
   ],
   "source": [
    "graph_documents"
   ]
  },
  {
   "cell_type": "code",
   "execution_count": 65,
   "metadata": {},
   "outputs": [
    {
     "name": "stdout",
     "output_type": "stream",
     "text": [
      "Nodes:[Node(id=\"The Chronomancer's Emissary\", type='Person', properties={}), Node(id='Chronomancer', type='Person', properties={})]\n",
      "Relationships:[Relationship(source=Node(id=\"The Chronomancer's Emissary\", type='Person', properties={}), target=Node(id='Chronomancer', type='Person', properties={}), type='WORKS_FOR', properties={})]\n"
     ]
    }
   ],
   "source": [
    "ix = 0\n",
    "print(f\"Nodes:{graph_documents[ix].nodes}\")\n",
    "print(f\"Relationships:{graph_documents[ix].relationships}\")"
   ]
  },
  {
   "cell_type": "code",
   "execution_count": 66,
   "metadata": {},
   "outputs": [],
   "source": [
    "# Add the generated graph into Neo4j\n",
    "graph.add_graph_documents(\n",
    "    graph_documents,\n",
    "    baseEntityLabel=True,\n",
    "    include_source=True\n",
    ")\n"
   ]
  },
  {
   "cell_type": "markdown",
   "metadata": {},
   "source": [
    "## Short Solution: \n",
    "#### Use GraphCypherQAChain to generate Cypher queries and return response from LLM"
   ]
  },
  {
   "cell_type": "code",
   "execution_count": 67,
   "metadata": {},
   "outputs": [],
   "source": [
    "CYPHER_GENERATION_TEMPLATE = \"\"\"Task:Generate Cypher statement to query a graph database.\n",
    "Instructions:\n",
    "Use only the provided relationship types and properties in the schema.\n",
    "Do not use any other relationship types or properties that are not provided.\n",
    "Schema:\n",
    "{schema}\n",
    "Note: Do not include any explanations or apologies in your responses.\n",
    "Do not respond to any questions that might ask anything else than for you to construct a Cypher statement.\n",
    "Do not include any text except the generated Cypher statement.\n",
    "Examples: Here are a few examples of generated Cypher statements for particular questions:\n",
    "\n",
    "# Who is Michael Scott?\n",
    "MATCH (person:Person)-[:WON_AWARD]->(award:Award)\n",
    "    WHERE person.id = 'Michael Scott'\n",
    "RETURN person.id, award.id\n",
    "\n",
    "# Who won the award?\n",
    "MATCH (person:Person)-[:WON_AWARD]->(award:Award)\n",
    "    WHERE person.id = 'Michael Scott'\n",
    "RETURN person.id, award.id\n",
    "\n",
    "# What kind of research does Michael conduct?\n",
    "  MATCH (person:Person)-[:WORKED_ON]->(field:'Field of Study')\n",
    "    WHERE person.id = 'Michael Scott'\n",
    "  RETURN person.id, field.id\n",
    "\n",
    "The question is:\n",
    "{question}\"\"\"\n",
    "\n",
    "CYPHER_GENERATION_PROMPT = PromptTemplate(\n",
    "    input_variables=[\"schema\", \"question\"], \n",
    "    template=CYPHER_GENERATION_TEMPLATE\n",
    ")"
   ]
  },
  {
   "cell_type": "code",
   "execution_count": 68,
   "metadata": {},
   "outputs": [],
   "source": [
    "llm = ChatOllama(model=\"llama3\")\n",
    "chain = GraphCypherQAChain.from_llm(graph=graph, \n",
    "                                    llm=llm, \n",
    "                                    verbose=True, \n",
    "                                    allow_dangerous_requests=True, \n",
    "                                    # return_intermediate_steps=True, \n",
    "                                    # return_direct=True, \n",
    "                                    cypher_prompt=CYPHER_GENERATION_PROMPT,\n",
    "                                    )\n",
    "# response = chain.invoke({\"query\": \"Who is Pierre Curie?\"})\n",
    "\n",
    "def prettyCypherChain(question: str) -> str:\n",
    "    response = chain.run(question)\n",
    "    print(textwrap.fill(response, 60))\n",
    "\n",
    "# # To check the generated query manually\n",
    "# cypher = \"\"\"\n",
    "# MATCH (person:Person)-[:WON_AWARD]->(award:Award) \n",
    "# WHERE person.id = 'Marie Curie' \n",
    "# RETURN person.id, award.id\n",
    "# \"\"\"\n",
    "# graph.query(cypher)"
   ]
  },
  {
   "cell_type": "code",
   "execution_count": 69,
   "metadata": {},
   "outputs": [
    {
     "name": "stdout",
     "output_type": "stream",
     "text": [
      "\n",
      "\n",
      "\u001b[1m> Entering new GraphCypherQAChain chain...\u001b[0m\n",
      "Generated Cypher:\n",
      "\u001b[32;1m\u001b[1;3mMATCH (doc:Document)-[]->() \n",
      "RETURN doc.text\u001b[0m\n",
      "Full Context:\n",
      "\u001b[32;1m\u001b[1;3m[{'doc.text': 'The Chronomancer’s Emissary\\nPrologue'}, {'doc.text': 'The Chronomancer’s Emissary\\nPrologue'}, {'doc.text': 'In the year 2589, humanity had not only conquered the stars but had fractured the very fabric of time itself. Known as the “Chronomancers,” a select group of scientists had harnessed temporal energy,'}, {'doc.text': 'In the year 2589, humanity had not only conquered the stars but had fractured the very fabric of time itself. Known as the “Chronomancers,” a select group of scientists had harnessed temporal energy,'}, {'doc.text': 'In the year 2589, humanity had not only conquered the stars but had fractured the very fabric of time itself. Known as the “Chronomancers,” a select group of scientists had harnessed temporal energy,'}, {'doc.text': 'In the year 2589, humanity had not only conquered the stars but had fractured the very fabric of time itself. Known as the “Chronomancers,” a select group of scientists had harnessed temporal energy,'}, {'doc.text': 'In the year 2589, humanity had not only conquered the stars but had fractured the very fabric of time itself. Known as the “Chronomancers,” a select group of scientists had harnessed temporal energy,'}, {'doc.text': 'temporal energy, allowing humanity to traverse time and alter its course. However, meddling with time had unforeseen consequences. The universe was fracturing, time was leaking, and events from other'}, {'doc.text': 'temporal energy, allowing humanity to traverse time and alter its course. However, meddling with time had unforeseen consequences. The universe was fracturing, time was leaking, and events from other'}, {'doc.text': 'temporal energy, allowing humanity to traverse time and alter its course. However, meddling with time had unforeseen consequences. The universe was fracturing, time was leaking, and events from other'}]\u001b[0m\n",
      "\n",
      "\u001b[1m> Finished chain.\u001b[0m\n",
      "In the year 2589, humanity had conquered the stars and\n",
      "fractured the fabric of time itself. Known as the\n",
      "\"Chronomancers,\" a select group of scientists harnessed\n",
      "temporal energy, allowing them to traverse time and alter\n",
      "its course. The story revolves around this concept.\n"
     ]
    }
   ],
   "source": [
    "prettyCypherChain(\"What is the story about?\")"
   ]
  },
  {
   "cell_type": "markdown",
   "metadata": {},
   "source": [
    "## Longer Solution: \n",
    "#### Create a retriever from scratch"
   ]
  },
  {
   "cell_type": "code",
   "execution_count": 70,
   "metadata": {},
   "outputs": [],
   "source": [
    "# Create embeddings for more complex search queries\n",
    "embed = OllamaEmbeddings(model=\"nomic-embed-text\")\n",
    "vector_index = Neo4jVector.from_existing_graph(\n",
    "    embedding=embed,\n",
    "    search_type=\"hybrid\",\n",
    "    node_label=\"Document\",\n",
    "    text_node_properties=[\"text\"],\n",
    "    embedding_node_property=\"embedding\"\n",
    ")\n",
    "vector_retriever = vector_index.as_retriever()\n",
    "\n",
    "# Define a model for the extracted entities from the text\n",
    "class Entities(BaseModel):\n",
    "    names: list[str] = Field(..., description=\"All entities from the text\")\n",
    "\n",
    "# Define a prompt to extract entities from the input query\n",
    "prompt = ChatPromptTemplate.from_messages([ \n",
    "    (\"system\", \"Extract organization and person entities from the text.\"),\n",
    "    (\"human\", \"Extract entities from: {question}\")\n",
    "])\n",
    "\n",
    "# Initialize the Ollama model for entity extraction with LLM (using \"llama3\")\n",
    "llm = OllamaFunctions(model=\"llama3\", format=\"json\", temperature=0.4)\n",
    "\n",
    "# Combine the prompt and LLM to create an entity extraction chain\n",
    "# The output is structured to match the \"Entities\" model\n",
    "entity_chain = prompt | llm.with_structured_output(Entities, include_raw=True)\n",
    "\n",
    "# Function to retrieve relationships of the extracted entities from Neo4j\n",
    "def graph_retriever(question: str) -> str:\n",
    "    # Use the entity extraction chain to get entities from the question\n",
    "    response = entity_chain.invoke({\"question\": question})\n",
    "    # Extract the list of entity names from the response\n",
    "    entities = response['raw'].tool_calls[0]['args']['properties']['names']\n",
    "    print(\"-\"*30)\n",
    "    print(\"Retreived Entities\")\n",
    "    print(entities)\n",
    "    result = \"\"  # Initialize a variable to store the result\n",
    "\n",
    "    # Iterate over each extracted entity\n",
    "    for entity in entities:\n",
    "        # Query Neo4j to get relationships for the given entity\n",
    "        query_response = graph.query(\n",
    "            \"\"\"MATCH (p:Person {id: $entity})-[r]->(e)\n",
    "            RETURN p.id AS source_id, type(r) AS relationship, e.id AS target_id\n",
    "            LIMIT 50\"\"\",\n",
    "            {\"entity\": entity}\n",
    "        )\n",
    "        # Format the query results and append to the result string\n",
    "        result += \"\\n\".join([f\"{el['source_id']} - {el['relationship']} -> {el['target_id']}\" for el in query_response])+ \"\\n\"\n",
    "    \n",
    "    # Return the formatted results containing entity relationships\n",
    "    return result\n",
    "\n",
    "def full_retriever(question: str):\n",
    "    # Retrieve graph data for the question using the graph_retriever function\n",
    "    graph_data = graph_retriever(question)\n",
    "    print(\"-\"*30)\n",
    "    print(\"Graph Data\")\n",
    "    print(graph_data)\n",
    "    # Retrieve vector data by invoking the vector retriever with the question\n",
    "    vector_data = [el.page_content for el in vector_retriever.invoke(question)]\n",
    "    # Retrieve vector-based data for multiple documents\n",
    "    # vector_results = vector_retriever.invoke(question)\n",
    "    #vector_data = \"\\n\".join([f\"#Document {i+1}: {el.page_content}\" for i, el in enumerate(vector_results)])\n",
    "    print(\"-\"*30)\n",
    "    print(\"Vector Data\")\n",
    "    print(vector_data)\n",
    "    print(\"-\"*30)\n",
    "    # Combine the graph data and vector data into a formatted string\n",
    "    return f\"Graph data: {graph_data}\\nVector data: {'#Document '.join(vector_data)}\"\n",
    "\n",
    "# Define a prompt template for generating a response based on context\n",
    "template = \"\"\"Answer the question based only on the following context:\n",
    "{context}\n",
    "Question: {question}\n",
    "Answer:\"\"\"\n",
    "\n",
    "# Create a prompt from the template, which takes the context and question as input\n",
    "prompt = ChatPromptTemplate.from_template(template)\n",
    "\n",
    "# Create a processing chain that:\n",
    "# 1. Generates context using the full_retriever function\n",
    "# 2. Passes through the question as-is using RunnablePassthrough\n",
    "# 3. Applies the prompt template to generate the final question\n",
    "# 4. Uses the LLM (language model) to generate the answer\n",
    "# 5. Uses StrOutputParser to format the output as a string\n",
    "chain = (\n",
    "    {\n",
    "        \"context\": lambda input: full_retriever(input),  # Generate context from the question\n",
    "        \"question\": RunnablePassthrough(),  # Pass the question through without modification\n",
    "    }\n",
    "    | prompt  # Apply the prompt template\n",
    "    | llm  # Use the language model to answer the question based on context\n",
    "    | StrOutputParser()  # Parse the model's response as a string\n",
    ")"
   ]
  },
  {
   "cell_type": "code",
   "execution_count": 74,
   "metadata": {},
   "outputs": [
    {
     "name": "stdout",
     "output_type": "stream",
     "text": [
      "------------------------------\n",
      "Retreived Entities\n",
      "{'type': 'array'}\n",
      "------------------------------\n",
      "Graph Data\n",
      "\n",
      "\n"
     ]
    },
    {
     "name": "stderr",
     "output_type": "stream",
     "text": [
      "Received notification from DBMS server: {severity: WARNING} {code: Neo.ClientNotification.Statement.FeatureDeprecationWarning} {category: DEPRECATION} {title: This feature is deprecated and will be removed in future versions.} {description: CALL subquery without a variable scope clause is now deprecated. Use CALL () { ... }} {position: line: 1, column: 1, offset: 0} for query: \"CALL { CALL db.index.vector.queryNodes($index, $k, $embedding) YIELD node, score WITH collect({node:node, score:score}) AS nodes, max(score) AS max UNWIND nodes AS n RETURN n.node AS node, (n.score / max) AS score UNION CALL db.index.fulltext.queryNodes($keyword_index, $query, {limit: $k}) YIELD node, score WITH collect({node:node, score:score}) AS nodes, max(score) AS max UNWIND nodes AS n RETURN n.node AS node, (n.score / max) AS score } WITH node, max(score) AS score ORDER BY score DESC LIMIT $k RETURN reduce(str='', k IN ['text'] | str + '\\\\n' + k + ': ' + coalesce(node[k], '')) AS text, node {.*, `embedding`: Null, id: Null, `text`: Null} AS metadata, score\"\n"
     ]
    },
    {
     "name": "stdout",
     "output_type": "stream",
     "text": [
      "------------------------------\n",
      "Vector Data\n",
      "['\\ntext: Kaden realized the stakes were higher than he had initially thought. This wasn’t just a single incident; it was part of a larger plan to rewrite human history.\\nChapter 4: The Shadowed Ally', '\\ntext: The Inhibitor also fed him real-time data about the surrounding area. Glancing down, he saw an alert flashing: Anomaly detected. Epicenter identified - East Village Laboratory, January 12, 2024.', '\\ntext: Chapter 3: The Conspiracy', '\\ntext: Chapter 1: The Ripple']\n",
      "------------------------------\n",
      "Final Answer\n",
      "The story appears to be about a conspiracy or plot to\n",
      "rewrite human history, with Kaden as the main character who\n",
      "realizes the stakes are higher than initially thought. The\n",
      "context suggests a mix of science fiction and mystery\n",
      "elements.\n"
     ]
    }
   ],
   "source": [
    "# Test the chain with a question\n",
    "response = chain.invoke(input=\"What is the story about?\")\n",
    "print(\"Final Answer\")\n",
    "print(textwrap.fill(response, 60))"
   ]
  },
  {
   "cell_type": "markdown",
   "metadata": {},
   "source": [
    ">>> What is Isbank?\n",
    "\n",
    "# Ollama Knowledge\n",
    "IsBank (İştirak Bankası) was the first bank of Turkey. It was established \n",
    "in 1925 and merged with other banks to form İşbank (or simply İştirak \n",
    "Bankası), which was re-established on July 12, 1926, when it was \n",
    "privatized. The name \"Is\" is Turkish for \"industry,\" and \"bank.\"\n",
    "\n",
    "# RAG w/o Graph\n",
    "Isbank (officially known as Türkiye İş Bankası) is a commercial bank in Turkey.\n",
    "\n",
    "# RAG w/Graph\n",
    "İşbank, officially Türkiye İş Bankası, is a commercial bank in Turkey. Founded by the orders of Mustafa Kemal Atatürk in 1924, it is the first bank to go into operation in the Republic of Türkiye.\n"
   ]
  },
  {
   "cell_type": "markdown",
   "metadata": {},
   "source": [
    ">>> What is the story about?\n",
    "\n",
    "# RAG w/o Graph\n",
    "Based on the given context, it appears that the story is\n",
    "about something more significant than a minor mishap or\n",
    "disturbance. The phrase \"It's not just an object or a person\n",
    "out of place\" suggests that the story might be exploring a\n",
    "larger issue or event that has consequences beyond a simple\n",
    "mistake or error.\n",
    "\n",
    "# RAG w/Graph\n",
    "Approach #1: \n",
    "In the year 2589, humanity had conquered the stars and\n",
    "fractured the fabric of time itself. Known as the\n",
    "\"Chronomancers,\" a select group of scientists harnessed\n",
    "temporal energy, allowing them to traverse time and alter\n",
    "its course. The story revolves around this concept.\n",
    "\n",
    "Approach #2:\n",
    "The story appears to be about a conspiracy or plot to\n",
    "rewrite human history, with Kaden as the main character who\n",
    "realizes the stakes are higher than initially thought. The\n",
    "context suggests a mix of science fiction and mystery\n",
    "elements.\n"
   ]
  },
  {
   "cell_type": "code",
   "execution_count": null,
   "metadata": {},
   "outputs": [],
   "source": []
  },
  {
   "cell_type": "code",
   "execution_count": null,
   "metadata": {},
   "outputs": [],
   "source": []
  },
  {
   "cell_type": "code",
   "execution_count": null,
   "metadata": {},
   "outputs": [],
   "source": []
  }
 ],
 "metadata": {
  "kernelspec": {
   "display_name": "common-venv",
   "language": "python",
   "name": "common-venv"
  },
  "language_info": {
   "codemirror_mode": {
    "name": "ipython",
    "version": 3
   },
   "file_extension": ".py",
   "mimetype": "text/x-python",
   "name": "python",
   "nbconvert_exporter": "python",
   "pygments_lexer": "ipython3",
   "version": "3.12.2"
  }
 },
 "nbformat": 4,
 "nbformat_minor": 2
}
