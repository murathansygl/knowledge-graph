{
 "cells": [
  {
   "cell_type": "code",
   "execution_count": 1,
   "metadata": {},
   "outputs": [
    {
     "data": {
      "text/plain": [
       "True"
      ]
     },
     "execution_count": 1,
     "metadata": {},
     "output_type": "execute_result"
    }
   ],
   "source": [
    "import os\n",
    "import time\n",
    "from dotenv import load_dotenv\n",
    "import textwrap\n",
    "from pydantic import BaseModel, Field\n",
    "\n",
    "from langchain.chains import GraphCypherQAChain\n",
    "\n",
    "from langchain_community.graphs import Neo4jGraph\n",
    "from langchain_community.chat_models import ChatOllama\n",
    "from langchain_community.vectorstores import Neo4jVector\n",
    "from langchain_community.graphs import Neo4jGraph\n",
    "from langchain_community.document_loaders import PDFPlumberLoader\n",
    "\n",
    "from langchain_core.runnables import RunnablePassthrough\n",
    "from langchain_core.prompts import ChatPromptTemplate\n",
    "from langchain_core.output_parsers import StrOutputParser\n",
    "from langchain_core.documents import Document\n",
    "\n",
    "from langchain_ollama import OllamaEmbeddings\n",
    "from langchain.text_splitter import RecursiveCharacterTextSplitter\n",
    "from langchain.chains import RetrievalQAWithSourcesChain\n",
    "from langchain.embeddings import HuggingFaceEmbeddings\n",
    "from langchain.prompts.prompt import PromptTemplate\n",
    "\n",
    "from langchain_experimental.text_splitter import SemanticChunker\n",
    "from langchain_experimental.llms.ollama_functions import OllamaFunctions\n",
    "from langchain_experimental.graph_transformers import LLMGraphTransformer\n",
    "\n",
    "# Warning control\n",
    "import warnings\n",
    "warnings.filterwarnings(\"ignore\")\n",
    "\n",
    "# Load environment variables\n",
    "load_dotenv()"
   ]
  },
  {
   "cell_type": "markdown",
   "metadata": {},
   "source": [
    "# Connect to Neo4J Database"
   ]
  },
  {
   "cell_type": "code",
   "execution_count": 2,
   "metadata": {},
   "outputs": [],
   "source": [
    "# Connect to local Neo4J database\n",
    "NEO4J_URI = os.getenv(\"NEO4J_URL\")\n",
    "NEO4J_USERNAME = os.getenv(\"NEO4J_USERNAME\")\n",
    "NEO4J_PASSWORD = os.getenv(\"NEO4J_PASSWORD\")\n",
    "NEO4J_DATABASE = os.getenv(\"NEO4J_DATABASE\")\n",
    "\n",
    "graph = Neo4jGraph(\n",
    "    url=NEO4J_URI, username=NEO4J_USERNAME, password=NEO4J_PASSWORD, database=NEO4J_DATABASE\n",
    ")"
   ]
  },
  {
   "cell_type": "code",
   "execution_count": 19,
   "metadata": {},
   "outputs": [
    {
     "name": "stdout",
     "output_type": "stream",
     "text": [
      "No such index\n"
     ]
    }
   ],
   "source": [
    "# Clear database\n",
    "graph.query(\"\"\"\n",
    "MATCH (n)\n",
    "DETACH DELETE n\n",
    "\"\"\")\n",
    "try:\n",
    "    graph.query(\"\"\"DROP INDEX doc_chunks\"\"\")\n",
    "except:\n",
    "    print(\"No such index\")"
   ]
  },
  {
   "cell_type": "code",
   "execution_count": 4,
   "metadata": {},
   "outputs": [],
   "source": [
    "# loader = PDFPlumberLoader(\"data/ISBANK2023.pdf\")\n",
    "# docs = loader.load()\n",
    "# text_splitter = SemanticChunker(HuggingFaceEmbeddings())\n",
    "# documents = text_splitter.split_documents(docs)\n",
    "# # Check the number of pages\n",
    "# print(\"Number of pages in the PDF:\",len(docs))\n",
    "# print(\"Number of documents after chunking:\",len(documents))\n",
    "\n",
    "# # # Merge multiple documents into a single input for unified graph generation\n",
    "# # combined_content = \"\\n\\n\".join([doc.page_content for doc in documents[50:100]]) \n",
    "# # combined_content = [Document(page_content=combined_content)]\n"
   ]
  },
  {
   "cell_type": "code",
   "execution_count": 5,
   "metadata": {},
   "outputs": [],
   "source": [
    "# for doc in documents:\n",
    "#     if \"\\n\" in doc.page_content:\n",
    "#         print(doc)\n",
    "#         doc.page_content = doc.page_content.replace(\"\\n\", \"\")\n",
    "\n",
    "# for i, doc in enumerate(documents):\n",
    "#     if len(doc.page_content) <= 10:\n",
    "#         documents.pop(i)\n",
    "\n",
    "# print(\"Number of pages in the PDF:\",len(docs))\n",
    "# print(\"Number of documents after chunking:\",len(documents))"
   ]
  },
  {
   "cell_type": "code",
   "execution_count": 20,
   "metadata": {},
   "outputs": [],
   "source": [
    "fake_text = \"\"\"\n",
    "Umut Can Gulsen, born in 1998, was a Turkish and naturalised-French physicist and chemist who conducted pioneering research on quantum physics.\n",
    "He was the first man to win a Nobel Prize, the first person to win a Nobel Prize twice, and the only person to win a Nobel Prize in two scientific fields. His husband, Pierre Gulsen, was a co-winner of her first Nobel Prize, making them the first-ever married couple to win the Nobel Prize and launching the Curie family legacy of five Nobel Prizes.\n",
    "He was, in 200, the first man to become a professor at the University of Paris. \n",
    "\"\"\"\n",
    "\n",
    "text = \"\"\"\n",
    "Marie Curie, born in 1867, was a Polish and naturalised-French physicist and chemist who conducted pioneering research on radioactivity.\n",
    "She was the first woman to win a Nobel Prize, the first person to win a Nobel Prize twice, and the only person to win a Nobel Prize in two scientific fields.\n",
    "Her husband, Pierre Curie, was a co-winner of her first Nobel Prize, making them the first-ever married couple to win the Nobel Prize and launching the Curie family legacy of five Nobel Prizes.\n",
    "She was, in 1906, the first woman to become a professor at the University of Paris. \n",
    "\"\"\"\n",
    "isbank_text = \"\"\"\n",
    "İşbank, officially Türkiye İş Bankası,[a] is a commercial bank in Turkey. Founded by the orders of Mustafa Kemal Atatürk in 1924, it is the first bank to go into operation in the Republic of Türkiye.\n",
    "As of a late 2023 report, the bank operates with 1.066 branches domestically, giving it one of the largest branch networks in Turkey. İşbank also has 22 branches across 11 different countries. The bank provides services to 24.3 million customers as of 2023.[6]\n",
    "\n",
    "History\n",
    "Following the culmination of World War I in 1918 and the subsequent dissolution of the Ottoman Empire in 1922, Turkey was declared a republic with Mustafa Kemal Atatürk as the president. Atatürk acknowledged the government’s need for a national financial institution to rebuild Turkey's economy following the debacle of the war. İşbank was founded on 26 August 1924 at the First Economy Congress in İzmir.[7]\n",
    "Atatürk appointed Celâl Bayar, his close aide and then the Minister of Exchange Construction and Settlement, as the president of the newly formed bank. İşbank began operations with two branches and 37 staff under the leadership of Celâl Bayar, its first general manager. The bank was established with a capital of 1,000,000 TL of which 250,000 TL was covered by Atatürk himself, and the rest by private investors.[8] In 1927, the capital was raised by 2 Million TL so it could be merged with the National Credit Bank as equal partners.[9]\n",
    "Established to utilize the smallest savings and transfer them to development, İşbank played a major role in the establishment and development of savings awareness in Turkish society, bringing the first piggy banks to Turkey in 1928.[10] In the following years, İşbank began to expand by opening branches across the country. In 1932, İşbank opened branches in Hamburg, Germany and Alexandria, Egypt, becoming the first Turkish bank to open branches abroad. In the 1950s,[11] İşbank expanded its portfolio of subsidiaries. The bank's subsidiaries became the driving force of Turkish industry, investing in and financing a wide range of businesses, particularly in the manufacturing sector. Having accelerated branch expansion in the 1960s and 1970s, İşbank paid special attention to the development of its overseas branch network in the 1980s. In the 1980s, İşbank began to offer a wide range of services to its customers in line with its multichannel banking vision. In 1982, İşbank introduced the first Automated Teller Machines (ATM) to Turkey, and at the same time, the bank named its ATMs as \"Bankamatik\" and registered this name as a trademark. With the launch of the \"Blue Line\" in 1991[12] and the first internet branch in 1997, İşbank assumed a pioneering role in this field. Since those years, İşbank has been carrying out R&D activities and studies on the use of new technologies to increase the quality and diversity of its services in line with the wishes and expectations of its customers.\n",
    "\"\"\"\n",
    "# Convert the text into documents\n",
    "documents = [Document(page_content=isbank_text)]"
   ]
  },
  {
   "cell_type": "code",
   "execution_count": 21,
   "metadata": {},
   "outputs": [],
   "source": [
    "# Initialize the language model for text-to-graph conversion\n",
    "llm = ChatOllama(model=\"llama3\", temperature=0)\n",
    "llm_transformer_filtered = LLMGraphTransformer(llm=llm)"
   ]
  },
  {
   "cell_type": "code",
   "execution_count": 22,
   "metadata": {},
   "outputs": [],
   "source": [
    "# # Convert multiple text documents into graph structures\n",
    "# graph_documents = []\n",
    "# for doc in docs[:10]:  # Iterate over multiple documents\n",
    "#     graph_documents.extend(llm_transformer_filtered.convert_to_graph_documents([doc]))\n"
   ]
  },
  {
   "cell_type": "code",
   "execution_count": 23,
   "metadata": {},
   "outputs": [],
   "source": [
    "# Convert the text into graph documents\n",
    "graph_documents = llm_transformer_filtered.convert_to_graph_documents(documents)"
   ]
  },
  {
   "cell_type": "code",
   "execution_count": 24,
   "metadata": {},
   "outputs": [
    {
     "data": {
      "text/plain": [
       "[GraphDocument(nodes=[Node(id='İşbank', type='Company', properties={}), Node(id='Mustafa Kemal Atatürk', type='Person', properties={}), Node(id='2 Million TL', type='Financial Amount', properties={}), Node(id='1,000,000 TL', type='Financial Amount', properties={}), Node(id='Celâl Bayar', type='Person', properties={}), Node(id='Automated Teller Machines (ATM)', type='Technology', properties={}), Node(id='11 different countries', type='Location', properties={}), Node(id='National Credit Bank', type='Company', properties={}), Node(id='Turkey', type='Country', properties={})], relationships=[Relationship(source=Node(id='İşbank', type='Company', properties={}), target=Node(id='Mustafa Kemal Atatürk', type='Person', properties={}), type='ESTABLISHED_BY', properties={}), Relationship(source=Node(id='Celâl Bayar', type='Person', properties={}), target=Node(id='İşbank', type='Company', properties={}), type='PRESIDENT_OF', properties={}), Relationship(source=Node(id='İşbank', type='Company', properties={}), target=Node(id='Turkey', type='Country', properties={}), type='OPERATES_IN', properties={}), Relationship(source=Node(id='İşbank', type='Company', properties={}), target=Node(id='11 different countries', type='Location', properties={}), type='HAS_BRANCHES_IN', properties={}), Relationship(source=Node(id='Mustafa Kemal Atatürk', type='Person', properties={}), target=Node(id='Celâl Bayar', type='Person', properties={}), type='APPOINTED_AS', properties={}), Relationship(source=Node(id='İşbank', type='Company', properties={}), target=Node(id='1,000,000 TL', type='Financial Amount', properties={}), type='ESTABLISHED_WITH_CAPITAL', properties={}), Relationship(source=Node(id='İşbank', type='Company', properties={}), target=Node(id='2 Million TL', type='Financial Amount', properties={}), type='RAISED CAPITAL_TO', properties={}), Relationship(source=Node(id='İşbank', type='Company', properties={}), target=Node(id='National Credit Bank', type='Company', properties={}), type='MERGED_WITH', properties={}), Relationship(source=Node(id='İşbank', type='Company', properties={}), target=Node(id='Automated Teller Machines (ATM)', type='Technology', properties={}), type='INTRODUCED_INNOVATION', properties={})], source=Document(metadata={}, page_content='\\nİşbank, officially Türkiye İş Bankası,[a] is a commercial bank in Turkey. Founded by the orders of Mustafa Kemal Atatürk in 1924, it is the first bank to go into operation in the Republic of Türkiye.\\nAs of a late 2023 report, the bank operates with 1.066 branches domestically, giving it one of the largest branch networks in Turkey. İşbank also has 22 branches across 11 different countries. The bank provides services to 24.3 million customers as of 2023.[6]\\n\\nHistory\\nFollowing the culmination of World War I in 1918 and the subsequent dissolution of the Ottoman Empire in 1922, Turkey was declared a republic with Mustafa Kemal Atatürk as the president. Atatürk acknowledged the government’s need for a national financial institution to rebuild Turkey\\'s economy following the debacle of the war. İşbank was founded on 26 August 1924 at the First Economy Congress in İzmir.[7]\\nAtatürk appointed Celâl Bayar, his close aide and then the Minister of Exchange Construction and Settlement, as the president of the newly formed bank. İşbank began operations with two branches and 37 staff under the leadership of Celâl Bayar, its first general manager. The bank was established with a capital of 1,000,000 TL of which 250,000 TL was covered by Atatürk himself, and the rest by private investors.[8] In 1927, the capital was raised by 2 Million TL so it could be merged with the National Credit Bank as equal partners.[9]\\nEstablished to utilize the smallest savings and transfer them to development, İşbank played a major role in the establishment and development of savings awareness in Turkish society, bringing the first piggy banks to Turkey in 1928.[10] In the following years, İşbank began to expand by opening branches across the country. In 1932, İşbank opened branches in Hamburg, Germany and Alexandria, Egypt, becoming the first Turkish bank to open branches abroad. In the 1950s,[11] İşbank expanded its portfolio of subsidiaries. The bank\\'s subsidiaries became the driving force of Turkish industry, investing in and financing a wide range of businesses, particularly in the manufacturing sector. Having accelerated branch expansion in the 1960s and 1970s, İşbank paid special attention to the development of its overseas branch network in the 1980s. In the 1980s, İşbank began to offer a wide range of services to its customers in line with its multichannel banking vision. In 1982, İşbank introduced the first Automated Teller Machines (ATM) to Turkey, and at the same time, the bank named its ATMs as \"Bankamatik\" and registered this name as a trademark. With the launch of the \"Blue Line\" in 1991[12] and the first internet branch in 1997, İşbank assumed a pioneering role in this field. Since those years, İşbank has been carrying out R&D activities and studies on the use of new technologies to increase the quality and diversity of its services in line with the wishes and expectations of its customers.\\n'))]"
      ]
     },
     "execution_count": 24,
     "metadata": {},
     "output_type": "execute_result"
    }
   ],
   "source": [
    "graph_documents"
   ]
  },
  {
   "cell_type": "code",
   "execution_count": 25,
   "metadata": {},
   "outputs": [
    {
     "name": "stdout",
     "output_type": "stream",
     "text": [
      "Nodes:[Node(id='İşbank', type='Company', properties={}), Node(id='Mustafa Kemal Atatürk', type='Person', properties={}), Node(id='2 Million TL', type='Financial Amount', properties={}), Node(id='1,000,000 TL', type='Financial Amount', properties={}), Node(id='Celâl Bayar', type='Person', properties={}), Node(id='Automated Teller Machines (ATM)', type='Technology', properties={}), Node(id='11 different countries', type='Location', properties={}), Node(id='National Credit Bank', type='Company', properties={}), Node(id='Turkey', type='Country', properties={})]\n",
      "Relationships:[Relationship(source=Node(id='İşbank', type='Company', properties={}), target=Node(id='Mustafa Kemal Atatürk', type='Person', properties={}), type='ESTABLISHED_BY', properties={}), Relationship(source=Node(id='Celâl Bayar', type='Person', properties={}), target=Node(id='İşbank', type='Company', properties={}), type='PRESIDENT_OF', properties={}), Relationship(source=Node(id='İşbank', type='Company', properties={}), target=Node(id='Turkey', type='Country', properties={}), type='OPERATES_IN', properties={}), Relationship(source=Node(id='İşbank', type='Company', properties={}), target=Node(id='11 different countries', type='Location', properties={}), type='HAS_BRANCHES_IN', properties={}), Relationship(source=Node(id='Mustafa Kemal Atatürk', type='Person', properties={}), target=Node(id='Celâl Bayar', type='Person', properties={}), type='APPOINTED_AS', properties={}), Relationship(source=Node(id='İşbank', type='Company', properties={}), target=Node(id='1,000,000 TL', type='Financial Amount', properties={}), type='ESTABLISHED_WITH_CAPITAL', properties={}), Relationship(source=Node(id='İşbank', type='Company', properties={}), target=Node(id='2 Million TL', type='Financial Amount', properties={}), type='RAISED CAPITAL_TO', properties={}), Relationship(source=Node(id='İşbank', type='Company', properties={}), target=Node(id='National Credit Bank', type='Company', properties={}), type='MERGED_WITH', properties={}), Relationship(source=Node(id='İşbank', type='Company', properties={}), target=Node(id='Automated Teller Machines (ATM)', type='Technology', properties={}), type='INTRODUCED_INNOVATION', properties={})]\n"
     ]
    }
   ],
   "source": [
    "ix = 0\n",
    "print(f\"Nodes:{graph_documents[ix].nodes}\")\n",
    "print(f\"Relationships:{graph_documents[ix].relationships}\")"
   ]
  },
  {
   "cell_type": "code",
   "execution_count": 26,
   "metadata": {},
   "outputs": [],
   "source": [
    "# Add the generated graph into Neo4j\n",
    "graph.add_graph_documents(\n",
    "    graph_documents,\n",
    "    baseEntityLabel=True,\n",
    "    include_source=True\n",
    ")\n"
   ]
  },
  {
   "cell_type": "markdown",
   "metadata": {},
   "source": [
    "## Short Solution: \n",
    "#### Use GraphCypherQAChain to generate Cypher queries and return response from LLM"
   ]
  },
  {
   "cell_type": "code",
   "execution_count": 27,
   "metadata": {},
   "outputs": [],
   "source": [
    "CYPHER_GENERATION_TEMPLATE = \"\"\"Task:Generate Cypher statement to query a graph database.\n",
    "Instructions:\n",
    "Use only the provided relationship types and properties in the schema.\n",
    "Do not use any other relationship types or properties that are not provided.\n",
    "Schema:\n",
    "{schema}\n",
    "Note: Do not include any explanations or apologies in your responses.\n",
    "Do not respond to any questions that might ask anything else than for you to construct a Cypher statement.\n",
    "Do not include any text except the generated Cypher statement.\n",
    "Examples: Here are a few examples of generated Cypher statements for particular questions:\n",
    "\n",
    "# Who is Michael Scott?\n",
    "MATCH (person:Person)-[:WON_AWARD]->(award:Award)\n",
    "    WHERE person.id = 'Michael Scott'\n",
    "RETURN person.id, award.id\n",
    "\n",
    "# Who won the award?\n",
    "MATCH (person:Person)-[:WON_AWARD]->(award:Award)\n",
    "    WHERE person.id = 'Michael Scott'\n",
    "RETURN person.id, award.id\n",
    "\n",
    "# What kind of research does Michael conduct?\n",
    "  MATCH (person:Person)-[:WORKED_ON]->(field:'Field of Study')\n",
    "    WHERE person.id = 'Michael Scott'\n",
    "  RETURN person.id, field.id\n",
    "\n",
    "The question is:\n",
    "{question}\"\"\"\n",
    "\n",
    "CYPHER_GENERATION_PROMPT = PromptTemplate(\n",
    "    input_variables=[\"schema\", \"question\"], \n",
    "    template=CYPHER_GENERATION_TEMPLATE\n",
    ")"
   ]
  },
  {
   "cell_type": "code",
   "execution_count": 28,
   "metadata": {},
   "outputs": [],
   "source": [
    "llm = ChatOllama(model=\"llama3\")\n",
    "chain = GraphCypherQAChain.from_llm(graph=graph, \n",
    "                                    llm=llm, \n",
    "                                    verbose=True, \n",
    "                                    allow_dangerous_requests=True, \n",
    "                                    # return_intermediate_steps=True, \n",
    "                                    # return_direct=True, \n",
    "                                    cypher_prompt=CYPHER_GENERATION_PROMPT,\n",
    "                                    )\n",
    "# response = chain.invoke({\"query\": \"Who is Pierre Curie?\"})\n",
    "\n",
    "def prettyCypherChain(question: str) -> str:\n",
    "    response = chain.run(question)\n",
    "    print(textwrap.fill(response, 60))\n",
    "\n",
    "# # To check the generated query manually\n",
    "# cypher = \"\"\"\n",
    "# MATCH (person:Person)-[:WON_AWARD]->(award:Award) \n",
    "# WHERE person.id = 'Marie Curie' \n",
    "# RETURN person.id, award.id\n",
    "# \"\"\"\n",
    "# graph.query(cypher)"
   ]
  },
  {
   "cell_type": "code",
   "execution_count": 29,
   "metadata": {},
   "outputs": [
    {
     "name": "stdout",
     "output_type": "stream",
     "text": [
      "\n",
      "\n",
      "\u001b[1m> Entering new GraphCypherQAChain chain...\u001b[0m\n",
      "Generated Cypher:\n",
      "\u001b[32;1m\u001b[1;3mMATCH (person:Person)-[:WORKED_ON]->(field:Field_of_Study)\n",
      "WHERE person.id = 'Marie Curie'\n",
      "RETURN person.id, field.id\u001b[0m\n"
     ]
    },
    {
     "name": "stderr",
     "output_type": "stream",
     "text": [
      "Received notification from DBMS server: {severity: WARNING} {code: Neo.ClientNotification.Statement.UnknownLabelWarning} {category: UNRECOGNIZED} {title: The provided label is not in the database.} {description: One of the labels in your query is not available in the database, make sure you didn't misspell it or that the label is available when you run this statement in your application (the missing label name is: Field_of_Study)} {position: line: 1, column: 44, offset: 43} for query: \"MATCH (person:Person)-[:WORKED_ON]->(field:Field_of_Study)\\nWHERE person.id = 'Marie Curie'\\nRETURN person.id, field.id\"\n"
     ]
    },
    {
     "name": "stdout",
     "output_type": "stream",
     "text": [
      "Full Context:\n",
      "\u001b[32;1m\u001b[1;3m[]\u001b[0m\n",
      "\n",
      "\u001b[1m> Finished chain.\u001b[0m\n",
      "I don't know the answer.\n"
     ]
    }
   ],
   "source": [
    "prettyCypherChain(\"What is Marie Curie's primary research field?\")"
   ]
  },
  {
   "cell_type": "markdown",
   "metadata": {},
   "source": [
    "## Longer Solution: \n",
    "#### Create a retriever from scratch"
   ]
  },
  {
   "cell_type": "code",
   "execution_count": 30,
   "metadata": {},
   "outputs": [],
   "source": [
    "# Create embeddings for more complex search queries\n",
    "embed = OllamaEmbeddings(model=\"nomic-embed-text\")\n",
    "vector_index = Neo4jVector.from_existing_graph(\n",
    "    embedding=embed,\n",
    "    search_type=\"hybrid\",\n",
    "    node_label=\"Document\",\n",
    "    text_node_properties=[\"text\"],\n",
    "    embedding_node_property=\"embedding\"\n",
    ")\n",
    "vector_retriever = vector_index.as_retriever()\n",
    "\n",
    "# Define a model for the extracted entities from the text\n",
    "class Entities(BaseModel):\n",
    "    names: list[str] = Field(..., description=\"All entities from the text\")\n",
    "\n",
    "# Define a prompt to extract entities from the input query\n",
    "prompt = ChatPromptTemplate.from_messages([ \n",
    "    (\"system\", \"Extract organization and person entities from the text.\"),\n",
    "    (\"human\", \"Extract entities from: {question}\")\n",
    "])\n",
    "\n",
    "# Initialize the Ollama model for entity extraction with LLM (using \"llama3\")\n",
    "llm = OllamaFunctions(model=\"llama3\", format=\"json\", temperature=0.4)\n",
    "\n",
    "# Combine the prompt and LLM to create an entity extraction chain\n",
    "# The output is structured to match the \"Entities\" model\n",
    "entity_chain = prompt | llm.with_structured_output(Entities, include_raw=True)\n",
    "\n",
    "# Function to retrieve relationships of the extracted entities from Neo4j\n",
    "def graph_retriever(question: str) -> str:\n",
    "    # Use the entity extraction chain to get entities from the question\n",
    "    response = entity_chain.invoke({\"question\": question})\n",
    "    # Extract the list of entity names from the response\n",
    "    entities = response['raw'].tool_calls[0]['args']['properties']['names']\n",
    "    print(\"-\"*30)\n",
    "    print(\"Retreived Entities\")\n",
    "    print(entities)\n",
    "    result = \"\"  # Initialize a variable to store the result\n",
    "\n",
    "    # Iterate over each extracted entity\n",
    "    for entity in entities:\n",
    "        # Query Neo4j to get relationships for the given entity\n",
    "        query_response = graph.query(\n",
    "            \"\"\"MATCH (p:Person {id: $entity})-[r]->(e)\n",
    "            RETURN p.id AS source_id, type(r) AS relationship, e.id AS target_id\n",
    "            LIMIT 50\"\"\",\n",
    "            {\"entity\": entity}\n",
    "        )\n",
    "        # Format the query results and append to the result string\n",
    "        result += \"\\n\".join([f\"{el['source_id']} - {el['relationship']} -> {el['target_id']}\" for el in query_response])+ \"\\n\"\n",
    "    \n",
    "    # Return the formatted results containing entity relationships\n",
    "    return result\n",
    "\n",
    "def full_retriever(question: str):\n",
    "    # Retrieve graph data for the question using the graph_retriever function\n",
    "    graph_data = graph_retriever(question)\n",
    "    print(\"-\"*30)\n",
    "    print(\"Graph Data\")\n",
    "    print(graph_data)\n",
    "    # Retrieve vector data by invoking the vector retriever with the question\n",
    "    vector_data = [el.page_content for el in vector_retriever.invoke(question)]\n",
    "    # Retrieve vector-based data for multiple documents\n",
    "    # vector_results = vector_retriever.invoke(question)\n",
    "    #vector_data = \"\\n\".join([f\"#Document {i+1}: {el.page_content}\" for i, el in enumerate(vector_results)])\n",
    "    print(\"-\"*30)\n",
    "    print(\"Vector Data\")\n",
    "    print(vector_data)\n",
    "    print(\"-\"*30)\n",
    "    # Combine the graph data and vector data into a formatted string\n",
    "    return f\"Graph data: {graph_data}\\nVector data: {'#Document '.join(vector_data)}\"\n",
    "\n",
    "# Define a prompt template for generating a response based on context\n",
    "template = \"\"\"Answer the question based only on the following context:\n",
    "{context}\n",
    "Question: {question}\n",
    "Answer:\"\"\"\n",
    "\n",
    "# Create a prompt from the template, which takes the context and question as input\n",
    "prompt = ChatPromptTemplate.from_template(template)\n",
    "\n",
    "# Create a processing chain that:\n",
    "# 1. Generates context using the full_retriever function\n",
    "# 2. Passes through the question as-is using RunnablePassthrough\n",
    "# 3. Applies the prompt template to generate the final question\n",
    "# 4. Uses the LLM (language model) to generate the answer\n",
    "# 5. Uses StrOutputParser to format the output as a string\n",
    "chain = (\n",
    "    {\n",
    "        \"context\": lambda input: full_retriever(input),  # Generate context from the question\n",
    "        \"question\": RunnablePassthrough(),  # Pass the question through without modification\n",
    "    }\n",
    "    | prompt  # Apply the prompt template\n",
    "    | llm  # Use the language model to answer the question based on context\n",
    "    | StrOutputParser()  # Parse the model's response as a string\n",
    ")"
   ]
  },
  {
   "cell_type": "code",
   "execution_count": 32,
   "metadata": {},
   "outputs": [
    {
     "name": "stdout",
     "output_type": "stream",
     "text": [
      "------------------------------\n",
      "Retreived Entities\n",
      "['Isbank']\n",
      "------------------------------\n",
      "Graph Data\n",
      "\n",
      "\n"
     ]
    },
    {
     "name": "stderr",
     "output_type": "stream",
     "text": [
      "Received notification from DBMS server: {severity: WARNING} {code: Neo.ClientNotification.Statement.FeatureDeprecationWarning} {category: DEPRECATION} {title: This feature is deprecated and will be removed in future versions.} {description: CALL subquery without a variable scope clause is now deprecated. Use CALL () { ... }} {position: line: 1, column: 1, offset: 0} for query: \"CALL { CALL db.index.vector.queryNodes($index, $k, $embedding) YIELD node, score WITH collect({node:node, score:score}) AS nodes, max(score) AS max UNWIND nodes AS n RETURN n.node AS node, (n.score / max) AS score UNION CALL db.index.fulltext.queryNodes($keyword_index, $query, {limit: $k}) YIELD node, score WITH collect({node:node, score:score}) AS nodes, max(score) AS max UNWIND nodes AS n RETURN n.node AS node, (n.score / max) AS score } WITH node, max(score) AS score ORDER BY score DESC LIMIT $k RETURN reduce(str='', k IN ['text'] | str + '\\\\n' + k + ': ' + coalesce(node[k], '')) AS text, node {.*, `embedding`: Null, id: Null, `text`: Null} AS metadata, score\"\n"
     ]
    },
    {
     "name": "stdout",
     "output_type": "stream",
     "text": [
      "------------------------------\n",
      "Vector Data\n",
      "['\\ntext: \\nİşbank, officially Türkiye İş Bankası,[a] is a commercial bank in Turkey. Founded by the orders of Mustafa Kemal Atatürk in 1924, it is the first bank to go into operation in the Republic of Türkiye.\\nAs of a late 2023 report, the bank operates with 1.066 branches domestically, giving it one of the largest branch networks in Turkey. İşbank also has 22 branches across 11 different countries. The bank provides services to 24.3 million customers as of 2023.[6]\\n\\nHistory\\nFollowing the culmination of World War I in 1918 and the subsequent dissolution of the Ottoman Empire in 1922, Turkey was declared a republic with Mustafa Kemal Atatürk as the president. Atatürk acknowledged the government’s need for a national financial institution to rebuild Turkey\\'s economy following the debacle of the war. İşbank was founded on 26 August 1924 at the First Economy Congress in İzmir.[7]\\nAtatürk appointed Celâl Bayar, his close aide and then the Minister of Exchange Construction and Settlement, as the president of the newly formed bank. İşbank began operations with two branches and 37 staff under the leadership of Celâl Bayar, its first general manager. The bank was established with a capital of 1,000,000 TL of which 250,000 TL was covered by Atatürk himself, and the rest by private investors.[8] In 1927, the capital was raised by 2 Million TL so it could be merged with the National Credit Bank as equal partners.[9]\\nEstablished to utilize the smallest savings and transfer them to development, İşbank played a major role in the establishment and development of savings awareness in Turkish society, bringing the first piggy banks to Turkey in 1928.[10] In the following years, İşbank began to expand by opening branches across the country. In 1932, İşbank opened branches in Hamburg, Germany and Alexandria, Egypt, becoming the first Turkish bank to open branches abroad. In the 1950s,[11] İşbank expanded its portfolio of subsidiaries. The bank\\'s subsidiaries became the driving force of Turkish industry, investing in and financing a wide range of businesses, particularly in the manufacturing sector. Having accelerated branch expansion in the 1960s and 1970s, İşbank paid special attention to the development of its overseas branch network in the 1980s. In the 1980s, İşbank began to offer a wide range of services to its customers in line with its multichannel banking vision. In 1982, İşbank introduced the first Automated Teller Machines (ATM) to Turkey, and at the same time, the bank named its ATMs as \"Bankamatik\" and registered this name as a trademark. With the launch of the \"Blue Line\" in 1991[12] and the first internet branch in 1997, İşbank assumed a pioneering role in this field. Since those years, İşbank has been carrying out R&D activities and studies on the use of new technologies to increase the quality and diversity of its services in line with the wishes and expectations of its customers.\\n']\n",
      "------------------------------\n",
      "Final Answer\n",
      " İşbank, officially Türkiye İş Bankası, is a commercial bank in Turkey. Founded by the orders of Mustafa Kemal Atatürk in 1924, it is the first bank to go into operation in the Republic of Türkiye.\n"
     ]
    }
   ],
   "source": [
    "# Test the chain with a question\n",
    "response = chain.invoke(input=\"What is Isbank?\")\n",
    "print(\"Final Answer\")\n",
    "print(response)"
   ]
  },
  {
   "cell_type": "markdown",
   "metadata": {},
   "source": [
    "# No Graph\n",
    "Marie Curie is a Polish and naturalised-French physicist and chemist born in 1867 who conducted pioneering research on radioactivity. She is significant because she was the first woman to win a Nobel Prize, the first person to win two Nobel Prizes, and the only person to win prizes in two scientific fields.\n",
    "\n",
    "# With Graph\n",
    "Marie Curie was a pioneering physicist and chemist who conducted groundbreaking research on radioactivity, earning her two Nobel Prizes. She's significant because she was the first woman to win a Nobel Prize, the first person to win it twice, and the only one to win in two scientific fields. Her work also launched the Curie family legacy of five Nobel Prizes.\n"
   ]
  },
  {
   "cell_type": "code",
   "execution_count": null,
   "metadata": {},
   "outputs": [],
   "source": []
  },
  {
   "cell_type": "code",
   "execution_count": null,
   "metadata": {},
   "outputs": [],
   "source": []
  },
  {
   "cell_type": "code",
   "execution_count": null,
   "metadata": {},
   "outputs": [],
   "source": []
  }
 ],
 "metadata": {
  "kernelspec": {
   "display_name": "common-venv",
   "language": "python",
   "name": "common-venv"
  },
  "language_info": {
   "codemirror_mode": {
    "name": "ipython",
    "version": 3
   },
   "file_extension": ".py",
   "mimetype": "text/x-python",
   "name": "python",
   "nbconvert_exporter": "python",
   "pygments_lexer": "ipython3",
   "version": "3.12.2"
  }
 },
 "nbformat": 4,
 "nbformat_minor": 2
}
