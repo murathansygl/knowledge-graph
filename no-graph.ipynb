{
 "cells": [
  {
   "cell_type": "code",
   "execution_count": 2,
   "metadata": {},
   "outputs": [
    {
     "data": {
      "text/plain": [
       "True"
      ]
     },
     "execution_count": 2,
     "metadata": {},
     "output_type": "execute_result"
    }
   ],
   "source": [
    "# Common data processing\n",
    "import os\n",
    "import textwrap\n",
    "import pandas as pd\n",
    "from dotenv import load_dotenv\n",
    "import ollama\n",
    "\n",
    "# Langchain\n",
    "from langchain_core.documents import Document\n",
    "from langchain.text_splitter import RecursiveCharacterTextSplitter\n",
    "from langchain.chains import RetrievalQAWithSourcesChain\n",
    "from langchain.embeddings import HuggingFaceEmbeddings\n",
    "from langchain_experimental.text_splitter import SemanticChunker\n",
    "from langchain_ollama import OllamaEmbeddings\n",
    "# Warning control\n",
    "import warnings\n",
    "warnings.filterwarnings(\"ignore\")\n",
    "\n",
    "# Load environment variables\n",
    "load_dotenv()"
   ]
  },
  {
   "cell_type": "code",
   "execution_count": 3,
   "metadata": {},
   "outputs": [],
   "source": [
    "from langchain.vectorstores import FAISS\n",
    "from langchain.docstore.document import Document\n",
    "from langchain.chains import RetrievalQA\n",
    "from sentence_transformers import SentenceTransformer\n",
    "import numpy as np"
   ]
  },
  {
   "cell_type": "code",
   "execution_count": 20,
   "metadata": {},
   "outputs": [],
   "source": [
    "fake_text = \"\"\"\n",
    "Umut Can Gulsen, born in 1998, was a Turkish and naturalised-French physicist and chemist who conducted pioneering research on quantum physics.\n",
    "He was the first man to win a Nobel Prize, the first person to win a Nobel Prize twice, and the only person to win a Nobel Prize in two scientific fields. His husband, Pierre Gulsen, was a co-winner of her first Nobel Prize, making them the first-ever married couple to win the Nobel Prize and launching the Curie family legacy of five Nobel Prizes.\n",
    "He was, in 200, the first man to become a professor at the University of Paris. \n",
    "\"\"\"\n",
    "\n",
    "text = \"\"\"\n",
    "Marie Curie, born in 1867, was a Polish and naturalised-French physicist and chemist who conducted pioneering research on radioactivity.\n",
    "She was the first woman to win a Nobel Prize, the first person to win a Nobel Prize twice, and the only person to win a Nobel Prize in two scientific fields.\n",
    "Her husband, Pierre Curie, was a co-winner of her first Nobel Prize, making them the first-ever married couple to win the Nobel Prize and launching the Curie family legacy of five Nobel Prizes.\n",
    "She was, in 1906, the first woman to become a professor at the University of Paris. \n",
    "\"\"\"\n",
    "isbank_text = \"\"\"\n",
    "İşbank, officially Türkiye İş Bankası,[a] is a commercial bank in Turkey. Founded by the orders of Mustafa Kemal Atatürk in 1924, it is the first bank to go into operation in the Republic of Türkiye.\n",
    "As of a late 2023 report, the bank operates with 1.066 branches domestically, giving it one of the largest branch networks in Turkey. İşbank also has 22 branches across 11 different countries. The bank provides services to 24.3 million customers as of 2023.[6]\n",
    "\n",
    "History\n",
    "Following the culmination of World War I in 1918 and the subsequent dissolution of the Ottoman Empire in 1922, Turkey was declared a republic with Mustafa Kemal Atatürk as the president. Atatürk acknowledged the government’s need for a national financial institution to rebuild Turkey's economy following the debacle of the war. İşbank was founded on 26 August 1924 at the First Economy Congress in İzmir.[7]\n",
    "Atatürk appointed Celâl Bayar, his close aide and then the Minister of Exchange Construction and Settlement, as the president of the newly formed bank. İşbank began operations with two branches and 37 staff under the leadership of Celâl Bayar, its first general manager. The bank was established with a capital of 1,000,000 TL of which 250,000 TL was covered by Atatürk himself, and the rest by private investors.[8] In 1927, the capital was raised by 2 Million TL so it could be merged with the National Credit Bank as equal partners.[9]\n",
    "Established to utilize the smallest savings and transfer them to development, İşbank played a major role in the establishment and development of savings awareness in Turkish society, bringing the first piggy banks to Turkey in 1928.[10] In the following years, İşbank began to expand by opening branches across the country. In 1932, İşbank opened branches in Hamburg, Germany and Alexandria, Egypt, becoming the first Turkish bank to open branches abroad. In the 1950s,[11] İşbank expanded its portfolio of subsidiaries. The bank's subsidiaries became the driving force of Turkish industry, investing in and financing a wide range of businesses, particularly in the manufacturing sector. Having accelerated branch expansion in the 1960s and 1970s, İşbank paid special attention to the development of its overseas branch network in the 1980s. In the 1980s, İşbank began to offer a wide range of services to its customers in line with its multichannel banking vision. In 1982, İşbank introduced the first Automated Teller Machines (ATM) to Turkey, and at the same time, the bank named its ATMs as \"Bankamatik\" and registered this name as a trademark. With the launch of the \"Blue Line\" in 1991[12] and the first internet branch in 1997, İşbank assumed a pioneering role in this field. Since those years, İşbank has been carrying out R&D activities and studies on the use of new technologies to increase the quality and diversity of its services in line with the wishes and expectations of its customers.\n",
    "\"\"\"\n",
    "# Convert the text into documents\n",
    "documents = [Document(page_content=isbank_text)]"
   ]
  },
  {
   "cell_type": "code",
   "execution_count": 21,
   "metadata": {},
   "outputs": [],
   "source": [
    "# Initialize Ollama embeddings with the specified model\n",
    "embedding_model = OllamaEmbeddings(model=\"nomic-embed-text\")\n",
    "\n",
    "# Create FAISS vector store from documents\n",
    "vector_store = FAISS.from_documents(documents, embedding_model)"
   ]
  },
  {
   "cell_type": "code",
   "execution_count": 22,
   "metadata": {},
   "outputs": [],
   "source": [
    "# Load the local Ollama model\n",
    "model_name = \"llama3.1\"  # Replace with the local model you want to use in Ollama"
   ]
  },
  {
   "cell_type": "code",
   "execution_count": 23,
   "metadata": {},
   "outputs": [],
   "source": [
    "def retrieve_documents(query, vector_store, k=1):\n",
    "    # Retrieve top-k relevant documents\n",
    "    retrieved_docs = vector_store.similarity_search(query, k=k)\n",
    "    return [doc.page_content for doc in retrieved_docs]"
   ]
  },
  {
   "cell_type": "code",
   "execution_count": 24,
   "metadata": {},
   "outputs": [],
   "source": [
    "def generate_response(query, retrieved_docs, model_name):\n",
    "    # Combine the query and retrieved documents into a prompt\n",
    "    prompt = f\"Context: {retrieved_docs}\\n\\nQuestion: {query}\\nAnswer:\"\n",
    "    \n",
    "    # Use Ollama's `generate` function to get the response\n",
    "    response = ollama.generate(model=model_name, prompt=prompt)\n",
    "    return response['response']  # Adjust if necessary based on Ollama's response format"
   ]
  },
  {
   "cell_type": "code",
   "execution_count": 25,
   "metadata": {},
   "outputs": [
    {
     "name": "stdout",
     "output_type": "stream",
     "text": [
      "Isbank (officially known as Türkiye İş Bankası) is a commercial bank in Turkey.\n"
     ]
    }
   ],
   "source": [
    "# Example query\n",
    "query = \"What is Isbank?\"\n",
    "\n",
    "# Step 1: Retrieve relevant documents\n",
    "retrieved_docs = retrieve_documents(query, vector_store, k=1)\n",
    "\n",
    "# Step 2: Generate a response using Ollama\n",
    "response = generate_response(query, retrieved_docs, model_name)\n",
    "print(response)"
   ]
  },
  {
   "cell_type": "code",
   "execution_count": null,
   "metadata": {},
   "outputs": [],
   "source": []
  }
 ],
 "metadata": {
  "kernelspec": {
   "display_name": "common-venv",
   "language": "python",
   "name": "common-venv"
  },
  "language_info": {
   "codemirror_mode": {
    "name": "ipython",
    "version": 3
   },
   "file_extension": ".py",
   "mimetype": "text/x-python",
   "name": "python",
   "nbconvert_exporter": "python",
   "pygments_lexer": "ipython3",
   "version": "3.12.2"
  }
 },
 "nbformat": 4,
 "nbformat_minor": 2
}
