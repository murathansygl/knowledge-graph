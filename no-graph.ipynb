{
 "cells": [
  {
   "cell_type": "code",
   "execution_count": 2,
   "metadata": {},
   "outputs": [
    {
     "data": {
      "text/plain": [
       "True"
      ]
     },
     "execution_count": 2,
     "metadata": {},
     "output_type": "execute_result"
    }
   ],
   "source": [
    "# Common data processing\n",
    "import os\n",
    "import textwrap\n",
    "import pandas as pd\n",
    "from dotenv import load_dotenv\n",
    "import ollama\n",
    "\n",
    "# Langchain\n",
    "from langchain_core.documents import Document\n",
    "from langchain.text_splitter import RecursiveCharacterTextSplitter\n",
    "from langchain.chains import RetrievalQAWithSourcesChain\n",
    "from langchain.embeddings import HuggingFaceEmbeddings\n",
    "from langchain_experimental.text_splitter import SemanticChunker\n",
    "from langchain_ollama import OllamaEmbeddings\n",
    "# Warning control\n",
    "import warnings\n",
    "warnings.filterwarnings(\"ignore\")\n",
    "\n",
    "# Load environment variables\n",
    "load_dotenv()"
   ]
  },
  {
   "cell_type": "code",
   "execution_count": 3,
   "metadata": {},
   "outputs": [],
   "source": [
    "from langchain.vectorstores import FAISS\n",
    "from langchain.docstore.document import Document\n",
    "from langchain.chains import RetrievalQA\n",
    "from sentence_transformers import SentenceTransformer\n",
    "import numpy as np"
   ]
  },
  {
   "cell_type": "code",
   "execution_count": 20,
   "metadata": {},
   "outputs": [],
   "source": [
    "fake_text = \"\"\"\n",
    "Umut Can Gulsen, born in 1998, was a Turkish and naturalised-French physicist and chemist who conducted pioneering research on quantum physics.\n",
    "He was the first man to win a Nobel Prize, the first person to win a Nobel Prize twice, and the only person to win a Nobel Prize in two scientific fields. His husband, Pierre Gulsen, was a co-winner of her first Nobel Prize, making them the first-ever married couple to win the Nobel Prize and launching the Curie family legacy of five Nobel Prizes.\n",
    "He was, in 200, the first man to become a professor at the University of Paris. \n",
    "\"\"\"\n",
    "\n",
    "text = \"\"\"\n",
    "Marie Curie, born in 1867, was a Polish and naturalised-French physicist and chemist who conducted pioneering research on radioactivity.\n",
    "She was the first woman to win a Nobel Prize, the first person to win a Nobel Prize twice, and the only person to win a Nobel Prize in two scientific fields.\n",
    "Her husband, Pierre Curie, was a co-winner of her first Nobel Prize, making them the first-ever married couple to win the Nobel Prize and launching the Curie family legacy of five Nobel Prizes.\n",
    "She was, in 1906, the first woman to become a professor at the University of Paris. \n",
    "\"\"\"\n",
    "isbank_text = \"\"\"\n",
    "İşbank, officially Türkiye İş Bankası,[a] is a commercial bank in Turkey. Founded by the orders of Mustafa Kemal Atatürk in 1924, it is the first bank to go into operation in the Republic of Türkiye.\n",
    "As of a late 2023 report, the bank operates with 1.066 branches domestically, giving it one of the largest branch networks in Turkey. İşbank also has 22 branches across 11 different countries. The bank provides services to 24.3 million customers as of 2023.[6]\n",
    "\n",
    "History\n",
    "Following the culmination of World War I in 1918 and the subsequent dissolution of the Ottoman Empire in 1922, Turkey was declared a republic with Mustafa Kemal Atatürk as the president. Atatürk acknowledged the government’s need for a national financial institution to rebuild Turkey's economy following the debacle of the war. İşbank was founded on 26 August 1924 at the First Economy Congress in İzmir.[7]\n",
    "Atatürk appointed Celâl Bayar, his close aide and then the Minister of Exchange Construction and Settlement, as the president of the newly formed bank. İşbank began operations with two branches and 37 staff under the leadership of Celâl Bayar, its first general manager. The bank was established with a capital of 1,000,000 TL of which 250,000 TL was covered by Atatürk himself, and the rest by private investors.[8] In 1927, the capital was raised by 2 Million TL so it could be merged with the National Credit Bank as equal partners.[9]\n",
    "Established to utilize the smallest savings and transfer them to development, İşbank played a major role in the establishment and development of savings awareness in Turkish society, bringing the first piggy banks to Turkey in 1928.[10] In the following years, İşbank began to expand by opening branches across the country. In 1932, İşbank opened branches in Hamburg, Germany and Alexandria, Egypt, becoming the first Turkish bank to open branches abroad. In the 1950s,[11] İşbank expanded its portfolio of subsidiaries. The bank's subsidiaries became the driving force of Turkish industry, investing in and financing a wide range of businesses, particularly in the manufacturing sector. Having accelerated branch expansion in the 1960s and 1970s, İşbank paid special attention to the development of its overseas branch network in the 1980s. In the 1980s, İşbank began to offer a wide range of services to its customers in line with its multichannel banking vision. In 1982, İşbank introduced the first Automated Teller Machines (ATM) to Turkey, and at the same time, the bank named its ATMs as \"Bankamatik\" and registered this name as a trademark. With the launch of the \"Blue Line\" in 1991[12] and the first internet branch in 1997, İşbank assumed a pioneering role in this field. Since those years, İşbank has been carrying out R&D activities and studies on the use of new technologies to increase the quality and diversity of its services in line with the wishes and expectations of its customers.\n",
    "\"\"\"\n",
    "# Convert the text into documents\n",
    "documents = [Document(page_content=isbank_text)]"
   ]
  },
  {
   "cell_type": "code",
   "execution_count": 21,
   "metadata": {},
   "outputs": [],
   "source": [
    "# Initialize Ollama embeddings with the specified model\n",
    "embedding_model = OllamaEmbeddings(model=\"nomic-embed-text\")\n",
    "\n",
    "# Create FAISS vector store from documents\n",
    "vector_store = FAISS.from_documents(documents, embedding_model)"
   ]
  },
  {
   "cell_type": "code",
   "execution_count": 32,
   "metadata": {},
   "outputs": [],
   "source": [
    "# Load the local Ollama model\n",
    "model_name = \"llama3\"  # Replace with the local model you want to use in Ollama"
   ]
  },
  {
   "cell_type": "code",
   "execution_count": 33,
   "metadata": {},
   "outputs": [],
   "source": [
    "def retrieve_documents(query, vector_store, k=1):\n",
    "    # Retrieve top-k relevant documents\n",
    "    retrieved_docs = vector_store.similarity_search(query, k=k)\n",
    "    return [doc.page_content for doc in retrieved_docs]"
   ]
  },
  {
   "cell_type": "code",
   "execution_count": 34,
   "metadata": {},
   "outputs": [],
   "source": [
    "def generate_response(query, retrieved_docs, model_name):\n",
    "    # Combine the query and retrieved documents into a prompt\n",
    "    prompt = f\"\"\"Answer the question based only on the following context: \n",
    "    {retrieved_docs}\n",
    "    Question: {query}\n",
    "    Answer:\"\"\"\n",
    "    \n",
    "    # Use Ollama's `generate` function to get the response\n",
    "    response = ollama.generate(model=model_name, prompt=prompt)\n",
    "    return response['response']  # Adjust if necessary based on Ollama's response format"
   ]
  },
  {
   "cell_type": "code",
   "execution_count": 35,
   "metadata": {},
   "outputs": [
    {
     "name": "stdout",
     "output_type": "stream",
     "text": [
      "According to the provided context, Isbank (officially Türkiye İş Bankası) is a commercial bank in Turkey. It was founded by Mustafa Kemal Atatürk's orders in 1924 and is the first bank to operate in the Republic of Turkey.\n"
     ]
    }
   ],
   "source": [
    "# Example query\n",
    "query = \"What is Isbank?\"\n",
    "\n",
    "# Step 1: Retrieve relevant documents\n",
    "retrieved_docs = retrieve_documents(query, vector_store, k=1)\n",
    "\n",
    "# Step 2: Generate a response using Ollama\n",
    "response = generate_response(query, retrieved_docs, model_name)\n",
    "print(response)"
   ]
  },
  {
   "cell_type": "code",
   "execution_count": 36,
   "metadata": {},
   "outputs": [
    {
     "name": "stdout",
     "output_type": "stream",
     "text": [
      "Based on the given context, here are the key points that highlight the importance of İşbank for Turkey:\n",
      "\n",
      "1. **First bank in Republic of Türkiye**: İşbank was founded in 1924 by Mustafa Kemal Atatürk's orders, making it the first bank to operate in the newly established Republic of Turkey.\n",
      "2. **National financial institution**: İşbank was established to rebuild Turkey's economy after World War I and the dissolution of the Ottoman Empire.\n",
      "3. **Pioneering role in savings awareness**: İşbank played a major role in promoting savings culture in Turkish society, introducing the first piggy banks to Turkey in 1928.\n",
      "4. **Branch network expansion**: İşbank expanded its branch network across the country and internationally, making it one of the largest branch networks in Turkey (1,066 domestic branches) and abroad (22 branches in 11 countries).\n",
      "5. **Driving force of Turkish industry**: İŞbank's subsidiaries became a driving force for Turkish industry, investing and financing various businesses, particularly in manufacturing.\n",
      "6. **Innovation and technological advancements**: İşbank introduced new technologies, such as Automated Teller Machines (ATMs) in 1982, the \"Blue Line\" in 1991, and the first internet branch in 1997, making it a pioneer in multichannel banking.\n",
      "\n",
      "These points highlight İşbank's significance in Turkey's economic development, financial infrastructure, and technological advancements.\n"
     ]
    }
   ],
   "source": [
    "# Example query\n",
    "query = \"What is the importance of Isbank for Turkey? List the key points.\"\n",
    "\n",
    "# Step 1: Retrieve relevant documents\n",
    "retrieved_docs = retrieve_documents(query, vector_store, k=1)\n",
    "\n",
    "# Step 2: Generate a response using Ollama\n",
    "response = generate_response(query, retrieved_docs, model_name)\n",
    "print(response)"
   ]
  },
  {
   "cell_type": "code",
   "execution_count": null,
   "metadata": {},
   "outputs": [],
   "source": []
  },
  {
   "cell_type": "code",
   "execution_count": null,
   "metadata": {},
   "outputs": [],
   "source": []
  }
 ],
 "metadata": {
  "kernelspec": {
   "display_name": "common-venv",
   "language": "python",
   "name": "common-venv"
  },
  "language_info": {
   "codemirror_mode": {
    "name": "ipython",
    "version": 3
   },
   "file_extension": ".py",
   "mimetype": "text/x-python",
   "name": "python",
   "nbconvert_exporter": "python",
   "pygments_lexer": "ipython3",
   "version": "3.12.2"
  }
 },
 "nbformat": 4,
 "nbformat_minor": 2
}
